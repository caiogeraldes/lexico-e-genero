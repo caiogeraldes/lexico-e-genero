{
 "cells": [
  {
   "cell_type": "markdown",
   "id": "f984cc55",
   "metadata": {},
   "source": [
    "# Teste de viabilidade\n",
    "\n",
    "**Caio Geraldes, 2021**\n",
    "\n",
    "Este notebook testa a viabilidade dos algoritmos do módulo `lexicogenero`, de minha autoria, para selecionar, dividir e organizar dados de textos em prosa em grego antigo para a disciplina FLL5133-2021.\n",
    "O código fonte dos scripts utilizados aqui, bem como dos testes de qualidade estão disponíveis em meu [GitHub](https://github.com/caiogeraldes/lexico-e-genero/).\n",
    "\n",
    "## Carregamento e organização dos dados importados do Diorisis\n",
    "\n",
    "Pretendo utilizar o corpus anotado [Diorisis](https://figshare.com/articles/dataset/The_Diorisis_Ancient_Greek_Corpus_JSON_/12251468) de Alessandro Vatri e Barbara McGillyvray, disponível em formato `.json` e com lemmatização confiável ([Vatri, 2020](https://brill.com/view/journals/jgl/20/2/article-p179_4.xml)).\n",
    " Para processar esse corpus, utilizei as funções criadas em [../src/lexicogenero/ferramentas/diorisis_reader.py](https://github.com/caiogeraldes/lexico-e-genero/blob/main/src/lexicogenero/ferramentas/diorisis_reader.py).\n",
    " A lista de *stop words* utilizada vem de [Rodda, 2020](https://github.com/MartinaAstridRodda/dphil-thesis), com algumas adições (código em [../src/lexicogenero/grc.py](https://github.com/caiogeraldes/lexico-e-genero/blob/main/src/lexicogenero/grc.py))."
   ]
  },
  {
   "cell_type": "code",
   "execution_count": 1,
   "id": "5e362c23",
   "metadata": {},
   "outputs": [],
   "source": [
    "import os\n",
    "import itertools\n",
    "import pandas as pd\n",
    "import numpy as np\n",
    "import matplotlib.pyplot as plt\n",
    "from collections import Counter\n",
    "from sklearn.model_selection import train_test_split"
   ]
  },
  {
   "cell_type": "code",
   "execution_count": 2,
   "id": "1d766ef5",
   "metadata": {},
   "outputs": [],
   "source": [
    "from lexicogenero.ferramentas.diorisis_reader import carrega_textos, em_pandas, sent_pandas\n",
    "from lexicogenero.main import DIORISIS_PATH\n",
    "from lexicogenero.grc import STOPS_LIST\n",
    "\n",
    "%matplotlib inline\n",
    "plt.rcParams['figure.figsize'] = [20, 5]"
   ]
  },
  {
   "cell_type": "markdown",
   "id": "eafebfa9",
   "metadata": {},
   "source": [
    "Neste teste, usaremos como corpus os textos de historiografia e prosa filosófica (diálogos e tratados) de autores do período clássico:\n",
    "\n",
    "- Historiografia:\n",
    "    - Heródoto\n",
    "    - Xenofonte:\n",
    "        - Ciropédia\n",
    "        - Anábase\n",
    "        - Helênica\n",
    "    - Tucídides\n",
    "- Prosa filosófica:\n",
    "    - Platão\n",
    "    - Xenofonte:\n",
    "        - Agesilau\n",
    "        - Hierão\n",
    "        - Simpósio\n",
    "        - Apologia\n",
    "        - Memorabilia"
   ]
  },
  {
   "cell_type": "code",
   "execution_count": 3,
   "id": "f6526458",
   "metadata": {},
   "outputs": [
    {
     "name": "stdout",
     "output_type": "stream",
     "text": [
      "Carregando dataframe previamente salvo\n"
     ]
    }
   ],
   "source": [
    "DATA = \"data.csv\"\n",
    "SENTS = \"sents.csv\"\n",
    "REAPROVEITAR = True\n",
    "\n",
    "if not REAPROVEITAR or (DATA not in os.listdir() or SENTS not in os.listdir()):\n",
    "    ignorados = [\n",
    "        \"Xenophon (0032) - On the Art of Horsemanship (013).json\",\n",
    "        \"Xenophon (0032) - Economics (003).json\",\n",
    "        \"Xenophon (0032) - Ways and Means (011).json\",\n",
    "        \"Xenophon (0032) - Constitution of the Lacedaemonians (010).json\",\n",
    "        \"Xenophon (0032) - On the Cavalry Commander (012).json\",\n",
    "        \"Xenophon (0032) - On Hunting (014).json\",\n",
    "        \"Xenophon (0032) - Apology (005).json\",\n",
    "    ]\n",
    "\n",
    "    corpus = carrega_textos(autores=['Herodotus', \n",
    "                                     'Thucydides', \n",
    "                                     'Plato', \n",
    "                                     'Xenophon (0032)', # Exclui Xenofonte de Éfeso \n",
    "                                     ],\n",
    "                            diorisis_path=DIORISIS_PATH,\n",
    "                            ignore=ignorados,\n",
    "                            verbose=False)\n",
    "    df_tokens = em_pandas(corpus)\n",
    "    df_sents = sent_pandas(corpus)\n",
    "    del corpus\n",
    "    df_tokens.to_csv(DATA, index=False)\n",
    "    df_sents.to_csv(SENTS, index=False)\n",
    "        \n",
    "else:\n",
    "    print('Carregando dataframe previamente salvo')\n",
    "    df_tokens = pd.read_csv(DATA)\n",
    "    df_sents = pd.read_csv(SENTS)"
   ]
  },
  {
   "cell_type": "markdown",
   "id": "e4d03fc4",
   "metadata": {},
   "source": [
    "**Formato do DF**: ainda não decidi se seria mais eficiente utilizar um data frame organizado por token ou por sentenças. A implementação de ambos é muito semelhante e pode ser vista em `../src/lexicogenero/ferramentas/diorisis_parser.py`"
   ]
  },
  {
   "cell_type": "code",
   "execution_count": 4,
   "id": "7ca566e7",
   "metadata": {},
   "outputs": [
    {
     "data": {
      "text/html": [
       "<div>\n",
       "<style scoped>\n",
       "    .dataframe tbody tr th:only-of-type {\n",
       "        vertical-align: middle;\n",
       "    }\n",
       "\n",
       "    .dataframe tbody tr th {\n",
       "        vertical-align: top;\n",
       "    }\n",
       "\n",
       "    .dataframe thead th {\n",
       "        text-align: right;\n",
       "    }\n",
       "</style>\n",
       "<table border=\"1\" class=\"dataframe\">\n",
       "  <thead>\n",
       "    <tr style=\"text-align: right;\">\n",
       "      <th></th>\n",
       "      <th>sent_id</th>\n",
       "      <th>location</th>\n",
       "      <th>form</th>\n",
       "      <th>lemma</th>\n",
       "      <th>POS</th>\n",
       "      <th>analyses</th>\n",
       "      <th>id</th>\n",
       "      <th>file</th>\n",
       "      <th>author</th>\n",
       "      <th>text</th>\n",
       "    </tr>\n",
       "  </thead>\n",
       "  <tbody>\n",
       "    <tr>\n",
       "      <th>0</th>\n",
       "      <td>1</td>\n",
       "      <td>1.t.1</td>\n",
       "      <td>Ἡροδότου</td>\n",
       "      <td>Ἡρόδοτος</td>\n",
       "      <td>proper</td>\n",
       "      <td>masc gen sg</td>\n",
       "      <td>1</td>\n",
       "      <td>Herodotus (0016) - Histories (001).json</td>\n",
       "      <td>Herodotus</td>\n",
       "      <td>Histories</td>\n",
       "    </tr>\n",
       "    <tr>\n",
       "      <th>1</th>\n",
       "      <td>1</td>\n",
       "      <td>1.t.1</td>\n",
       "      <td>Ἁλικαρνησσέος</td>\n",
       "      <td>Ἁλικαρνησσεύς</td>\n",
       "      <td>proper</td>\n",
       "      <td>masc gen sg (epic ionic)</td>\n",
       "      <td>2</td>\n",
       "      <td>Herodotus (0016) - Histories (001).json</td>\n",
       "      <td>Herodotus</td>\n",
       "      <td>Histories</td>\n",
       "    </tr>\n",
       "    <tr>\n",
       "      <th>2</th>\n",
       "      <td>1</td>\n",
       "      <td>1.t.1</td>\n",
       "      <td>ἱστορίης</td>\n",
       "      <td>ἱστορία</td>\n",
       "      <td>noun</td>\n",
       "      <td>fem gen sg (epic ionic)</td>\n",
       "      <td>3</td>\n",
       "      <td>Herodotus (0016) - Histories (001).json</td>\n",
       "      <td>Herodotus</td>\n",
       "      <td>Histories</td>\n",
       "    </tr>\n",
       "    <tr>\n",
       "      <th>3</th>\n",
       "      <td>1</td>\n",
       "      <td>1.t.1</td>\n",
       "      <td>ἀπόδεξις</td>\n",
       "      <td>ἀπόδεξις</td>\n",
       "      <td>noun</td>\n",
       "      <td>fem nom sg</td>\n",
       "      <td>4</td>\n",
       "      <td>Herodotus (0016) - Histories (001).json</td>\n",
       "      <td>Herodotus</td>\n",
       "      <td>Histories</td>\n",
       "    </tr>\n",
       "    <tr>\n",
       "      <th>4</th>\n",
       "      <td>1</td>\n",
       "      <td>1.t.1</td>\n",
       "      <td>ἥδε</td>\n",
       "      <td>ὅδε</td>\n",
       "      <td>pronoun</td>\n",
       "      <td>fem nom sg</td>\n",
       "      <td>5</td>\n",
       "      <td>Herodotus (0016) - Histories (001).json</td>\n",
       "      <td>Herodotus</td>\n",
       "      <td>Histories</td>\n",
       "    </tr>\n",
       "  </tbody>\n",
       "</table>\n",
       "</div>"
      ],
      "text/plain": [
       "   sent_id location           form          lemma      POS  \\\n",
       "0        1    1.t.1       Ἡροδότου       Ἡρόδοτος   proper   \n",
       "1        1    1.t.1  Ἁλικαρνησσέος  Ἁλικαρνησσεύς   proper   \n",
       "2        1    1.t.1       ἱστορίης        ἱστορία     noun   \n",
       "3        1    1.t.1       ἀπόδεξις       ἀπόδεξις     noun   \n",
       "4        1    1.t.1            ἥδε            ὅδε  pronoun   \n",
       "\n",
       "                   analyses  id                                     file  \\\n",
       "0               masc gen sg   1  Herodotus (0016) - Histories (001).json   \n",
       "1  masc gen sg (epic ionic)   2  Herodotus (0016) - Histories (001).json   \n",
       "2   fem gen sg (epic ionic)   3  Herodotus (0016) - Histories (001).json   \n",
       "3                fem nom sg   4  Herodotus (0016) - Histories (001).json   \n",
       "4                fem nom sg   5  Herodotus (0016) - Histories (001).json   \n",
       "\n",
       "      author       text  \n",
       "0  Herodotus  Histories  \n",
       "1  Herodotus  Histories  \n",
       "2  Herodotus  Histories  \n",
       "3  Herodotus  Histories  \n",
       "4  Herodotus  Histories  "
      ]
     },
     "execution_count": 4,
     "metadata": {},
     "output_type": "execute_result"
    }
   ],
   "source": [
    "df_tokens.head()"
   ]
  },
  {
   "cell_type": "code",
   "execution_count": 5,
   "id": "92b98dee",
   "metadata": {},
   "outputs": [
    {
     "data": {
      "text/html": [
       "<div>\n",
       "<style scoped>\n",
       "    .dataframe tbody tr th:only-of-type {\n",
       "        vertical-align: middle;\n",
       "    }\n",
       "\n",
       "    .dataframe tbody tr th {\n",
       "        vertical-align: top;\n",
       "    }\n",
       "\n",
       "    .dataframe thead th {\n",
       "        text-align: right;\n",
       "    }\n",
       "</style>\n",
       "<table border=\"1\" class=\"dataframe\">\n",
       "  <thead>\n",
       "    <tr style=\"text-align: right;\">\n",
       "      <th></th>\n",
       "      <th>sent_id</th>\n",
       "      <th>location</th>\n",
       "      <th>forms</th>\n",
       "      <th>lemmata</th>\n",
       "      <th>file</th>\n",
       "      <th>author</th>\n",
       "      <th>text</th>\n",
       "    </tr>\n",
       "  </thead>\n",
       "  <tbody>\n",
       "    <tr>\n",
       "      <th>0</th>\n",
       "      <td>1</td>\n",
       "      <td>1.t.1</td>\n",
       "      <td>Ἡροδότου Ἁλικαρνησσέος ἱστορίης ἀπόδεξις ἥδε ,...</td>\n",
       "      <td>Ἡρόδοτος Ἁλικαρνησσεύς ἱστορία ἀπόδεξις ὅδε ὡς...</td>\n",
       "      <td>Herodotus (0016) - Histories (001).json</td>\n",
       "      <td>Herodotus</td>\n",
       "      <td>Histories</td>\n",
       "    </tr>\n",
       "    <tr>\n",
       "      <th>1</th>\n",
       "      <td>2</td>\n",
       "      <td>1.1.1</td>\n",
       "      <td>Περσέων μέν νυν οἱ λόγιοι Φοίνικας αἰτίους φασ...</td>\n",
       "      <td>Πέρσευς μέν νῦν ὁ λόγιος Φοῖνιξ αἴτιος φημί γί...</td>\n",
       "      <td>Herodotus (0016) - Histories (001).json</td>\n",
       "      <td>Herodotus</td>\n",
       "      <td>Histories</td>\n",
       "    </tr>\n",
       "    <tr>\n",
       "      <th>2</th>\n",
       "      <td>3</td>\n",
       "      <td>1.1.2</td>\n",
       "      <td>τούτους γὰρ ἀπὸ τῆς Ἐρυθρῆς καλεομένης θαλάσση...</td>\n",
       "      <td>οὗτος γάρ ἀπό ὁ Ἐρυθραί καλέω θάλασσα ἀφικνέομ...</td>\n",
       "      <td>Herodotus (0016) - Histories (001).json</td>\n",
       "      <td>Herodotus</td>\n",
       "      <td>Histories</td>\n",
       "    </tr>\n",
       "    <tr>\n",
       "      <th>3</th>\n",
       "      <td>4</td>\n",
       "      <td>1.1.7</td>\n",
       "      <td>τὸ δὲ Ἄργος τοῦτον τὸν χρόνον προεῖχε ἅπασι τῶ...</td>\n",
       "      <td>ὁ δέ Ἄργος οὗτος ὁ χρόνος προέχω ἅπας ὁ ἐν ὁ ν...</td>\n",
       "      <td>Herodotus (0016) - Histories (001).json</td>\n",
       "      <td>Herodotus</td>\n",
       "      <td>Histories</td>\n",
       "    </tr>\n",
       "    <tr>\n",
       "      <th>4</th>\n",
       "      <td>5</td>\n",
       "      <td>1.1.9</td>\n",
       "      <td>ἀπικομένους δὲ τούς Φοίνικας ἐς δὴ τὸ Ἄργος το...</td>\n",
       "      <td>ἀφικνέομαι δέ ὁ Φοῖνιξ εἰς δή ὁ Ἄργος οὗτος δι...</td>\n",
       "      <td>Herodotus (0016) - Histories (001).json</td>\n",
       "      <td>Herodotus</td>\n",
       "      <td>Histories</td>\n",
       "    </tr>\n",
       "  </tbody>\n",
       "</table>\n",
       "</div>"
      ],
      "text/plain": [
       "   sent_id location                                              forms  \\\n",
       "0        1    1.t.1  Ἡροδότου Ἁλικαρνησσέος ἱστορίης ἀπόδεξις ἥδε ,...   \n",
       "1        2    1.1.1  Περσέων μέν νυν οἱ λόγιοι Φοίνικας αἰτίους φασ...   \n",
       "2        3    1.1.2  τούτους γὰρ ἀπὸ τῆς Ἐρυθρῆς καλεομένης θαλάσση...   \n",
       "3        4    1.1.7  τὸ δὲ Ἄργος τοῦτον τὸν χρόνον προεῖχε ἅπασι τῶ...   \n",
       "4        5    1.1.9  ἀπικομένους δὲ τούς Φοίνικας ἐς δὴ τὸ Ἄργος το...   \n",
       "\n",
       "                                             lemmata  \\\n",
       "0  Ἡρόδοτος Ἁλικαρνησσεύς ἱστορία ἀπόδεξις ὅδε ὡς...   \n",
       "1  Πέρσευς μέν νῦν ὁ λόγιος Φοῖνιξ αἴτιος φημί γί...   \n",
       "2  οὗτος γάρ ἀπό ὁ Ἐρυθραί καλέω θάλασσα ἀφικνέομ...   \n",
       "3  ὁ δέ Ἄργος οὗτος ὁ χρόνος προέχω ἅπας ὁ ἐν ὁ ν...   \n",
       "4  ἀφικνέομαι δέ ὁ Φοῖνιξ εἰς δή ὁ Ἄργος οὗτος δι...   \n",
       "\n",
       "                                      file     author       text  \n",
       "0  Herodotus (0016) - Histories (001).json  Herodotus  Histories  \n",
       "1  Herodotus (0016) - Histories (001).json  Herodotus  Histories  \n",
       "2  Herodotus (0016) - Histories (001).json  Herodotus  Histories  \n",
       "3  Herodotus (0016) - Histories (001).json  Herodotus  Histories  \n",
       "4  Herodotus (0016) - Histories (001).json  Herodotus  Histories  "
      ]
     },
     "execution_count": 5,
     "metadata": {},
     "output_type": "execute_result"
    }
   ],
   "source": [
    "df_sents.head()"
   ]
  },
  {
   "cell_type": "markdown",
   "id": "9fcb04bd",
   "metadata": {},
   "source": [
    "## Anotando Gênero"
   ]
  },
  {
   "cell_type": "code",
   "execution_count": 6,
   "id": "465542a6",
   "metadata": {},
   "outputs": [],
   "source": [
    "hist = [\n",
    "    \"Herodotus (0016) - Histories (001).json\",\n",
    "    \"Thucydides (0003) - History (001).json\",\n",
    "    \"Xenophon (0032) - Hellenica (001).json\",\n",
    "    \"Xenophon (0032) - Cyropaedia (007).json\",\n",
    "    \"Xenophon (0032) - Anabasis (006).json\",\n",
    "]"
   ]
  },
  {
   "cell_type": "code",
   "execution_count": 7,
   "id": "1274cd1a",
   "metadata": {},
   "outputs": [],
   "source": [
    "# Deve haver uma maneira menos rocambolesca para resolver isso\n",
    "df_tokens['genero'] = np.nan\n",
    "df_tokens.loc[df_tokens.file.isin(hist), 'genero'] = \"hist\"\n",
    "df_tokens.genero.fillna(\"filo\", inplace=True)\n",
    "df_sents['genero'] = np.nan\n",
    "df_sents.loc[df_sents.file.isin(hist), 'genero'] = \"hist\"\n",
    "df_sents.genero.fillna(\"filo\", inplace=True)"
   ]
  },
  {
   "cell_type": "markdown",
   "id": "b9345ae6",
   "metadata": {},
   "source": [
    "Para meu modelo funcionar, será necessário ter uma quantidade relativamente equilibrada de dados entre autores de prosa historiográfica e prosa filosófica, a seleção parece razoável.\n",
    "Qualquer tentativa de aumentar os dados de historiografia forçaria aumentar o escopo temporal (o próximo autor seria Políbio, já do período helenístico).\n",
    "Nota-se que a diferença aumenta quando tratamos de sentenças e não de tokens, indicando que as sentenças em textos historiográficos devem ser um pouco mais longas na média."
   ]
  },
  {
   "cell_type": "code",
   "execution_count": 8,
   "id": "ba94d233",
   "metadata": {},
   "outputs": [
    {
     "data": {
      "text/plain": [
       "<AxesSubplot:>"
      ]
     },
     "execution_count": 8,
     "metadata": {},
     "output_type": "execute_result"
    },
    {
     "data": {
      "image/png": "[encoded data removed]",
      "text/plain": [
       "<Figure size 1440x360 with 1 Axes>"
      ]
     },
     "metadata": {
      "needs_background": "light"
     },
     "output_type": "display_data"
    }
   ],
   "source": [
    "df_tokens.genero.value_counts().plot(kind='bar')"
   ]
  },
  {
   "cell_type": "code",
   "execution_count": 9,
   "id": "d60e2197",
   "metadata": {},
   "outputs": [
    {
     "data": {
      "text/plain": [
       "<AxesSubplot:>"
      ]
     },
     "execution_count": 9,
     "metadata": {},
     "output_type": "execute_result"
    },
    {
     "data": {
      "image/png": "[encoded data removed]",
      "text/plain": [
       "<Figure size 1440x360 with 1 Axes>"
      ]
     },
     "metadata": {
      "needs_background": "light"
     },
     "output_type": "display_data"
    }
   ],
   "source": [
    "df_sents.genero.value_counts().plot(kind='bar')"
   ]
  },
  {
   "cell_type": "markdown",
   "id": "89c2662e",
   "metadata": {},
   "source": [
    "## Verbos por gênero (dataframe de tokens)"
   ]
  },
  {
   "cell_type": "code",
   "execution_count": 10,
   "id": "dbaac71c",
   "metadata": {},
   "outputs": [
    {
     "data": {
      "text/html": [
       "<div>\n",
       "<style scoped>\n",
       "    .dataframe tbody tr th:only-of-type {\n",
       "        vertical-align: middle;\n",
       "    }\n",
       "\n",
       "    .dataframe tbody tr th {\n",
       "        vertical-align: top;\n",
       "    }\n",
       "\n",
       "    .dataframe thead th {\n",
       "        text-align: right;\n",
       "    }\n",
       "</style>\n",
       "<table border=\"1\" class=\"dataframe\">\n",
       "  <thead>\n",
       "    <tr style=\"text-align: right;\">\n",
       "      <th></th>\n",
       "      <th>sent_id</th>\n",
       "      <th>location</th>\n",
       "      <th>form</th>\n",
       "      <th>lemma</th>\n",
       "      <th>POS</th>\n",
       "      <th>analyses</th>\n",
       "      <th>id</th>\n",
       "      <th>file</th>\n",
       "      <th>author</th>\n",
       "      <th>text</th>\n",
       "      <th>genero</th>\n",
       "    </tr>\n",
       "  </thead>\n",
       "  <tbody>\n",
       "    <tr>\n",
       "      <th>30</th>\n",
       "      <td>1</td>\n",
       "      <td>1.t.1</td>\n",
       "      <td>ἀποδεχθέντα</td>\n",
       "      <td>ἀποδέχομαι</td>\n",
       "      <td>verb</td>\n",
       "      <td>aor part pass neut nom/voc/acc pl;aor part pas...</td>\n",
       "      <td>28</td>\n",
       "      <td>Herodotus (0016) - Histories (001).json</td>\n",
       "      <td>Herodotus</td>\n",
       "      <td>Histories</td>\n",
       "      <td>hist</td>\n",
       "    </tr>\n",
       "    <tr>\n",
       "      <th>42</th>\n",
       "      <td>1</td>\n",
       "      <td>1.t.1</td>\n",
       "      <td>ἐπολέμησαν</td>\n",
       "      <td>πολεμέω</td>\n",
       "      <td>verb</td>\n",
       "      <td>aor ind act 3rd pl</td>\n",
       "      <td>38</td>\n",
       "      <td>Herodotus (0016) - Histories (001).json</td>\n",
       "      <td>Herodotus</td>\n",
       "      <td>Histories</td>\n",
       "      <td>hist</td>\n",
       "    </tr>\n",
       "    <tr>\n",
       "      <th>62</th>\n",
       "      <td>3</td>\n",
       "      <td>1.1.2</td>\n",
       "      <td>καλεομένης</td>\n",
       "      <td>καλέω</td>\n",
       "      <td>verb</td>\n",
       "      <td>fut part mid fem gen sg (attic epic ionic);pre...</td>\n",
       "      <td>6</td>\n",
       "      <td>Herodotus (0016) - Histories (001).json</td>\n",
       "      <td>Herodotus</td>\n",
       "      <td>Histories</td>\n",
       "      <td>hist</td>\n",
       "    </tr>\n",
       "    <tr>\n",
       "      <th>64</th>\n",
       "      <td>3</td>\n",
       "      <td>1.1.2</td>\n",
       "      <td>ἀπικομένους</td>\n",
       "      <td>ἀφικνέομαι</td>\n",
       "      <td>verb</td>\n",
       "      <td>aor part mid masc acc pl (ionic)</td>\n",
       "      <td>8</td>\n",
       "      <td>Herodotus (0016) - Histories (001).json</td>\n",
       "      <td>Herodotus</td>\n",
       "      <td>Histories</td>\n",
       "      <td>hist</td>\n",
       "    </tr>\n",
       "    <tr>\n",
       "      <th>71</th>\n",
       "      <td>3</td>\n",
       "      <td>1.1.2</td>\n",
       "      <td>οἰκήσαντας</td>\n",
       "      <td>οἰκέω</td>\n",
       "      <td>verb</td>\n",
       "      <td>aor part act masc acc pl</td>\n",
       "      <td>14</td>\n",
       "      <td>Herodotus (0016) - Histories (001).json</td>\n",
       "      <td>Herodotus</td>\n",
       "      <td>Histories</td>\n",
       "      <td>hist</td>\n",
       "    </tr>\n",
       "  </tbody>\n",
       "</table>\n",
       "</div>"
      ],
      "text/plain": [
       "    sent_id location         form       lemma   POS  \\\n",
       "30        1    1.t.1  ἀποδεχθέντα  ἀποδέχομαι  verb   \n",
       "42        1    1.t.1   ἐπολέμησαν     πολεμέω  verb   \n",
       "62        3    1.1.2   καλεομένης       καλέω  verb   \n",
       "64        3    1.1.2  ἀπικομένους  ἀφικνέομαι  verb   \n",
       "71        3    1.1.2   οἰκήσαντας       οἰκέω  verb   \n",
       "\n",
       "                                             analyses  id  \\\n",
       "30  aor part pass neut nom/voc/acc pl;aor part pas...  28   \n",
       "42                                 aor ind act 3rd pl  38   \n",
       "62  fut part mid fem gen sg (attic epic ionic);pre...   6   \n",
       "64                   aor part mid masc acc pl (ionic)   8   \n",
       "71                           aor part act masc acc pl  14   \n",
       "\n",
       "                                       file     author       text genero  \n",
       "30  Herodotus (0016) - Histories (001).json  Herodotus  Histories   hist  \n",
       "42  Herodotus (0016) - Histories (001).json  Herodotus  Histories   hist  \n",
       "62  Herodotus (0016) - Histories (001).json  Herodotus  Histories   hist  \n",
       "64  Herodotus (0016) - Histories (001).json  Herodotus  Histories   hist  \n",
       "71  Herodotus (0016) - Histories (001).json  Herodotus  Histories   hist  "
      ]
     },
     "execution_count": 10,
     "metadata": {},
     "output_type": "execute_result"
    }
   ],
   "source": [
    "df_verbos = df_tokens.loc[(df_tokens.POS == \"verb\") & (-df_tokens.lemma.isin(STOPS_LIST))]\n",
    "df_verbos.head()"
   ]
  },
  {
   "cell_type": "markdown",
   "id": "d809da9c",
   "metadata": {},
   "source": [
    "A filtragem não causa mudança na proporção entre documentos de historiografia e filosofia."
   ]
  },
  {
   "cell_type": "code",
   "execution_count": 11,
   "id": "cd20f024",
   "metadata": {},
   "outputs": [
    {
     "data": {
      "text/plain": [
       "<AxesSubplot:>"
      ]
     },
     "execution_count": 11,
     "metadata": {},
     "output_type": "execute_result"
    },
    {
     "data": {
      "image/png": "[encoded data removed]",
      "text/plain": [
       "<Figure size 1440x360 with 1 Axes>"
      ]
     },
     "metadata": {
      "needs_background": "light"
     },
     "output_type": "display_data"
    }
   ],
   "source": [
    "df_verbos.genero.value_counts().plot(kind='bar')"
   ]
  },
  {
   "cell_type": "code",
   "execution_count": 12,
   "id": "9a191615",
   "metadata": {},
   "outputs": [
    {
     "data": {
      "text/plain": [
       "οἴομαι           1767\n",
       "οἶδα             1482\n",
       "φαίνω            1204\n",
       "βούλομαι         1177\n",
       "δεῖ              1026\n",
       "                 ... \n",
       "προπαιδεύω          1\n",
       "μολύνω              1\n",
       "διαίνω              1\n",
       "ὑπεραγανακτέω       1\n",
       "ἐφέζομαι            1\n",
       "Name: lemma, Length: 3663, dtype: int64"
      ]
     },
     "execution_count": 12,
     "metadata": {},
     "output_type": "execute_result"
    }
   ],
   "source": [
    "filo_verbos = df_verbos[df_verbos.genero == \"filo\"].lemma\n",
    "filo_verbos.value_counts()"
   ]
  },
  {
   "cell_type": "code",
   "execution_count": 13,
   "id": "ddb108ea",
   "metadata": {},
   "outputs": [
    {
     "data": {
      "text/plain": [
       "<AxesSubplot:ylabel='Density'>"
      ]
     },
     "execution_count": 13,
     "metadata": {},
     "output_type": "execute_result"
    },
    {
     "data": {
      "image/png": "[encoded data removed]",
      "text/plain": [
       "<Figure size 1440x360 with 1 Axes>"
      ]
     },
     "metadata": {
      "needs_background": "light"
     },
     "output_type": "display_data"
    }
   ],
   "source": [
    "filo_verbos.value_counts().plot(kind='density')"
   ]
  },
  {
   "cell_type": "code",
   "execution_count": 14,
   "id": "a3f219c4",
   "metadata": {},
   "outputs": [
    {
     "data": {
      "text/plain": [
       "βούλομαι        1177\n",
       "λαμβάνω          994\n",
       "ἀφικνέομαι       915\n",
       "ἔρχομαι          872\n",
       "πάρειμι          822\n",
       "                ... \n",
       "ἐπεικάζω           1\n",
       "ἀποκηδεύω          1\n",
       "πυκνόω             1\n",
       "καθιππάζομαι       1\n",
       "ἐξαυλίζομαι        1\n",
       "Name: lemma, Length: 4331, dtype: int64"
      ]
     },
     "execution_count": 14,
     "metadata": {},
     "output_type": "execute_result"
    }
   ],
   "source": [
    "hist_verbos = df_verbos[df_verbos.genero == \"hist\"].lemma\n",
    "hist_verbos.value_counts()"
   ]
  },
  {
   "cell_type": "code",
   "execution_count": 15,
   "id": "2b1abcaa",
   "metadata": {},
   "outputs": [
    {
     "data": {
      "text/plain": [
       "<AxesSubplot:ylabel='Density'>"
      ]
     },
     "execution_count": 15,
     "metadata": {},
     "output_type": "execute_result"
    },
    {
     "data": {
      "image/png": "[encoded data removed]",
      "text/plain": [
       "<Figure size 1440x360 with 1 Axes>"
      ]
     },
     "metadata": {
      "needs_background": "light"
     },
     "output_type": "display_data"
    }
   ],
   "source": [
    "hist_verbos.value_counts().plot(kind='density')"
   ]
  },
  {
   "cell_type": "markdown",
   "id": "2818a3cd",
   "metadata": {},
   "source": [
    "## Naive Bayes\n"
   ]
  },
  {
   "cell_type": "markdown",
   "id": "ce7ca279",
   "metadata": {},
   "source": [
    "### Apenas de tokens\n",
    "\n",
    "O resultado é terrível, provavelmente porque a implementação do modelo não é a melhor, afinal o `DOCUMENTO` e suas componentes são a mesma entidade."
   ]
  },
  {
   "cell_type": "code",
   "execution_count": 16,
   "id": "053263d7",
   "metadata": {},
   "outputs": [],
   "source": [
    "x, y = df_verbos.lemma, df_verbos.genero"
   ]
  },
  {
   "cell_type": "code",
   "execution_count": 17,
   "id": "4373a0b9",
   "metadata": {},
   "outputs": [],
   "source": [
    "\n",
    "x_treino, x_teste, y_treino, y_teste = train_test_split(x, y, test_size=0.20, random_state=42)\n",
    "\n",
    "filo = [x for x, y in zip(x_treino, y_treino) if y == 'filo']\n",
    "hist = [x for x, y in zip(x_treino, y_treino) if y == 'hist']"
   ]
  },
  {
   "cell_type": "code",
   "execution_count": 18,
   "id": "7999813e",
   "metadata": {},
   "outputs": [],
   "source": [
    "vocab_filo = Counter(filo)\n",
    "vocab_hist = Counter(hist)"
   ]
  },
  {
   "cell_type": "code",
   "execution_count": 19,
   "id": "3b5f2112",
   "metadata": {},
   "outputs": [],
   "source": [
    "n_filo = len(filo)\n",
    "n_hist = len(hist)\n",
    "n = n_filo + n_hist\n",
    "p_filo = np.log2(n_filo / n)\n",
    "p_hist = np.log2(n_hist / n)"
   ]
  },
  {
   "cell_type": "code",
   "execution_count": 20,
   "id": "23f289c4",
   "metadata": {},
   "outputs": [],
   "source": [
    "n_vocab_filo = len(vocab_filo)\n",
    "n_vocab_hist = len(vocab_hist)"
   ]
  },
  {
   "cell_type": "code",
   "execution_count": 21,
   "id": "1a13fafe",
   "metadata": {},
   "outputs": [],
   "source": [
    "def bayes(texto):\n",
    "    \n",
    "    texto_filo = [x for x in texto if x in vocab_filo.keys()]\n",
    "    c_doc_filo = Counter(texto_filo)\n",
    "    texto_hist = [x for x in texto if x in vocab_hist.keys()]\n",
    "    c_doc_hist = Counter(texto_hist)\n",
    "    \n",
    "    pf_filo = sum([np.log2((c_doc_filo[token] + 1) / n_vocab_filo + len(texto_filo)) for token in texto_filo])\n",
    "    pf_hist = sum([np.log2((c_doc_hist[token] + 1) / n_vocab_hist + len(texto_hist)) for token in texto_hist])\n",
    "\n",
    "    \n",
    "    prob_filo = p_filo + pf_filo\n",
    "    prob_hist = p_hist + pf_hist\n",
    "\n",
    "\n",
    "    return prob_filo, prob_hist"
   ]
  },
  {
   "cell_type": "code",
   "execution_count": 22,
   "id": "fc32afa8",
   "metadata": {},
   "outputs": [],
   "source": [
    "teste_pred_labels = []\n",
    "for t in x_teste:\n",
    "    prob_filo, prob_hist = bayes(t)\n",
    "    if prob_filo >= prob_hist:\n",
    "        teste_pred_labels.append(\"filo\")\n",
    "    else:\n",
    "        teste_pred_labels.append(\"hist\")"
   ]
  },
  {
   "cell_type": "code",
   "execution_count": 23,
   "id": "eae397a0",
   "metadata": {},
   "outputs": [],
   "source": [
    "teste_orig_labels = [x for x in y_teste]\n",
    "\n",
    "performance_labels = []\n",
    "\n",
    "for pred, label in zip(teste_pred_labels, teste_orig_labels):\n",
    "    if label == \"filo\" and pred == \"filo\":\n",
    "        performance_labels.append(\"VP\")\n",
    "    elif label == \"filo\" and pred == \"hist\":\n",
    "        performance_labels.append(\"FP\")\n",
    "    elif label == \"hist\" and pred == \"hist\":\n",
    "        performance_labels.append(\"VN\")\n",
    "    else:\n",
    "        performance_labels.append(\"FN\")\n",
    "        \n",
    "perf_counter = Counter(performance_labels)"
   ]
  },
  {
   "cell_type": "code",
   "execution_count": 24,
   "id": "c19238d6",
   "metadata": {},
   "outputs": [
    {
     "data": {
      "text/plain": [
       "Counter({'VN': 17407, 'FP': 16718})"
      ]
     },
     "execution_count": 24,
     "metadata": {},
     "output_type": "execute_result"
    }
   ],
   "source": [
    "perf_counter"
   ]
  },
  {
   "cell_type": "markdown",
   "id": "17caded2",
   "metadata": {},
   "source": [
    "### Com sentenças"
   ]
  },
  {
   "cell_type": "markdown",
   "id": "d4057211",
   "metadata": {},
   "source": [
    "O modelo assim performa melhor, mas é pouco específico para os meus interesses: que o vocabulário da prosa filosófica e historiográfica são distintos diz pouco sobre sua seleção de verbos."
   ]
  },
  {
   "cell_type": "code",
   "execution_count": 25,
   "id": "2fad0cc4",
   "metadata": {},
   "outputs": [],
   "source": [
    "def achatar(lista):\n",
    "    return list(itertools.chain(*lista))\n",
    "\n",
    "df_sents['lst_lemmata'] = df_sents.lemmata.str.split()\n",
    "df_sents.dropna(inplace=True)"
   ]
  },
  {
   "cell_type": "code",
   "execution_count": 26,
   "id": "cee2b7db",
   "metadata": {},
   "outputs": [],
   "source": [
    "x, y = df_sents.lst_lemmata, df_sents.genero\n",
    "\n",
    "x_treino, x_teste, y_treino, y_teste = train_test_split(x, y, test_size=0.20, random_state=42)"
   ]
  },
  {
   "cell_type": "code",
   "execution_count": 27,
   "id": "e0f583d5",
   "metadata": {},
   "outputs": [],
   "source": [
    "filo = [x for x, y in zip(x_treino, y_treino) if y == 'filo']\n",
    "hist = [x for x, y in zip(x_treino, y_treino) if y == 'hist']\n",
    "\n",
    "vocab_filo = Counter([x for x in achatar(filo)])\n",
    "vocab_hist = Counter([x for x in achatar(hist)])\n",
    "\n",
    "n_filo = len(filo)\n",
    "n_hist = len(hist)\n",
    "n = n_filo + n_hist\n",
    "p_filo = np.log2(n_filo / n)\n",
    "p_hist = np.log2(n_hist / n)\n",
    "\n",
    "n_vocab_filo = len(vocab_filo)\n",
    "n_vocab_hist = len(vocab_hist)"
   ]
  },
  {
   "cell_type": "code",
   "execution_count": 28,
   "id": "da415516",
   "metadata": {},
   "outputs": [],
   "source": [
    "def bayes(texto):\n",
    "    \n",
    "    texto_filo = [x for x in texto if x in vocab_filo.keys()]\n",
    "    c_doc_filo = Counter(texto_filo)\n",
    "    texto_hist = [x for x in texto if x in vocab_hist.keys()]\n",
    "    c_doc_hist = Counter(texto_hist)\n",
    "    \n",
    "    pf_filo = sum([np.log2((c_doc_filo[token] + 1) / n_vocab_filo + len(texto_filo)) for token in texto_filo])\n",
    "    pf_hist = sum([np.log2((c_doc_hist[token] + 1) / n_vocab_hist + len(texto_hist)) for token in texto_hist])\n",
    "\n",
    "    \n",
    "    prob_filo = p_filo + pf_filo\n",
    "    prob_hist = p_hist + pf_hist\n",
    "\n",
    "\n",
    "    return prob_filo, prob_hist"
   ]
  },
  {
   "cell_type": "code",
   "execution_count": 29,
   "id": "f3bb3edf",
   "metadata": {},
   "outputs": [],
   "source": [
    "teste_pred_labels = []\n",
    "for t in x_teste:\n",
    "    prob_filo, prob_hist = bayes(t)\n",
    "    if prob_filo >= prob_hist:\n",
    "        teste_pred_labels.append(\"filo\")\n",
    "    else:\n",
    "        teste_pred_labels.append(\"hist\")\n",
    "\n",
    "teste_orig_labels = [x for x in y_teste]"
   ]
  },
  {
   "cell_type": "code",
   "execution_count": 30,
   "id": "892cc029",
   "metadata": {},
   "outputs": [],
   "source": [
    "performance_labels = []\n",
    "\n",
    "for pred, label in zip(teste_pred_labels, teste_orig_labels):\n",
    "    if label == \"filo\" and pred == \"filo\":\n",
    "        performance_labels.append(\"VP\")\n",
    "    elif label == \"filo\" and pred == \"hist\":\n",
    "        performance_labels.append(\"FP\")\n",
    "    elif label == \"hist\" and pred == \"hist\":\n",
    "        performance_labels.append(\"VN\")\n",
    "    else:\n",
    "        performance_labels.append(\"FN\")"
   ]
  },
  {
   "cell_type": "code",
   "execution_count": 31,
   "id": "84044977",
   "metadata": {},
   "outputs": [
    {
     "data": {
      "text/plain": [
       "Counter({'VP': 8254, 'VN': 2678, 'FN': 3046, 'FP': 165})"
      ]
     },
     "execution_count": 31,
     "metadata": {},
     "output_type": "execute_result"
    }
   ],
   "source": [
    "perf_counter = Counter(performance_labels)\n",
    "\n",
    "perf_counter"
   ]
  },
  {
   "cell_type": "code",
   "execution_count": 32,
   "id": "2ee2bc02",
   "metadata": {},
   "outputs": [
    {
     "name": "stdout",
     "output_type": "stream",
     "text": [
      "Precisão:  0.9804014728590094\n",
      "Cobertura: 0.7304424778761062\n",
      "Acurácia:  0.7729618892738457\n",
      "Medida F:  0.8371621278969521\n"
     ]
    }
   ],
   "source": [
    "precisao = perf_counter['VP'] / (perf_counter['VP'] + perf_counter['FP'])\n",
    "cobertura = perf_counter['VP'] / (perf_counter['VP'] + perf_counter['FN'])\n",
    "acuracia = (perf_counter['VP'] + perf_counter['VN']) / len(performance_labels)\n",
    "medida_f = 2 * (precisao * cobertura) / (precisao + cobertura)\n",
    "\n",
    "print(f'Precisão:  {precisao}')\n",
    "print(f'Cobertura: {cobertura}')\n",
    "print(f'Acurácia:  {acuracia}')\n",
    "print(f'Medida F:  {medida_f}')"
   ]
  },
  {
   "cell_type": "markdown",
   "id": "bf809963",
   "metadata": {},
   "source": [
    "# Conclusões\n",
    "\n",
    "- O banco de dados anotado Diorisis oferece as anotações necessárias e é relativamente fácil de processar.\n",
    "- O corpus proposto oferece um número relativamente equilibrado de dados para as categorias a serem classificadas e o algoritmo de processamento permite que ele seja expandido conforme necessário.\n",
    "- Será importante revisar a suavização utilizada (no caso Laplace) para poder obter um modelo funcional se for utilizado um modelo como o Naive Bayes apenas com os verbos, embora a princípio já seja possível afirmar que esse modelo não funcionará bem assim.\n",
    "- Se for possível codificar a informação de `df_sents.lst_lemmata` selecionar os verbos principais (utilizando o dependency parser do `stanza-perseus`), os resultados poderão ser mais consistentes com aqueles que são de meu interesse."
   ]
  }
 ],
 "metadata": {
  "kernelspec": {
   "display_name": "Python 3 (ipykernel)",
   "language": "python",
   "name": "python3"
  },
  "language_info": {
   "codemirror_mode": {
    "name": "ipython",
    "version": 3
   },
   "file_extension": ".py",
   "mimetype": "text/x-python",
   "name": "python",
   "nbconvert_exporter": "python",
   "pygments_lexer": "ipython3",
   "version": "3.9.9"
  }
 },
 "nbformat": 4,
 "nbformat_minor": 5
}
