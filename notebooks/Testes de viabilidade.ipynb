{
 "cells": [
  {
   "cell_type": "markdown",
   "id": "f984cc55",
   "metadata": {},
   "source": [
    "**Caio Geraldes, 2021**\n",
    "\n",
    "Este notebook testa a viabilidade dos algoritmos do módulo `lexicogenero`, de minha autoria, para selecionar, dividir e organizar dados de textos em prosa em grego antigo para a disciplina FLL5133-2021.\n",
    "O código fonte dos scripts utilizados aqui, bem como dos testes de qualidade estão disponíveis em meu [GitHub](https://github.com/caiogeraldes/lexico-e-genero/).\n",
    "\n",
    "# Carregamento e organização dos dados importados do Diorisis\n",
    "\n",
    "Pretendo utilizar o corpus anotado [Diorisis](https://figshare.com/articles/dataset/The_Diorisis_Ancient_Greek_Corpus_JSON_/12251468) de Alessandro Vatri e Barbara McGillyvray, disponível em formato `.json` e com lemmatização confiável ([Vatri, 2020](https://brill.com/view/journals/jgl/20/2/article-p179_4.xml)).\n",
    " Para processar esse corpus, utilizei as funções criadas em [../src/lexicogenero/ferramentas/diorisis_reader.py](https://github.com/caiogeraldes/lexico-e-genero/blob/main/src/lexicogenero/ferramentas/diorisis_reader.py).\n",
    " A lista de *stop words* utilizada vem de [Rodda, 2020](https://github.com/MartinaAstridRodda/dphil-thesis), com algumas adições (código em [../src/lexicogenero/grc.py](https://github.com/caiogeraldes/lexico-e-genero/blob/main/src/lexicogenero/grc.py))."
   ]
  },
  {
   "cell_type": "code",
   "execution_count": 1,
   "id": "bdf68f4c-c047-41e7-a9ce-c4649f10195b",
   "metadata": {},
   "outputs": [],
   "source": [
    "import os\n",
    "import itertools\n",
    "import pandas as pd\n",
    "import numpy as np\n",
    "import matplotlib.pyplot as plt\n",
    "import seaborn as sns\n",
    "from collections import Counter\n",
    "from sklearn.model_selection import train_test_split\n",
    "from sklearn.metrics import precision_score, accuracy_score, recall_score, f1_score, confusion_matrix\n",
    "%matplotlib inline\n",
    "plt.rcParams['figure.figsize'] = [20, 5]\n",
    "plt.style.use('seaborn')\n",
    "sns.set_palette(\"Dark2\")"
   ]
  },
  {
   "cell_type": "code",
   "execution_count": 2,
   "id": "0d9106ca-a756-4ae5-a2c4-9b1011a10a98",
   "metadata": {},
   "outputs": [],
   "source": [
    "# evita a mensagem SettingWithCopyWarning\n",
    "pd.options.mode.chained_assignment = None"
   ]
  },
  {
   "cell_type": "code",
   "execution_count": 3,
   "id": "1d766ef5",
   "metadata": {},
   "outputs": [],
   "source": [
    "from lexicogenero.ferramentas.diorisis_reader import carrega_textos, em_pandas, sent_pandas\n",
    "from lexicogenero.main import DIORISIS_PATH\n",
    "from lexicogenero.grc import STOPS_LIST"
   ]
  },
  {
   "cell_type": "markdown",
   "id": "eafebfa9",
   "metadata": {},
   "source": [
    "Neste teste, usaremos como corpus os textos de historiografia e prosa filosófica (diálogos e tratados) de autores do período clássico:\n",
    "\n",
    "- Historiografia:\n",
    "    - Heródoto\n",
    "    - Xenofonte:\n",
    "        - Ciropédia\n",
    "        - Anábase\n",
    "        - Helênica\n",
    "    - Tucídides\n",
    "- Prosa filosófica:\n",
    "    - Platão\n",
    "    - Xenofonte:\n",
    "        - Agesilau\n",
    "        - Hierão\n",
    "        - Simpósio\n",
    "        - Apologia\n",
    "        - Memorabilia"
   ]
  },
  {
   "cell_type": "code",
   "execution_count": 4,
   "id": "f6526458",
   "metadata": {},
   "outputs": [
    {
     "name": "stdout",
     "output_type": "stream",
     "text": [
      "Carregando dataframe previamente salvo\n"
     ]
    }
   ],
   "source": [
    "DATA = \"data_classico.csv\"\n",
    "SENTS = \"sents_classico.csv\"\n",
    "REAPROVEITAR = True\n",
    "\n",
    "if not REAPROVEITAR or (DATA not in os.listdir() or SENTS not in os.listdir()):\n",
    "    ignorados = [\n",
    "        \"Xenophon (0032) - On the Art of Horsemanship (013).json\",\n",
    "        \"Xenophon (0032) - Economics (003).json\",\n",
    "        \"Xenophon (0032) - Ways and Means (011).json\",\n",
    "        \"Xenophon (0032) - Constitution of the Lacedaemonians (010).json\",\n",
    "        \"Xenophon (0032) - On the Cavalry Commander (012).json\",\n",
    "        \"Xenophon (0032) - On Hunting (014).json\",\n",
    "        \"Xenophon (0032) - Apology (005).json\",\n",
    "        \"Plato (0059) - Alcibiades 2 (014).json\", # Anotação problemática\n",
    "    ]\n",
    "\n",
    "    corpus = carrega_textos(autores=['Herodotus', \n",
    "                                     'Thucydides', \n",
    "                                     'Plato', \n",
    "                                     'Xenophon (0032)', # Exclui Xenofonte de Éfeso \n",
    "                                     ],\n",
    "                            diorisis_path=DIORISIS_PATH,\n",
    "                            ignore=ignorados,\n",
    "                            verbose=False)\n",
    "    df_tokens = em_pandas(corpus)\n",
    "    df_sents = sent_pandas(corpus)\n",
    "    del corpus\n",
    "    df_tokens.to_csv(DATA, index=False)\n",
    "    df_sents.to_csv(SENTS, index=False)\n",
    "        \n",
    "else:\n",
    "    print('Carregando dataframe previamente salvo')\n",
    "    df_tokens = pd.read_csv(DATA)\n",
    "    df_sents = pd.read_csv(SENTS)"
   ]
  },
  {
   "cell_type": "markdown",
   "id": "e4d03fc4",
   "metadata": {},
   "source": [
    "**Formato do DF**: ainda não decidi se seria mais eficiente utilizar um data frame organizado por token ou por sentenças. A implementação de ambos é muito semelhante e pode ser vista em `../src/lexicogenero/ferramentas/diorisis_parser.py`"
   ]
  },
  {
   "cell_type": "code",
   "execution_count": 5,
   "id": "7ca566e7",
   "metadata": {},
   "outputs": [
    {
     "data": {
      "text/html": [
       "<div>\n",
       "<style scoped>\n",
       "    .dataframe tbody tr th:only-of-type {\n",
       "        vertical-align: middle;\n",
       "    }\n",
       "\n",
       "    .dataframe tbody tr th {\n",
       "        vertical-align: top;\n",
       "    }\n",
       "\n",
       "    .dataframe thead th {\n",
       "        text-align: right;\n",
       "    }\n",
       "</style>\n",
       "<table border=\"1\" class=\"dataframe\">\n",
       "  <thead>\n",
       "    <tr style=\"text-align: right;\">\n",
       "      <th></th>\n",
       "      <th>sent_id</th>\n",
       "      <th>location</th>\n",
       "      <th>form</th>\n",
       "      <th>lemma</th>\n",
       "      <th>POS</th>\n",
       "      <th>analyses</th>\n",
       "      <th>id</th>\n",
       "      <th>file</th>\n",
       "      <th>author</th>\n",
       "      <th>text</th>\n",
       "    </tr>\n",
       "  </thead>\n",
       "  <tbody>\n",
       "    <tr>\n",
       "      <th>0</th>\n",
       "      <td>1</td>\n",
       "      <td>1.t.1</td>\n",
       "      <td>Ἡροδότου</td>\n",
       "      <td>Ἡρόδοτος</td>\n",
       "      <td>proper</td>\n",
       "      <td>masc gen sg</td>\n",
       "      <td>1</td>\n",
       "      <td>Herodotus (0016) - Histories (001).json</td>\n",
       "      <td>Herodotus</td>\n",
       "      <td>Histories</td>\n",
       "    </tr>\n",
       "    <tr>\n",
       "      <th>1</th>\n",
       "      <td>1</td>\n",
       "      <td>1.t.1</td>\n",
       "      <td>Ἁλικαρνησσέος</td>\n",
       "      <td>Ἁλικαρνησσεύς</td>\n",
       "      <td>proper</td>\n",
       "      <td>masc gen sg (epic ionic)</td>\n",
       "      <td>2</td>\n",
       "      <td>Herodotus (0016) - Histories (001).json</td>\n",
       "      <td>Herodotus</td>\n",
       "      <td>Histories</td>\n",
       "    </tr>\n",
       "    <tr>\n",
       "      <th>2</th>\n",
       "      <td>1</td>\n",
       "      <td>1.t.1</td>\n",
       "      <td>ἱστορίης</td>\n",
       "      <td>ἱστορία</td>\n",
       "      <td>noun</td>\n",
       "      <td>fem gen sg (epic ionic)</td>\n",
       "      <td>3</td>\n",
       "      <td>Herodotus (0016) - Histories (001).json</td>\n",
       "      <td>Herodotus</td>\n",
       "      <td>Histories</td>\n",
       "    </tr>\n",
       "    <tr>\n",
       "      <th>3</th>\n",
       "      <td>1</td>\n",
       "      <td>1.t.1</td>\n",
       "      <td>ἀπόδεξις</td>\n",
       "      <td>ἀπόδεξις</td>\n",
       "      <td>noun</td>\n",
       "      <td>fem nom sg</td>\n",
       "      <td>4</td>\n",
       "      <td>Herodotus (0016) - Histories (001).json</td>\n",
       "      <td>Herodotus</td>\n",
       "      <td>Histories</td>\n",
       "    </tr>\n",
       "    <tr>\n",
       "      <th>4</th>\n",
       "      <td>1</td>\n",
       "      <td>1.t.1</td>\n",
       "      <td>ἥδε</td>\n",
       "      <td>ὅδε</td>\n",
       "      <td>pronoun</td>\n",
       "      <td>fem nom sg</td>\n",
       "      <td>5</td>\n",
       "      <td>Herodotus (0016) - Histories (001).json</td>\n",
       "      <td>Herodotus</td>\n",
       "      <td>Histories</td>\n",
       "    </tr>\n",
       "  </tbody>\n",
       "</table>\n",
       "</div>"
      ],
      "text/plain": [
       "   sent_id location           form          lemma      POS  \\\n",
       "0        1    1.t.1       Ἡροδότου       Ἡρόδοτος   proper   \n",
       "1        1    1.t.1  Ἁλικαρνησσέος  Ἁλικαρνησσεύς   proper   \n",
       "2        1    1.t.1       ἱστορίης        ἱστορία     noun   \n",
       "3        1    1.t.1       ἀπόδεξις       ἀπόδεξις     noun   \n",
       "4        1    1.t.1            ἥδε            ὅδε  pronoun   \n",
       "\n",
       "                   analyses  id                                     file  \\\n",
       "0               masc gen sg   1  Herodotus (0016) - Histories (001).json   \n",
       "1  masc gen sg (epic ionic)   2  Herodotus (0016) - Histories (001).json   \n",
       "2   fem gen sg (epic ionic)   3  Herodotus (0016) - Histories (001).json   \n",
       "3                fem nom sg   4  Herodotus (0016) - Histories (001).json   \n",
       "4                fem nom sg   5  Herodotus (0016) - Histories (001).json   \n",
       "\n",
       "      author       text  \n",
       "0  Herodotus  Histories  \n",
       "1  Herodotus  Histories  \n",
       "2  Herodotus  Histories  \n",
       "3  Herodotus  Histories  \n",
       "4  Herodotus  Histories  "
      ]
     },
     "execution_count": 5,
     "metadata": {},
     "output_type": "execute_result"
    }
   ],
   "source": [
    "df_tokens.head()"
   ]
  },
  {
   "cell_type": "code",
   "execution_count": 6,
   "id": "92b98dee",
   "metadata": {},
   "outputs": [
    {
     "data": {
      "text/html": [
       "<div>\n",
       "<style scoped>\n",
       "    .dataframe tbody tr th:only-of-type {\n",
       "        vertical-align: middle;\n",
       "    }\n",
       "\n",
       "    .dataframe tbody tr th {\n",
       "        vertical-align: top;\n",
       "    }\n",
       "\n",
       "    .dataframe thead th {\n",
       "        text-align: right;\n",
       "    }\n",
       "</style>\n",
       "<table border=\"1\" class=\"dataframe\">\n",
       "  <thead>\n",
       "    <tr style=\"text-align: right;\">\n",
       "      <th></th>\n",
       "      <th>sent_id</th>\n",
       "      <th>location</th>\n",
       "      <th>forms</th>\n",
       "      <th>lemmata</th>\n",
       "      <th>file</th>\n",
       "      <th>author</th>\n",
       "      <th>text</th>\n",
       "    </tr>\n",
       "  </thead>\n",
       "  <tbody>\n",
       "    <tr>\n",
       "      <th>0</th>\n",
       "      <td>1</td>\n",
       "      <td>1.t.1</td>\n",
       "      <td>Ἡροδότου Ἁλικαρνησσέος ἱστορίης ἀπόδεξις ἥδε ,...</td>\n",
       "      <td>Ἡρόδοτος Ἁλικαρνησσεύς ἱστορία ἀπόδεξις ὅδε ὡς...</td>\n",
       "      <td>Herodotus (0016) - Histories (001).json</td>\n",
       "      <td>Herodotus</td>\n",
       "      <td>Histories</td>\n",
       "    </tr>\n",
       "    <tr>\n",
       "      <th>1</th>\n",
       "      <td>2</td>\n",
       "      <td>1.1.1</td>\n",
       "      <td>Περσέων μέν νυν οἱ λόγιοι Φοίνικας αἰτίους φασ...</td>\n",
       "      <td>Πέρσευς μέν νῦν ὁ λόγιος Φοῖνιξ αἴτιος φημί γί...</td>\n",
       "      <td>Herodotus (0016) - Histories (001).json</td>\n",
       "      <td>Herodotus</td>\n",
       "      <td>Histories</td>\n",
       "    </tr>\n",
       "    <tr>\n",
       "      <th>2</th>\n",
       "      <td>3</td>\n",
       "      <td>1.1.2</td>\n",
       "      <td>τούτους γὰρ ἀπὸ τῆς Ἐρυθρῆς καλεομένης θαλάσση...</td>\n",
       "      <td>οὗτος γάρ ἀπό ὁ Ἐρυθραί καλέω θάλασσα ἀφικνέομ...</td>\n",
       "      <td>Herodotus (0016) - Histories (001).json</td>\n",
       "      <td>Herodotus</td>\n",
       "      <td>Histories</td>\n",
       "    </tr>\n",
       "    <tr>\n",
       "      <th>3</th>\n",
       "      <td>4</td>\n",
       "      <td>1.1.7</td>\n",
       "      <td>τὸ δὲ Ἄργος τοῦτον τὸν χρόνον προεῖχε ἅπασι τῶ...</td>\n",
       "      <td>ὁ δέ Ἄργος οὗτος ὁ χρόνος προέχω ἅπας ὁ ἐν ὁ ν...</td>\n",
       "      <td>Herodotus (0016) - Histories (001).json</td>\n",
       "      <td>Herodotus</td>\n",
       "      <td>Histories</td>\n",
       "    </tr>\n",
       "    <tr>\n",
       "      <th>4</th>\n",
       "      <td>5</td>\n",
       "      <td>1.1.9</td>\n",
       "      <td>ἀπικομένους δὲ τούς Φοίνικας ἐς δὴ τὸ Ἄργος το...</td>\n",
       "      <td>ἀφικνέομαι δέ ὁ Φοῖνιξ εἰς δή ὁ Ἄργος οὗτος δι...</td>\n",
       "      <td>Herodotus (0016) - Histories (001).json</td>\n",
       "      <td>Herodotus</td>\n",
       "      <td>Histories</td>\n",
       "    </tr>\n",
       "  </tbody>\n",
       "</table>\n",
       "</div>"
      ],
      "text/plain": [
       "   sent_id location                                              forms  \\\n",
       "0        1    1.t.1  Ἡροδότου Ἁλικαρνησσέος ἱστορίης ἀπόδεξις ἥδε ,...   \n",
       "1        2    1.1.1  Περσέων μέν νυν οἱ λόγιοι Φοίνικας αἰτίους φασ...   \n",
       "2        3    1.1.2  τούτους γὰρ ἀπὸ τῆς Ἐρυθρῆς καλεομένης θαλάσση...   \n",
       "3        4    1.1.7  τὸ δὲ Ἄργος τοῦτον τὸν χρόνον προεῖχε ἅπασι τῶ...   \n",
       "4        5    1.1.9  ἀπικομένους δὲ τούς Φοίνικας ἐς δὴ τὸ Ἄργος το...   \n",
       "\n",
       "                                             lemmata  \\\n",
       "0  Ἡρόδοτος Ἁλικαρνησσεύς ἱστορία ἀπόδεξις ὅδε ὡς...   \n",
       "1  Πέρσευς μέν νῦν ὁ λόγιος Φοῖνιξ αἴτιος φημί γί...   \n",
       "2  οὗτος γάρ ἀπό ὁ Ἐρυθραί καλέω θάλασσα ἀφικνέομ...   \n",
       "3  ὁ δέ Ἄργος οὗτος ὁ χρόνος προέχω ἅπας ὁ ἐν ὁ ν...   \n",
       "4  ἀφικνέομαι δέ ὁ Φοῖνιξ εἰς δή ὁ Ἄργος οὗτος δι...   \n",
       "\n",
       "                                      file     author       text  \n",
       "0  Herodotus (0016) - Histories (001).json  Herodotus  Histories  \n",
       "1  Herodotus (0016) - Histories (001).json  Herodotus  Histories  \n",
       "2  Herodotus (0016) - Histories (001).json  Herodotus  Histories  \n",
       "3  Herodotus (0016) - Histories (001).json  Herodotus  Histories  \n",
       "4  Herodotus (0016) - Histories (001).json  Herodotus  Histories  "
      ]
     },
     "execution_count": 6,
     "metadata": {},
     "output_type": "execute_result"
    }
   ],
   "source": [
    "df_sents.head()"
   ]
  },
  {
   "cell_type": "markdown",
   "id": "9fcb04bd",
   "metadata": {
    "tags": []
   },
   "source": [
    "## Anotando Gênero"
   ]
  },
  {
   "cell_type": "code",
   "execution_count": 7,
   "id": "465542a6",
   "metadata": {},
   "outputs": [],
   "source": [
    "hist = [\n",
    "    \"Herodotus (0016) - Histories (001).json\",\n",
    "    \"Thucydides (0003) - History (001).json\",\n",
    "    \"Xenophon (0032) - Hellenica (001).json\",\n",
    "    \"Xenophon (0032) - Cyropaedia (007).json\",\n",
    "    \"Xenophon (0032) - Anabasis (006).json\",\n",
    "]"
   ]
  },
  {
   "cell_type": "code",
   "execution_count": 8,
   "id": "1274cd1a",
   "metadata": {},
   "outputs": [],
   "source": [
    "# Deve haver uma maneira menos rocambolesca para resolver isso\n",
    "df_tokens['genero'] = np.nan\n",
    "df_tokens.loc[df_tokens.file.isin(hist), 'genero'] = \"hist\"\n",
    "df_tokens.genero.fillna(\"filo\", inplace=True)\n",
    "df_sents['genero'] = np.nan\n",
    "df_sents.loc[df_sents.file.isin(hist), 'genero'] = \"hist\"\n",
    "df_sents.genero.fillna(\"filo\", inplace=True)"
   ]
  },
  {
   "cell_type": "markdown",
   "id": "b9345ae6",
   "metadata": {},
   "source": [
    "Para meu modelo funcionar, será necessário ter uma quantidade relativamente equilibrada de dados entre autores de prosa historiográfica e prosa filosófica, a seleção parece razoável.\n",
    "Qualquer tentativa de aumentar os dados de historiografia forçaria aumentar o escopo temporal (o próximo autor seria Políbio, já do período helenístico).\n",
    "Nota-se que a diferença aumenta quando tratamos de sentenças e não de tokens, indicando que as sentenças em textos historiográficos devem ser um pouco mais longas na média."
   ]
  },
  {
   "cell_type": "code",
   "execution_count": 9,
   "id": "ba94d233",
   "metadata": {},
   "outputs": [
    {
     "data": {
      "image/png": "[encoded data removed]",
      "text/plain": [
       "<Figure size 576x396 with 1 Axes>"
      ]
     },
     "metadata": {},
     "output_type": "display_data"
    }
   ],
   "source": [
    "_= sns.countplot(x='genero', data=df_tokens)"
   ]
  },
  {
   "cell_type": "code",
   "execution_count": 10,
   "id": "d60e2197",
   "metadata": {},
   "outputs": [
    {
     "data": {
      "image/png": "[encoded data removed]",
      "text/plain": [
       "<Figure size 576x396 with 1 Axes>"
      ]
     },
     "metadata": {},
     "output_type": "display_data"
    }
   ],
   "source": [
    "_= sns.countplot(x='genero', data=df_sents)"
   ]
  },
  {
   "cell_type": "markdown",
   "id": "89c2662e",
   "metadata": {},
   "source": [
    "# Verbos por gênero (dataframe de tokens)"
   ]
  },
  {
   "cell_type": "code",
   "execution_count": 11,
   "id": "dbaac71c",
   "metadata": {},
   "outputs": [
    {
     "data": {
      "text/html": [
       "<div>\n",
       "<style scoped>\n",
       "    .dataframe tbody tr th:only-of-type {\n",
       "        vertical-align: middle;\n",
       "    }\n",
       "\n",
       "    .dataframe tbody tr th {\n",
       "        vertical-align: top;\n",
       "    }\n",
       "\n",
       "    .dataframe thead th {\n",
       "        text-align: right;\n",
       "    }\n",
       "</style>\n",
       "<table border=\"1\" class=\"dataframe\">\n",
       "  <thead>\n",
       "    <tr style=\"text-align: right;\">\n",
       "      <th></th>\n",
       "      <th>sent_id</th>\n",
       "      <th>location</th>\n",
       "      <th>form</th>\n",
       "      <th>lemma</th>\n",
       "      <th>POS</th>\n",
       "      <th>analyses</th>\n",
       "      <th>id</th>\n",
       "      <th>file</th>\n",
       "      <th>author</th>\n",
       "      <th>text</th>\n",
       "      <th>genero</th>\n",
       "    </tr>\n",
       "  </thead>\n",
       "  <tbody>\n",
       "    <tr>\n",
       "      <th>30</th>\n",
       "      <td>1</td>\n",
       "      <td>1.t.1</td>\n",
       "      <td>ἀποδεχθέντα</td>\n",
       "      <td>ἀποδέχομαι</td>\n",
       "      <td>verb</td>\n",
       "      <td>aor part pass neut nom/voc/acc pl;aor part pas...</td>\n",
       "      <td>28</td>\n",
       "      <td>Herodotus (0016) - Histories (001).json</td>\n",
       "      <td>Herodotus</td>\n",
       "      <td>Histories</td>\n",
       "      <td>hist</td>\n",
       "    </tr>\n",
       "    <tr>\n",
       "      <th>42</th>\n",
       "      <td>1</td>\n",
       "      <td>1.t.1</td>\n",
       "      <td>ἐπολέμησαν</td>\n",
       "      <td>πολεμέω</td>\n",
       "      <td>verb</td>\n",
       "      <td>aor ind act 3rd pl</td>\n",
       "      <td>38</td>\n",
       "      <td>Herodotus (0016) - Histories (001).json</td>\n",
       "      <td>Herodotus</td>\n",
       "      <td>Histories</td>\n",
       "      <td>hist</td>\n",
       "    </tr>\n",
       "    <tr>\n",
       "      <th>62</th>\n",
       "      <td>3</td>\n",
       "      <td>1.1.2</td>\n",
       "      <td>καλεομένης</td>\n",
       "      <td>καλέω</td>\n",
       "      <td>verb</td>\n",
       "      <td>fut part mid fem gen sg (attic epic ionic);pre...</td>\n",
       "      <td>6</td>\n",
       "      <td>Herodotus (0016) - Histories (001).json</td>\n",
       "      <td>Herodotus</td>\n",
       "      <td>Histories</td>\n",
       "      <td>hist</td>\n",
       "    </tr>\n",
       "    <tr>\n",
       "      <th>64</th>\n",
       "      <td>3</td>\n",
       "      <td>1.1.2</td>\n",
       "      <td>ἀπικομένους</td>\n",
       "      <td>ἀφικνέομαι</td>\n",
       "      <td>verb</td>\n",
       "      <td>aor part mid masc acc pl (ionic)</td>\n",
       "      <td>8</td>\n",
       "      <td>Herodotus (0016) - Histories (001).json</td>\n",
       "      <td>Herodotus</td>\n",
       "      <td>Histories</td>\n",
       "      <td>hist</td>\n",
       "    </tr>\n",
       "    <tr>\n",
       "      <th>71</th>\n",
       "      <td>3</td>\n",
       "      <td>1.1.2</td>\n",
       "      <td>οἰκήσαντας</td>\n",
       "      <td>οἰκέω</td>\n",
       "      <td>verb</td>\n",
       "      <td>aor part act masc acc pl</td>\n",
       "      <td>14</td>\n",
       "      <td>Herodotus (0016) - Histories (001).json</td>\n",
       "      <td>Herodotus</td>\n",
       "      <td>Histories</td>\n",
       "      <td>hist</td>\n",
       "    </tr>\n",
       "  </tbody>\n",
       "</table>\n",
       "</div>"
      ],
      "text/plain": [
       "    sent_id location         form       lemma   POS  \\\n",
       "30        1    1.t.1  ἀποδεχθέντα  ἀποδέχομαι  verb   \n",
       "42        1    1.t.1   ἐπολέμησαν     πολεμέω  verb   \n",
       "62        3    1.1.2   καλεομένης       καλέω  verb   \n",
       "64        3    1.1.2  ἀπικομένους  ἀφικνέομαι  verb   \n",
       "71        3    1.1.2   οἰκήσαντας       οἰκέω  verb   \n",
       "\n",
       "                                             analyses  id  \\\n",
       "30  aor part pass neut nom/voc/acc pl;aor part pas...  28   \n",
       "42                                 aor ind act 3rd pl  38   \n",
       "62  fut part mid fem gen sg (attic epic ionic);pre...   6   \n",
       "64                   aor part mid masc acc pl (ionic)   8   \n",
       "71                           aor part act masc acc pl  14   \n",
       "\n",
       "                                       file     author       text genero  \n",
       "30  Herodotus (0016) - Histories (001).json  Herodotus  Histories   hist  \n",
       "42  Herodotus (0016) - Histories (001).json  Herodotus  Histories   hist  \n",
       "62  Herodotus (0016) - Histories (001).json  Herodotus  Histories   hist  \n",
       "64  Herodotus (0016) - Histories (001).json  Herodotus  Histories   hist  \n",
       "71  Herodotus (0016) - Histories (001).json  Herodotus  Histories   hist  "
      ]
     },
     "execution_count": 11,
     "metadata": {},
     "output_type": "execute_result"
    }
   ],
   "source": [
    "df_verbos = df_tokens.loc[(df_tokens.POS == \"verb\") & (-df_tokens.lemma.isin(STOPS_LIST)),]\n",
    "df_verbos.head()"
   ]
  },
  {
   "cell_type": "markdown",
   "id": "d809da9c",
   "metadata": {},
   "source": [
    "A filtragem não causa mudança na proporção entre documentos de historiografia e filosofia."
   ]
  },
  {
   "cell_type": "code",
   "execution_count": 12,
   "id": "cd20f024",
   "metadata": {},
   "outputs": [
    {
     "data": {
      "image/png": "[encoded data removed]",
      "text/plain": [
       "<Figure size 576x396 with 1 Axes>"
      ]
     },
     "metadata": {},
     "output_type": "display_data"
    }
   ],
   "source": [
    "_= sns.countplot(x='genero', data=df_verbos)"
   ]
  },
  {
   "cell_type": "code",
   "execution_count": 13,
   "id": "9a191615",
   "metadata": {},
   "outputs": [
    {
     "data": {
      "text/plain": [
       "οἴομαι          1728\n",
       "οἶδα            1451\n",
       "φαίνω           1198\n",
       "βούλομαι        1163\n",
       "δεῖ             1017\n",
       "                ... \n",
       "ἀνακάμπτω          1\n",
       "μαλακίζομαι        1\n",
       "ἐναντιολογέω       1\n",
       "παρωνυμέω          1\n",
       "ἐφέζομαι           1\n",
       "Name: lemma, Length: 3652, dtype: int64"
      ]
     },
     "execution_count": 13,
     "metadata": {},
     "output_type": "execute_result"
    }
   ],
   "source": [
    "filo_verbos = df_verbos[df_verbos.genero == \"filo\"].lemma\n",
    "filo_verbos.value_counts()"
   ]
  },
  {
   "cell_type": "code",
   "execution_count": 14,
   "id": "ddb108ea",
   "metadata": {},
   "outputs": [
    {
     "data": {
      "text/plain": [
       "<AxesSubplot:ylabel='Density'>"
      ]
     },
     "execution_count": 14,
     "metadata": {},
     "output_type": "execute_result"
    },
    {
     "data": {
      "image/png": "[encoded data removed]",
      "text/plain": [
       "<Figure size 576x396 with 1 Axes>"
      ]
     },
     "metadata": {},
     "output_type": "display_data"
    }
   ],
   "source": [
    "#_ = filo_verbos.value_counts().plot(kind='density', cmap='Set3')\n",
    "sns.kdeplot(filo_verbos.value_counts().values)"
   ]
  },
  {
   "cell_type": "code",
   "execution_count": 15,
   "id": "a3f219c4",
   "metadata": {},
   "outputs": [
    {
     "data": {
      "text/plain": [
       "βούλομαι        1177\n",
       "λαμβάνω          994\n",
       "ἀφικνέομαι       915\n",
       "ἔρχομαι          872\n",
       "πάρειμι          822\n",
       "                ... \n",
       "ἐπεικάζω           1\n",
       "ἀποκηδεύω          1\n",
       "πυκνόω             1\n",
       "καθιππάζομαι       1\n",
       "ἐξαυλίζομαι        1\n",
       "Name: lemma, Length: 4331, dtype: int64"
      ]
     },
     "execution_count": 15,
     "metadata": {},
     "output_type": "execute_result"
    }
   ],
   "source": [
    "hist_verbos = df_verbos[df_verbos.genero == \"hist\"].lemma\n",
    "hist_verbos.value_counts()"
   ]
  },
  {
   "cell_type": "code",
   "execution_count": 16,
   "id": "2b1abcaa",
   "metadata": {},
   "outputs": [
    {
     "data": {
      "text/plain": [
       "<AxesSubplot:ylabel='Density'>"
      ]
     },
     "execution_count": 16,
     "metadata": {},
     "output_type": "execute_result"
    },
    {
     "data": {
      "image/png": "[encoded data removed]",
      "text/plain": [
       "<Figure size 576x396 with 1 Axes>"
      ]
     },
     "metadata": {},
     "output_type": "display_data"
    }
   ],
   "source": [
    "sns.kdeplot(hist_verbos.value_counts().values)"
   ]
  },
  {
   "cell_type": "markdown",
   "id": "2818a3cd",
   "metadata": {},
   "source": [
    "# Naive Bayes: Documento = sentença\n"
   ]
  },
  {
   "cell_type": "markdown",
   "id": "7b84737e-6d1f-45f5-a5de-0a67e53c6e54",
   "metadata": {},
   "source": [
    "Para comparar os resultados, salvarei os testes bem sucedidos em uma variável `resultados`"
   ]
  },
  {
   "cell_type": "code",
   "execution_count": 136,
   "id": "4d20ddc9-7ca7-42b1-aac8-b43a943a1e94",
   "metadata": {},
   "outputs": [],
   "source": [
    "resultados = {}"
   ]
  },
  {
   "cell_type": "markdown",
   "id": "d3703608-cb5b-4894-a583-dfe4e496563c",
   "metadata": {},
   "source": [
    "O código abaixo agora está generalizado no módulo `lexicogenero.stats`, mas não será retirado do notebook."
   ]
  },
  {
   "cell_type": "code",
   "execution_count": 137,
   "id": "feb42a8f-e0e8-4e92-a23d-afa250fae878",
   "metadata": {},
   "outputs": [],
   "source": [
    "def achatar(lista):\n",
    "    return list(itertools.chain(*lista))\n",
    "\n",
    "def naive_bayes(x, y, random_state=42):\n",
    "    x_treino, x_teste, y_treino, y_teste = train_test_split(x, y, test_size=0.20, random_state=random_state)\n",
    "\n",
    "    filo = [x for x, y in zip(x_treino, y_treino) if y == 'filo']\n",
    "    hist = [x for x, y in zip(x_treino, y_treino) if y == 'hist']\n",
    "    \n",
    "    vocab_filo = Counter(achatar(filo))\n",
    "    vocab_hist = Counter(achatar(hist))\n",
    "    \n",
    "    n_filo = len(filo)\n",
    "    n_hist = len(hist)\n",
    "    n = n_filo + n_hist\n",
    "    p_filo = np.log2(n_filo / n)\n",
    "    p_hist = np.log2(n_hist / n)\n",
    "    \n",
    "    n_vocab_filo = len(vocab_filo)\n",
    "    n_vocab_hist = len(vocab_hist)\n",
    "    \n",
    "    def pred_bayes(texto):\n",
    "        texto_filo = [x for x in texto if x in vocab_filo.keys()]\n",
    "        c_doc_filo = Counter(achatar(texto_filo))\n",
    "        texto_hist = [x for x in texto if x in vocab_hist.keys()]\n",
    "        c_doc_hist = Counter(achatar(texto_hist))\n",
    "\n",
    "        pf_filo = sum([np.log2((c_doc_filo[token] + 1) / n_vocab_filo + len(texto_filo)) for token in texto_filo])\n",
    "        pf_hist = sum([np.log2((c_doc_hist[token] + 1) / n_vocab_hist + len(texto_hist)) for token in texto_hist])\n",
    "\n",
    "\n",
    "        prob_filo = p_filo + pf_filo\n",
    "        prob_hist = p_hist + pf_hist\n",
    "\n",
    "\n",
    "        return prob_filo, prob_hist\n",
    "    \n",
    "    teste_pred_labels = []\n",
    "    for t in x_teste:\n",
    "        prob_filo, prob_hist = pred_bayes(t)\n",
    "        if prob_filo >= prob_hist:\n",
    "            teste_pred_labels.append(\"filo\")\n",
    "        else:\n",
    "            teste_pred_labels.append(\"hist\")\n",
    "    \n",
    "    teste_orig_labels = [x for x in y_teste]\n",
    "\n",
    "    return teste_pred_labels, teste_orig_labels\n",
    "\n",
    "\n",
    "def performance(teste_pred_labels, teste_orig_labels):\n",
    "    performance_labels = []\n",
    "\n",
    "    for pred, label in zip(teste_pred_labels, teste_orig_labels):\n",
    "        if label == \"filo\" and pred == \"filo\":\n",
    "            performance_labels.append(\"VP\")\n",
    "        elif label == \"filo\" and pred == \"hist\":\n",
    "            performance_labels.append(\"FP\")\n",
    "        elif label == \"hist\" and pred == \"hist\":\n",
    "            performance_labels.append(\"VN\")\n",
    "        else:\n",
    "            performance_labels.append(\"FN\")\n",
    "\n",
    "    return Counter(performance_labels)\n",
    "    \n",
    "    \n",
    "def metricas(perf_counter, verbose=True):\n",
    "    \n",
    "    if (perf_counter['VP'] + perf_counter['FP'] == 0) or (perf_counter['VP'] + perf_counter['FN'] == 0):\n",
    "        return {'precisão': np.nan, 'cobertura': np.nan, 'acurácia': np.nan, 'medida_f1': np.nan}\n",
    "    \n",
    "    else:\n",
    "        precisao = perf_counter['VP'] / (perf_counter['VP'] + perf_counter['FP'])\n",
    "        cobertura = perf_counter['VP'] / (perf_counter['VP'] + perf_counter['FN'])\n",
    "        acuracia = (perf_counter['VP'] + perf_counter['VN']) / sum(perf_counter.values())\n",
    "        medida_f = 2 * (precisao * cobertura) / (precisao + cobertura)\n",
    "        \n",
    "        if verbose:\n",
    "            print(f'Precisão:  {precisao}')\n",
    "            print(f'Cobertura: {cobertura}')\n",
    "            print(f'Acurácia:  {acuracia}')\n",
    "            print(f'Medida F:  {medida_f}')\n",
    "    \n",
    "        return {'precisão': precisao, 'cobertura': cobertura, 'acurácia': acuracia, 'medida_f1': medida_f}\n",
    "\n"
   ]
  },
  {
   "cell_type": "markdown",
   "id": "ce7ca279",
   "metadata": {},
   "source": [
    "## Apenas de tokens de verbos\n",
    "\n",
    "O resultado é terrível, provavelmente porque a implementação do modelo não é a melhor, afinal o `DOCUMENTO` e suas componentes são a mesma entidade."
   ]
  },
  {
   "cell_type": "code",
   "execution_count": 17,
   "id": "893fefd6-6258-4e88-b134-e577ce4be44b",
   "metadata": {},
   "outputs": [],
   "source": [
    "j = df_verbos.groupby(['author', 'text', 'file', 'sent_id', 'genero']).agg({\n",
    "    'lemma': lambda x: \" \".join(x),\n",
    "})\n",
    "\n",
    "df_verbos_sent = j.reset_index().loc[:,:]\n",
    "df_verbos_sent['lst_lemmata'] = df_verbos_sent.lemma.str.split()"
   ]
  },
  {
   "cell_type": "code",
   "execution_count": 139,
   "id": "053263d7",
   "metadata": {
    "tags": []
   },
   "outputs": [],
   "source": [
    "x, y = df_verbos_sent.lst_lemmata, df_verbos_sent.genero"
   ]
  },
  {
   "cell_type": "markdown",
   "id": "d0f4c945-0ced-4131-ba77-ef50d467dfe0",
   "metadata": {},
   "source": [
    "Como o modelo apenas previu a `label` 'hist', o resultado saiu inutilizável para testes de performance."
   ]
  },
  {
   "cell_type": "code",
   "execution_count": 140,
   "id": "c19238d6",
   "metadata": {},
   "outputs": [],
   "source": [
    "pred,true = naive_bayes(x, y, random_state=42)"
   ]
  },
  {
   "cell_type": "code",
   "execution_count": 141,
   "id": "e6f9d04d-b079-495d-aba9-2702c563225c",
   "metadata": {},
   "outputs": [
    {
     "data": {
      "text/plain": [
       "Counter({'filo': 9849, 'hist': 936})"
      ]
     },
     "execution_count": 141,
     "metadata": {},
     "output_type": "execute_result"
    }
   ],
   "source": [
    "Counter(pred)"
   ]
  },
  {
   "cell_type": "code",
   "execution_count": 142,
   "id": "ab4b461f-9e81-4228-b098-22a45bcb2809",
   "metadata": {},
   "outputs": [
    {
     "data": {
      "text/plain": [
       "Counter({'hist': 5246, 'filo': 5539})"
      ]
     },
     "execution_count": 142,
     "metadata": {},
     "output_type": "execute_result"
    }
   ],
   "source": [
    "Counter(true)"
   ]
  },
  {
   "cell_type": "code",
   "execution_count": 143,
   "id": "a6ef4da8-0839-402a-a0c7-4a9adb11c4f1",
   "metadata": {},
   "outputs": [
    {
     "data": {
      "text/plain": [
       "Counter({'FN': 4377, 'VP': 5472, 'VN': 869, 'FP': 67})"
      ]
     },
     "execution_count": 143,
     "metadata": {},
     "output_type": "execute_result"
    }
   ],
   "source": [
    "perf_counter = performance(pred,true)\n",
    "perf_counter"
   ]
  },
  {
   "cell_type": "code",
   "execution_count": 144,
   "id": "7c8c5fa8-7687-47b4-b74d-c7dafd8e5b5c",
   "metadata": {},
   "outputs": [
    {
     "name": "stdout",
     "output_type": "stream",
     "text": [
      "Precisão:  0.9879039537822711\n",
      "Cobertura: 0.5555893999390801\n",
      "Acurácia:  0.5879462216040797\n",
      "Medida F:  0.7112035352222511\n"
     ]
    }
   ],
   "source": [
    "resultados['doc-sent-verbos'] = metricas(perf_counter)"
   ]
  },
  {
   "cell_type": "markdown",
   "id": "17caded2",
   "metadata": {},
   "source": [
    "## Todos os tokens"
   ]
  },
  {
   "cell_type": "markdown",
   "id": "d4057211",
   "metadata": {},
   "source": [
    "O modelo assim performa melhor, mas é pouco específico para os meus interesses: que o vocabulário da prosa filosófica e historiográfica são distintos diz pouco sobre sua seleção de verbos."
   ]
  },
  {
   "cell_type": "code",
   "execution_count": 18,
   "id": "2fad0cc4",
   "metadata": {},
   "outputs": [],
   "source": [
    "df_sents['lst_lemmata'] = df_sents.lemmata.str.split()\n",
    "df_sents.dropna(inplace=True)"
   ]
  },
  {
   "cell_type": "code",
   "execution_count": 146,
   "id": "8538fa4f-c69e-4047-af15-0132d42fa14f",
   "metadata": {},
   "outputs": [
    {
     "name": "stdout",
     "output_type": "stream",
     "text": [
      "Precisão:  0.9813494891898313\n",
      "Cobertura: 0.7373259550160657\n",
      "Acurácia:  0.779782624138666\n",
      "Medida F:  0.8420140658444601\n"
     ]
    }
   ],
   "source": [
    "x, y = df_sents.lst_lemmata, df_sents.genero\n",
    "\n",
    "pred, true = naive_bayes(x, y, random_state=42)\n",
    "perf_counter = performance(pred, true)\n",
    "resultados[\"doc-sent-tudo\"] = metricas(perf_counter)"
   ]
  },
  {
   "cell_type": "markdown",
   "id": "bf809963",
   "metadata": {},
   "source": [
    "# Conclusões parciais\n",
    "\n",
    "- O banco de dados anotado Diorisis oferece as anotações necessárias e é relativamente fácil de processar.\n",
    "- O corpus proposto oferece um número relativamente equilibrado de dados para as categorias a serem classificadas e o algoritmo de processamento permite que ele seja expandido conforme necessário.\n",
    "- Será importante revisar a suavização utilizada (no caso Laplace) para poder obter um modelo funcional se for utilizado um modelo como o Naive Bayes apenas com os verbos, embora a princípio já seja possível afirmar que esse modelo não funcionará bem assim.\n",
    "- Se for possível codificar a informação de `df_sents.lst_lemmata` selecionar os verbos principais (utilizando o dependency parser do `stanza-perseus`), os resultados poderão ser mais consistentes com aqueles que são de meu interesse."
   ]
  },
  {
   "cell_type": "markdown",
   "id": "c1f29e24",
   "metadata": {},
   "source": [
    "# Novos testes\n",
    "\n",
    "## Documento = Parágrafo\n",
    "\n",
    "### Metodologia de divisão em parágrafos\n",
    "\n",
    "Testando os exemplos por meio de agrupamento em parágrafos.\n",
    "Para produzir os parágrafos, assumirei que as notações tradicionais de divisão do texto, guardadas na variável `location` correspondem aproximadamente à divisão natural de parágrafos.\n",
    "Assim:"
   ]
  },
  {
   "cell_type": "code",
   "execution_count": 19,
   "id": "ffd7820c-f937-48a2-b8ae-02fadd0bb6c4",
   "metadata": {},
   "outputs": [],
   "source": [
    "df_tokens[['div_sup', 'par']] = df_tokens.location.str.split('.', n=1, expand=True)\n",
    "\n",
    "df_tokens.dropna(inplace=True)\n",
    "\n",
    "j = df_tokens.groupby(['author', 'text', 'file','div_sup', 'par', 'genero']).agg({\n",
    "    'lemma': lambda x: \" \".join(x),\n",
    "})\n",
    "\n",
    "df_tokens_par = j.reset_index().loc[:,:]"
   ]
  },
  {
   "cell_type": "code",
   "execution_count": 20,
   "id": "3e5626f6-cc77-4444-ab8f-3193b7109df2",
   "metadata": {},
   "outputs": [
    {
     "data": {
      "text/html": [
       "<div>\n",
       "<style scoped>\n",
       "    .dataframe tbody tr th:only-of-type {\n",
       "        vertical-align: middle;\n",
       "    }\n",
       "\n",
       "    .dataframe tbody tr th {\n",
       "        vertical-align: top;\n",
       "    }\n",
       "\n",
       "    .dataframe thead th {\n",
       "        text-align: right;\n",
       "    }\n",
       "</style>\n",
       "<table border=\"1\" class=\"dataframe\">\n",
       "  <thead>\n",
       "    <tr style=\"text-align: right;\">\n",
       "      <th></th>\n",
       "      <th>author</th>\n",
       "      <th>text</th>\n",
       "      <th>file</th>\n",
       "      <th>div_sup</th>\n",
       "      <th>par</th>\n",
       "      <th>genero</th>\n",
       "      <th>lemma</th>\n",
       "    </tr>\n",
       "  </thead>\n",
       "  <tbody>\n",
       "    <tr>\n",
       "      <th>17607</th>\n",
       "      <td>Plato</td>\n",
       "      <td>Laws</td>\n",
       "      <td>Plato (0059) - Laws (034).json</td>\n",
       "      <td>732</td>\n",
       "      <td>b.5</td>\n",
       "      <td>filo</td>\n",
       "      <td>ὅς δέ μικρός μέν οὗτος καί λέγω πολλάκις εἰμί ...</td>\n",
       "    </tr>\n",
       "    <tr>\n",
       "      <th>49103</th>\n",
       "      <td>Xenophon</td>\n",
       "      <td>Cyropaedia</td>\n",
       "      <td>Xenophon (0032) - Cyropaedia (007).json</td>\n",
       "      <td>7</td>\n",
       "      <td>1.44.1</td>\n",
       "      <td>hist</td>\n",
       "      <td>ἀκούω οὗτος ὁ Αἰγύπτιος ὁ μέν ἐπί Κροῖσος συστ...</td>\n",
       "    </tr>\n",
       "    <tr>\n",
       "      <th>32008</th>\n",
       "      <td>Plato</td>\n",
       "      <td>Sophist</td>\n",
       "      <td>Plato (0059) - Sophist (007).json</td>\n",
       "      <td>241</td>\n",
       "      <td>e.1</td>\n",
       "      <td>filo</td>\n",
       "      <td>οὗτος γάρ μήτε ἐλέγχω μήτε ὁμολογέω σχολή ποτέ...</td>\n",
       "    </tr>\n",
       "    <tr>\n",
       "      <th>1768</th>\n",
       "      <td>Herodotus</td>\n",
       "      <td>Histories</td>\n",
       "      <td>Herodotus (0016) - Histories (001).json</td>\n",
       "      <td>2</td>\n",
       "      <td>162.22</td>\n",
       "      <td>hist</td>\n",
       "      <td>ὡς δέ ἀφικνέομαι αὐτός πρός ὁ Ἀπρίης οὐ ἄγω ὁ ...</td>\n",
       "    </tr>\n",
       "    <tr>\n",
       "      <th>39371</th>\n",
       "      <td>Thucydides</td>\n",
       "      <td>History</td>\n",
       "      <td>Thucydides (0003) - History (001).json</td>\n",
       "      <td>4</td>\n",
       "      <td>16.1.10</td>\n",
       "      <td>hist</td>\n",
       "      <td>οὗτος δέ ὁράω ὁ Ἀθήναια εἰσπέμπω καί πλοῖον μη...</td>\n",
       "    </tr>\n",
       "  </tbody>\n",
       "</table>\n",
       "</div>"
      ],
      "text/plain": [
       "           author        text                                     file  \\\n",
       "17607       Plato        Laws           Plato (0059) - Laws (034).json   \n",
       "49103    Xenophon  Cyropaedia  Xenophon (0032) - Cyropaedia (007).json   \n",
       "32008       Plato     Sophist        Plato (0059) - Sophist (007).json   \n",
       "1768    Herodotus   Histories  Herodotus (0016) - Histories (001).json   \n",
       "39371  Thucydides     History   Thucydides (0003) - History (001).json   \n",
       "\n",
       "      div_sup      par genero  \\\n",
       "17607     732      b.5   filo   \n",
       "49103       7   1.44.1   hist   \n",
       "32008     241      e.1   filo   \n",
       "1768        2   162.22   hist   \n",
       "39371       4  16.1.10   hist   \n",
       "\n",
       "                                                   lemma  \n",
       "17607  ὅς δέ μικρός μέν οὗτος καί λέγω πολλάκις εἰμί ...  \n",
       "49103  ἀκούω οὗτος ὁ Αἰγύπτιος ὁ μέν ἐπί Κροῖσος συστ...  \n",
       "32008  οὗτος γάρ μήτε ἐλέγχω μήτε ὁμολογέω σχολή ποτέ...  \n",
       "1768   ὡς δέ ἀφικνέομαι αὐτός πρός ὁ Ἀπρίης οὐ ἄγω ὁ ...  \n",
       "39371  οὗτος δέ ὁράω ὁ Ἀθήναια εἰσπέμπω καί πλοῖον μη...  "
      ]
     },
     "execution_count": 20,
     "metadata": {},
     "output_type": "execute_result"
    }
   ],
   "source": [
    "df_tokens_par.sample(n=5, random_state=15)"
   ]
  },
  {
   "cell_type": "code",
   "execution_count": 30,
   "id": "d0e5ec0e-5c4a-41c2-9692-b9906dd80ed5",
   "metadata": {},
   "outputs": [],
   "source": [
    "df_tokens_par['par_len'] = df_tokens_par.lemma.apply(len)"
   ]
  },
  {
   "cell_type": "markdown",
   "id": "56679955-18f8-47a6-9e54-ae68c3ab2d69",
   "metadata": {},
   "source": [
    "No entanto, como a divisão tradicional dos textos platônicos segue o padrão das páginas Stephanus, é de se imaginar que o tamanho dos parágrafos será artificialmente normalizado, o que por um lado lhe dará uma distribuição anormal em relação aos demais e por outro causará um número grande de outliers, dado que a maioria estará concentrada em uma faixa de frequência.\n",
    "Além disso, a variação de tamanho dos parágrafos é muito grande no geral, sendo importante filtrar os dados para que essa variação não seja carregada pelo modelo."
   ]
  },
  {
   "cell_type": "code",
   "execution_count": 31,
   "id": "f1a86471-e079-4ef1-9249-6a6da532c4b1",
   "metadata": {},
   "outputs": [
    {
     "data": {
      "image/png": "[encoded data removed]",
      "text/plain": [
       "<Figure size 576x396 with 1 Axes>"
      ]
     },
     "metadata": {},
     "output_type": "display_data"
    }
   ],
   "source": [
    "plot = sns.boxplot(x='author', y='par_len', data=df_tokens_par)\n",
    "plot.set_ylabel('Comprimento do parágrafo')\n",
    "plot.set_xlabel('Autor')\n",
    "plt.show()"
   ]
  },
  {
   "cell_type": "code",
   "execution_count": 32,
   "id": "93bbdca9-5d39-4f92-8209-e3c18ec6809a",
   "metadata": {},
   "outputs": [
    {
     "data": {
      "image/png": "[encoded data removed]",
      "text/plain": [
       "<Figure size 576x396 with 1 Axes>"
      ]
     },
     "metadata": {},
     "output_type": "display_data"
    }
   ],
   "source": [
    "plot = sns.histplot(df_tokens_par.par_len, bins=100)\n",
    "plot.set_ylabel('Conta')\n",
    "plt.show()"
   ]
  },
  {
   "cell_type": "code",
   "execution_count": 33,
   "id": "a78d8dbf-3e5b-4fd7-a6d8-64de66acac73",
   "metadata": {},
   "outputs": [
    {
     "data": {
      "image/png": "[encoded data removed]",
      "text/plain": [
       "<Figure size 720x720 with 4 Axes>"
      ]
     },
     "metadata": {},
     "output_type": "display_data"
    }
   ],
   "source": [
    "plot = sns.displot(df_tokens_par, \n",
    "            x='par_len', \n",
    "            col='author',\n",
    "            col_wrap=2, \n",
    "            bins=100)\n",
    "plot.set_ylabels('Conta')\n",
    "plot.set_titles(template='{col_name}')\n",
    "plt.show()"
   ]
  },
  {
   "cell_type": "markdown",
   "id": "7d20b7d5-8107-4f98-bab5-8121b96516c7",
   "metadata": {},
   "source": [
    "Para ajustar um pouco a divisão, excluo os quantis abaixo de 5% e acima de 95%, chegando a uma distribuição mais aceitável."
   ]
  },
  {
   "cell_type": "code",
   "execution_count": 34,
   "id": "9f9db7a9",
   "metadata": {},
   "outputs": [],
   "source": [
    "minimo, maximo = df_tokens_par.par_len.quantile([.05, .95]).values\n",
    "tamanho_representativo = (df_tokens_par.par_len > minimo) & (df_tokens_par.par_len < maximo)"
   ]
  },
  {
   "cell_type": "code",
   "execution_count": 35,
   "id": "65f22326-aae6-4efd-9e86-031794d57bae",
   "metadata": {},
   "outputs": [
    {
     "data": {
      "image/png": "[encoded data removed]",
      "text/plain": [
       "<Figure size 576x396 with 1 Axes>"
      ]
     },
     "metadata": {},
     "output_type": "display_data"
    }
   ],
   "source": [
    "plot = sns.histplot(df_tokens_par.loc[tamanho_representativo].par_len, bins=100)\n",
    "plot.set_ylabel('Conta')\n",
    "plt.show()"
   ]
  },
  {
   "cell_type": "code",
   "execution_count": 36,
   "id": "f3f62b0d",
   "metadata": {
    "scrolled": true,
    "tags": []
   },
   "outputs": [
    {
     "data": {
      "image/png": "[encoded data removed]",
      "text/plain": [
       "<Figure size 720x720 with 4 Axes>"
      ]
     },
     "metadata": {},
     "output_type": "display_data"
    }
   ],
   "source": [
    "plot = sns.displot(df_tokens_par.loc[tamanho_representativo], \n",
    "            x='par_len', \n",
    "            col='author',\n",
    "            col_wrap=2, \n",
    "            bins=100)\n",
    "plot.set_ylabels('Conta')\n",
    "plot.set_titles(template='{col_name}')\n",
    "plt.show()"
   ]
  },
  {
   "cell_type": "code",
   "execution_count": 37,
   "id": "83253bd1-13dd-4794-a51f-c829ce5e5eb8",
   "metadata": {},
   "outputs": [
    {
     "data": {
      "image/png": "[encoded data removed]",
      "text/plain": [
       "<Figure size 576x396 with 1 Axes>"
      ]
     },
     "metadata": {},
     "output_type": "display_data"
    }
   ],
   "source": [
    "plot = sns.boxplot(x='author', y='par_len', data=df_tokens_par.loc[tamanho_representativo])\n",
    "plot.set_ylabel('Comprimento do parágrafo')\n",
    "plot.set_xlabel('Autor')\n",
    "plt.show()"
   ]
  },
  {
   "cell_type": "markdown",
   "id": "75b88bb9-177e-4dc3-a20b-c3d8b6d47cd6",
   "metadata": {},
   "source": [
    "O resto é como visto anteriormente.\n",
    "\n",
    "### Utilizando todos os tokens"
   ]
  },
  {
   "cell_type": "code",
   "execution_count": 38,
   "id": "68036f99-0361-4ba6-9cc5-ee0433f11b23",
   "metadata": {},
   "outputs": [],
   "source": [
    "df_tokens_par['lst_lemmata'] = df_tokens_par.lemma.str.split()"
   ]
  },
  {
   "cell_type": "code",
   "execution_count": 222,
   "id": "f54e515c-1512-432e-96f3-78a4ad9aa4bf",
   "metadata": {},
   "outputs": [
    {
     "name": "stdout",
     "output_type": "stream",
     "text": [
      "Precisão:  0.9732654360280076\n",
      "Cobertura: 0.7167467479198406\n",
      "Acurácia:  0.7704670573610372\n",
      "Medida F:  0.8255382331106161\n"
     ]
    }
   ],
   "source": [
    "x, y = df_tokens_par.lst_lemmata, df_tokens_par.genero\n",
    "\n",
    "pred, true = naive_bayes(x, y)\n",
    "perf_counter = performance(pred, true)\n",
    "resultados[\"doc-par-tudo\"] = metricas(perf_counter)"
   ]
  },
  {
   "cell_type": "markdown",
   "id": "34c414f5-3e12-4c0c-b4fe-f0b4cfc81df6",
   "metadata": {},
   "source": [
    "Limpando os 10% tamanhos de sentença menos frequentes."
   ]
  },
  {
   "cell_type": "code",
   "execution_count": 223,
   "id": "d2164f30-e49a-4327-ac9d-32e3888873d4",
   "metadata": {},
   "outputs": [
    {
     "name": "stdout",
     "output_type": "stream",
     "text": [
      "Precisão:  0.9695803555066886\n",
      "Cobertura: 0.7080155225478388\n",
      "Acurácia:  0.7679841897233202\n",
      "Medida F:  0.8184068058778036\n"
     ]
    }
   ],
   "source": [
    "minimo, maximo = df_tokens_par.par_len.quantile([.05, .95]).values\n",
    "tamanho_representativo = (df_tokens_par.par_len > minimo) & (df_tokens_par.par_len < maximo)\n",
    "x, y = df_tokens_par.loc[tamanho_representativo].lst_lemmata, df_tokens_par.loc[tamanho_representativo].genero\n",
    "\n",
    "pred, true = naive_bayes(x, y)\n",
    "perf_counter = performance(pred, true)\n",
    "resultados[\"doc-par-limpo-tudo\"] = metricas(perf_counter)"
   ]
  },
  {
   "cell_type": "markdown",
   "id": "ea489ce0-683d-4121-a929-f2002cd9691a",
   "metadata": {},
   "source": [
    "### Utilizando apenas os verbos\n",
    "\n",
    "O mesmo pode ser feito apenas com os verbos, que com a divisão em parágrafos, performa muito mais adequadamente:"
   ]
  },
  {
   "cell_type": "code",
   "execution_count": 39,
   "id": "afe321e3-4023-4373-8286-f801c8a7cdde",
   "metadata": {},
   "outputs": [
    {
     "data": {
      "text/html": [
       "<div>\n",
       "<style scoped>\n",
       "    .dataframe tbody tr th:only-of-type {\n",
       "        vertical-align: middle;\n",
       "    }\n",
       "\n",
       "    .dataframe tbody tr th {\n",
       "        vertical-align: top;\n",
       "    }\n",
       "\n",
       "    .dataframe thead th {\n",
       "        text-align: right;\n",
       "    }\n",
       "</style>\n",
       "<table border=\"1\" class=\"dataframe\">\n",
       "  <thead>\n",
       "    <tr style=\"text-align: right;\">\n",
       "      <th></th>\n",
       "      <th>author</th>\n",
       "      <th>text</th>\n",
       "      <th>file</th>\n",
       "      <th>div_sup</th>\n",
       "      <th>par</th>\n",
       "      <th>genero</th>\n",
       "      <th>lemma</th>\n",
       "      <th>lst_lemmata</th>\n",
       "    </tr>\n",
       "  </thead>\n",
       "  <tbody>\n",
       "    <tr>\n",
       "      <th>0</th>\n",
       "      <td>Herodotus</td>\n",
       "      <td>Histories</td>\n",
       "      <td>Herodotus (0016) - Histories (001).json</td>\n",
       "      <td>1</td>\n",
       "      <td>1.14</td>\n",
       "      <td>hist</td>\n",
       "      <td>ἵστημι ὠνέομαι διακελεύομαι ὁρμάω</td>\n",
       "      <td>[ἵστημι, ὠνέομαι, διακελεύομαι, ὁρμάω]</td>\n",
       "    </tr>\n",
       "    <tr>\n",
       "      <th>1</th>\n",
       "      <td>Herodotus</td>\n",
       "      <td>Histories</td>\n",
       "      <td>Herodotus (0016) - Histories (001).json</td>\n",
       "      <td>1</td>\n",
       "      <td>1.17</td>\n",
       "      <td>hist</td>\n",
       "      <td>πλείων ἀποφεύγω ἁρπάζω</td>\n",
       "      <td>[πλείων, ἀποφεύγω, ἁρπάζω]</td>\n",
       "    </tr>\n",
       "    <tr>\n",
       "      <th>2</th>\n",
       "      <td>Herodotus</td>\n",
       "      <td>Histories</td>\n",
       "      <td>Herodotus (0016) - Histories (001).json</td>\n",
       "      <td>1</td>\n",
       "      <td>1.19</td>\n",
       "      <td>hist</td>\n",
       "      <td>εἰσβάλλω οἴχομαι ἀποπλέω</td>\n",
       "      <td>[εἰσβάλλω, οἴχομαι, ἀποπλέω]</td>\n",
       "    </tr>\n",
       "    <tr>\n",
       "      <th>3</th>\n",
       "      <td>Herodotus</td>\n",
       "      <td>Histories</td>\n",
       "      <td>Herodotus (0016) - Histories (001).json</td>\n",
       "      <td>1</td>\n",
       "      <td>1.2</td>\n",
       "      <td>hist</td>\n",
       "      <td>καλέω ἀφικνέομαι οἰκέω οἰκέω ἐπιτίθημι ἀπαγινέ...</td>\n",
       "      <td>[καλέω, ἀφικνέομαι, οἰκέω, οἰκέω, ἐπιτίθημι, ἀ...</td>\n",
       "    </tr>\n",
       "    <tr>\n",
       "      <th>4</th>\n",
       "      <td>Herodotus</td>\n",
       "      <td>Histories</td>\n",
       "      <td>Herodotus (0016) - Histories (001).json</td>\n",
       "      <td>1</td>\n",
       "      <td>1.7</td>\n",
       "      <td>hist</td>\n",
       "      <td>προέχω καλέω χωράζω</td>\n",
       "      <td>[προέχω, καλέω, χωράζω]</td>\n",
       "    </tr>\n",
       "    <tr>\n",
       "      <th>...</th>\n",
       "      <td>...</td>\n",
       "      <td>...</td>\n",
       "      <td>...</td>\n",
       "      <td>...</td>\n",
       "      <td>...</td>\n",
       "      <td>...</td>\n",
       "      <td>...</td>\n",
       "      <td>...</td>\n",
       "    </tr>\n",
       "    <tr>\n",
       "      <th>47902</th>\n",
       "      <td>Xenophon</td>\n",
       "      <td>Symposium</td>\n",
       "      <td>Xenophon (0032) - Symposium (004).json</td>\n",
       "      <td>9</td>\n",
       "      <td>5.3</td>\n",
       "      <td>filo</td>\n",
       "      <td>ὁράω εἰσλάω φιλόω ἀναπτερόω θεάομαι</td>\n",
       "      <td>[ὁράω, εἰσλάω, φιλόω, ἀναπτερόω, θεάομαι]</td>\n",
       "    </tr>\n",
       "    <tr>\n",
       "      <th>47903</th>\n",
       "      <td>Xenophon</td>\n",
       "      <td>Symposium</td>\n",
       "      <td>Xenophon (0032) - Symposium (004).json</td>\n",
       "      <td>9</td>\n",
       "      <td>6.1</td>\n",
       "      <td>filo</td>\n",
       "      <td>ἀκούω ἐπερωτάω φιλέω ἐπόμνυμι πάρειμι συνόμνυμ...</td>\n",
       "      <td>[ἀκούω, ἐπερωτάω, φιλέω, ἐπόμνυμι, πάρειμι, συ...</td>\n",
       "    </tr>\n",
       "    <tr>\n",
       "      <th>47904</th>\n",
       "      <td>Xenophon</td>\n",
       "      <td>Symposium</td>\n",
       "      <td>Xenophon (0032) - Symposium (004).json</td>\n",
       "      <td>9</td>\n",
       "      <td>6.5</td>\n",
       "      <td>filo</td>\n",
       "      <td>ἔοικα διδάσκω ἐφέζομαι πράσσω ἐπιθυμέω</td>\n",
       "      <td>[ἔοικα, διδάσκω, ἐφέζομαι, πράσσω, ἐπιθυμέω]</td>\n",
       "    </tr>\n",
       "    <tr>\n",
       "      <th>47905</th>\n",
       "      <td>Xenophon</td>\n",
       "      <td>Symposium</td>\n",
       "      <td>Xenophon (0032) - Symposium (004).json</td>\n",
       "      <td>9</td>\n",
       "      <td>7.1</td>\n",
       "      <td>filo</td>\n",
       "      <td>εἶδον περιβάλλω ἄπειμι γαμέω ἐπόμνυμι γαμέω ἀν...</td>\n",
       "      <td>[εἶδον, περιβάλλω, ἄπειμι, γαμέω, ἐπόμνυμι, γα...</td>\n",
       "    </tr>\n",
       "    <tr>\n",
       "      <th>47906</th>\n",
       "      <td>Xenophon</td>\n",
       "      <td>Symposium</td>\n",
       "      <td>Xenophon (0032) - Symposium (004).json</td>\n",
       "      <td>9</td>\n",
       "      <td>7.4</td>\n",
       "      <td>filo</td>\n",
       "      <td>ὑπομένω περιπατέω ἀπέρχομαι</td>\n",
       "      <td>[ὑπομένω, περιπατέω, ἀπέρχομαι]</td>\n",
       "    </tr>\n",
       "  </tbody>\n",
       "</table>\n",
       "<p>47907 rows × 8 columns</p>\n",
       "</div>"
      ],
      "text/plain": [
       "          author       text                                     file div_sup  \\\n",
       "0      Herodotus  Histories  Herodotus (0016) - Histories (001).json       1   \n",
       "1      Herodotus  Histories  Herodotus (0016) - Histories (001).json       1   \n",
       "2      Herodotus  Histories  Herodotus (0016) - Histories (001).json       1   \n",
       "3      Herodotus  Histories  Herodotus (0016) - Histories (001).json       1   \n",
       "4      Herodotus  Histories  Herodotus (0016) - Histories (001).json       1   \n",
       "...          ...        ...                                      ...     ...   \n",
       "47902   Xenophon  Symposium   Xenophon (0032) - Symposium (004).json       9   \n",
       "47903   Xenophon  Symposium   Xenophon (0032) - Symposium (004).json       9   \n",
       "47904   Xenophon  Symposium   Xenophon (0032) - Symposium (004).json       9   \n",
       "47905   Xenophon  Symposium   Xenophon (0032) - Symposium (004).json       9   \n",
       "47906   Xenophon  Symposium   Xenophon (0032) - Symposium (004).json       9   \n",
       "\n",
       "        par genero                                              lemma  \\\n",
       "0      1.14   hist                  ἵστημι ὠνέομαι διακελεύομαι ὁρμάω   \n",
       "1      1.17   hist                             πλείων ἀποφεύγω ἁρπάζω   \n",
       "2      1.19   hist                           εἰσβάλλω οἴχομαι ἀποπλέω   \n",
       "3       1.2   hist  καλέω ἀφικνέομαι οἰκέω οἰκέω ἐπιτίθημι ἀπαγινέ...   \n",
       "4       1.7   hist                                προέχω καλέω χωράζω   \n",
       "...     ...    ...                                                ...   \n",
       "47902   5.3   filo                ὁράω εἰσλάω φιλόω ἀναπτερόω θεάομαι   \n",
       "47903   6.1   filo  ἀκούω ἐπερωτάω φιλέω ἐπόμνυμι πάρειμι συνόμνυμ...   \n",
       "47904   6.5   filo             ἔοικα διδάσκω ἐφέζομαι πράσσω ἐπιθυμέω   \n",
       "47905   7.1   filo  εἶδον περιβάλλω ἄπειμι γαμέω ἐπόμνυμι γαμέω ἀν...   \n",
       "47906   7.4   filo                        ὑπομένω περιπατέω ἀπέρχομαι   \n",
       "\n",
       "                                             lst_lemmata  \n",
       "0                 [ἵστημι, ὠνέομαι, διακελεύομαι, ὁρμάω]  \n",
       "1                             [πλείων, ἀποφεύγω, ἁρπάζω]  \n",
       "2                           [εἰσβάλλω, οἴχομαι, ἀποπλέω]  \n",
       "3      [καλέω, ἀφικνέομαι, οἰκέω, οἰκέω, ἐπιτίθημι, ἀ...  \n",
       "4                                [προέχω, καλέω, χωράζω]  \n",
       "...                                                  ...  \n",
       "47902          [ὁράω, εἰσλάω, φιλόω, ἀναπτερόω, θεάομαι]  \n",
       "47903  [ἀκούω, ἐπερωτάω, φιλέω, ἐπόμνυμι, πάρειμι, συ...  \n",
       "47904       [ἔοικα, διδάσκω, ἐφέζομαι, πράσσω, ἐπιθυμέω]  \n",
       "47905  [εἶδον, περιβάλλω, ἄπειμι, γαμέω, ἐπόμνυμι, γα...  \n",
       "47906                    [ὑπομένω, περιπατέω, ἀπέρχομαι]  \n",
       "\n",
       "[47907 rows x 8 columns]"
      ]
     },
     "execution_count": 39,
     "metadata": {},
     "output_type": "execute_result"
    }
   ],
   "source": [
    "df_verbos[['div_sup', 'par']] = df_verbos.location.str.split('.', n=1, expand=True)\n",
    "\n",
    "j = df_verbos.groupby(['author', 'text', 'file','div_sup', 'par', 'genero']).agg({\n",
    "    'lemma': lambda x: \" \".join(x),\n",
    "})\n",
    "\n",
    "df_verbos_par = j.reset_index().loc[:,:]\n",
    "\n",
    "df_verbos_par['lst_lemmata'] = df_verbos_par.lemma.str.split()\n",
    "df_verbos_par"
   ]
  },
  {
   "cell_type": "code",
   "execution_count": 40,
   "id": "f80a0908-f82e-44d2-bb69-44f73dfa63e6",
   "metadata": {},
   "outputs": [],
   "source": [
    "x, y = df_verbos_par.lst_lemmata, df_verbos_par.genero"
   ]
  },
  {
   "cell_type": "code",
   "execution_count": 41,
   "id": "9d9aa0b6-6639-41e5-921a-a6493456f5f2",
   "metadata": {},
   "outputs": [
    {
     "ename": "NameError",
     "evalue": "name 'naive_bayes' is not defined",
     "output_type": "error",
     "traceback": [
      "\u001b[0;31m---------------------------------------------------------------------------\u001b[0m",
      "\u001b[0;31mNameError\u001b[0m                                 Traceback (most recent call last)",
      "\u001b[0;32m/tmp/ipykernel_97631/1643300178.py\u001b[0m in \u001b[0;36m<module>\u001b[0;34m\u001b[0m\n\u001b[0;32m----> 1\u001b[0;31m \u001b[0mpred\u001b[0m\u001b[0;34m,\u001b[0m \u001b[0mtrue\u001b[0m \u001b[0;34m=\u001b[0m \u001b[0mnaive_bayes\u001b[0m\u001b[0;34m(\u001b[0m\u001b[0mx\u001b[0m\u001b[0;34m,\u001b[0m \u001b[0my\u001b[0m\u001b[0;34m,\u001b[0m \u001b[0mrandom_state\u001b[0m\u001b[0;34m=\u001b[0m\u001b[0;36m42\u001b[0m\u001b[0;34m)\u001b[0m\u001b[0;34m\u001b[0m\u001b[0;34m\u001b[0m\u001b[0m\n\u001b[0m\u001b[1;32m      2\u001b[0m \u001b[0mperf_counter\u001b[0m \u001b[0;34m=\u001b[0m \u001b[0mperformance\u001b[0m\u001b[0;34m(\u001b[0m\u001b[0mpred\u001b[0m\u001b[0;34m,\u001b[0m \u001b[0mtrue\u001b[0m\u001b[0;34m)\u001b[0m\u001b[0;34m\u001b[0m\u001b[0;34m\u001b[0m\u001b[0m\n\u001b[1;32m      3\u001b[0m \u001b[0mresultados\u001b[0m\u001b[0;34m[\u001b[0m\u001b[0;34m\"doc-par-verbo\"\u001b[0m\u001b[0;34m]\u001b[0m \u001b[0;34m=\u001b[0m \u001b[0mmetricas\u001b[0m\u001b[0;34m(\u001b[0m\u001b[0mperf_counter\u001b[0m\u001b[0;34m)\u001b[0m\u001b[0;34m\u001b[0m\u001b[0;34m\u001b[0m\u001b[0m\n",
      "\u001b[0;31mNameError\u001b[0m: name 'naive_bayes' is not defined"
     ]
    }
   ],
   "source": [
    "pred, true = naive_bayes(x, y, random_state=42)\n",
    "perf_counter = performance(pred, true)\n",
    "resultados[\"doc-par-verbo\"] = metricas(perf_counter)"
   ]
  },
  {
   "cell_type": "markdown",
   "id": "d2f3d25a-9f50-44ea-b69f-26199a7842a9",
   "metadata": {},
   "source": [
    "# Conclusões após uma rodada\n",
    "\n",
    "Comparando os resultados:"
   ]
  },
  {
   "cell_type": "code",
   "execution_count": 273,
   "id": "6490debf-6a3b-46f9-bbae-c0d229c5d1f5",
   "metadata": {},
   "outputs": [],
   "source": [
    "df_resultados = pd.DataFrame(resultados).transpose()\n",
    "df_resultados.reset_index(inplace=True)\n",
    "df_resultados = df_resultados.rename(columns = {'index':'modelo'})\n",
    "df_resultados = df_resultados.melt('modelo', var_name='métrica', value_name='vals')"
   ]
  },
  {
   "cell_type": "code",
   "execution_count": 274,
   "id": "1f81758f-d485-4511-8ed3-1639dbbfcae5",
   "metadata": {},
   "outputs": [
    {
     "data": {
      "image/png": "[encoded data removed]",
      "text/plain": [
       "<Figure size 576x396 with 1 Axes>"
      ]
     },
     "metadata": {},
     "output_type": "display_data"
    }
   ],
   "source": [
    "sns.barplot(y='vals', x='modelo', hue='métrica', data=df_resultados)\n",
    "plt.legend(bbox_to_anchor=(1,0.5))\n",
    "plt.show()"
   ]
  },
  {
   "cell_type": "markdown",
   "id": "e0724ac8-136f-479d-861e-17ad0ae91d55",
   "metadata": {},
   "source": [
    "1. Curiosamente, não há grandes diferenças entre os resultados dos modelos com sentenças consideradas como documentos e dos modelos com parágrafos considerados como documentos.\n",
    "2. A precisão se mantém relativamente estável em todos os modelos, embora acurácia, cobertura e f1 caiam drasticamente nos modelos apenas com verbos.\n",
    "3. A restrição do tamanho dos parágrafos não parece ter efeito significativo."
   ]
  },
  {
   "cell_type": "markdown",
   "id": "5d519daf-9587-4efd-9e1f-b82cebae3292",
   "metadata": {},
   "source": [
    "# Conclusões após 100 rodadas\n",
    "\n",
    "Randomizando os resultados (extramemente lento, posto que perde-se muito tempo recriando variáveis por conta da minha implementação questionável da função `naive_bayes`).\n",
    "Os modelos estão abreviados como:\n",
    "- doc-sent-verbos = dsv\n",
    "- doc-sent-tudo = dst\n",
    "- doc-par-verbos = dpv\n",
    "- doc-par-tudo = dpt\n",
    "- doc-par-limitado-tudo = dplt (parágrafos representativos da extensão de 90%)"
   ]
  },
  {
   "cell_type": "code",
   "execution_count": 275,
   "id": "20b9471e-a23e-4b5c-83a6-b812d1545d24",
   "metadata": {
    "tags": []
   },
   "outputs": [],
   "source": [
    "resultados_randomizados = []\n",
    "x_dsv, y_dsv = df_verbos_sent.lst_lemmata, df_verbos_sent.genero\n",
    "x_dst, y_dst = df_sents.lst_lemmata, df_sents.genero\n",
    "x_dpt, y_dpt = df_tokens_par.lst_lemmata, df_tokens_par.genero\n",
    "x_dplt, y_dplt = df_tokens_par.loc[tamanho_representativo].lst_lemmata, df_tokens_par.loc[tamanho_representativo].genero\n",
    "x_dpv, y_dpv = df_verbos_par.lst_lemmata, df_verbos_par.genero\n",
    "\n",
    "for j in range(100):\n",
    "    i = np.random.randint(1,100)\n",
    "    \n",
    "    pred, true = naive_bayes(x_dsv, y_dsv, random_state=i)\n",
    "    perf_counter = performance(pred, true)\n",
    "    resultados_randomizados.append({**{'modelo': 'doc-sent-verbos'}, **metricas(perf_counter, False)})\n",
    "    \n",
    "    pred, true = naive_bayes(x_dst, y_dst, random_state=i)\n",
    "    perf_counter = performance(pred, true)\n",
    "    resultados_randomizados.append({**{'modelo': 'doc-sent-tudo'}, **metricas(perf_counter, False)})\n",
    "\n",
    "    pred, true = naive_bayes(x_dpt, y_dpt, random_state=i)\n",
    "    perf_counter = performance(pred, true)\n",
    "    resultados_randomizados.append({**{'modelo': 'doc-par-tudo'}, **metricas(perf_counter, False)})\n",
    "    \n",
    "    pred, true = naive_bayes(x_dplt, y_dplt, random_state=i)\n",
    "    perf_counter = performance(pred, true)\n",
    "    resultados_randomizados.append({**{'modelo': 'doc-par-limpo-tudo'}, **metricas(perf_counter, False)})\n",
    "\n",
    "    pred, true = naive_bayes(x_dpv, y_dpv, random_state=i)\n",
    "    perf_counter = performance(pred, true)\n",
    "    resultados_randomizados.append({**{'modelo': 'doc-par-verbos'}, **metricas(perf_counter, False)})\n"
   ]
  },
  {
   "cell_type": "code",
   "execution_count": 276,
   "id": "c41b0215-88af-4495-9bff-1210165ce79f",
   "metadata": {
    "tags": []
   },
   "outputs": [],
   "source": [
    "df_rr = pd.DataFrame(resultados_randomizados)"
   ]
  },
  {
   "cell_type": "code",
   "execution_count": 277,
   "id": "d3aab318-b7df-4c30-b72c-a7b081854bac",
   "metadata": {
    "tags": []
   },
   "outputs": [],
   "source": [
    "dpv = df_rr.loc[df_rr['modelo'] == \"doc-par-verbos\"]\n",
    "dpt = df_rr.loc[df_rr['modelo'] == \"doc-par-tudo\"]\n",
    "dplt = df_rr.loc[df_rr['modelo'] == \"doc-par-limpo-tudo\"]\n",
    "dst = df_rr.loc[df_rr['modelo'] == \"doc-sent-tudo\"]\n",
    "dsv = df_rr.loc[df_rr['modelo'] == \"doc-sent-verbos\"]"
   ]
  },
  {
   "cell_type": "code",
   "execution_count": 278,
   "id": "2b019bda-7786-4406-8505-cc5ddfc68222",
   "metadata": {
    "tags": []
   },
   "outputs": [
    {
     "data": {
      "image/png": "[encoded data removed]",
      "text/plain": [
       "<Figure size 576x396 with 1 Axes>"
      ]
     },
     "metadata": {},
     "output_type": "display_data"
    }
   ],
   "source": [
    "dpv['precisão'].plot(kind='kde')\n",
    "dpt['precisão'].plot(kind='kde')\n",
    "dplt['precisão'].plot(kind='kde')\n",
    "dst['precisão'].plot(kind='kde')\n",
    "dsv['precisão'].plot(kind='kde')\n",
    "plt.title(\"Precisão\")\n",
    "plt.legend(labels = ['doc-par-verbos', 'doc-par-tudo', 'doc-par-limpo-tudo', 'doc-sent-tudo', 'doc-sent-verbos'])\n",
    "plt.show()"
   ]
  },
  {
   "cell_type": "code",
   "execution_count": 279,
   "id": "b77ec950-5646-4ce9-914c-ae205ea6d09c",
   "metadata": {
    "tags": []
   },
   "outputs": [
    {
     "data": {
      "image/png": "[encoded data removed]",
      "text/plain": [
       "<Figure size 576x396 with 1 Axes>"
      ]
     },
     "metadata": {},
     "output_type": "display_data"
    }
   ],
   "source": [
    "dpv['acurácia'].plot(kind='kde')\n",
    "dpt['acurácia'].plot(kind='kde')\n",
    "dplt['acurácia'].plot(kind='kde')\n",
    "dst['acurácia'].plot(kind='kde')\n",
    "dsv['acurácia'].plot(kind='kde')\n",
    "plt.title(\"Acurácia\")\n",
    "plt.legend(labels = ['doc-par-verbos', 'doc-par-tudo', 'doc-par-limpo-tudo', 'doc-sent-tudo', 'doc-sent-verbos'])\n",
    "plt.show()"
   ]
  },
  {
   "cell_type": "code",
   "execution_count": 280,
   "id": "2b0f17f6-7d63-4cc5-af79-08ad6db48861",
   "metadata": {
    "tags": []
   },
   "outputs": [
    {
     "data": {
      "image/png": "[encoded data removed]",
      "text/plain": [
       "<Figure size 576x396 with 1 Axes>"
      ]
     },
     "metadata": {},
     "output_type": "display_data"
    }
   ],
   "source": [
    "dpv['cobertura'].plot(kind='kde')\n",
    "dpt['cobertura'].plot(kind='kde')\n",
    "dplt['cobertura'].plot(kind='kde')\n",
    "dst['cobertura'].plot(kind='kde')\n",
    "dsv['cobertura'].plot(kind='kde')\n",
    "plt.title(\"Cobertura\")\n",
    "plt.legend(labels = ['doc-par-verbos', 'doc-par-tudo', 'doc-par-limpo-tudo', 'doc-sent-tudo', 'doc-sent-verbos'])\n",
    "plt.show()"
   ]
  },
  {
   "cell_type": "code",
   "execution_count": 281,
   "id": "be023aff-fc8c-44f5-bf02-28ebffe3f077",
   "metadata": {
    "tags": []
   },
   "outputs": [
    {
     "data": {
      "image/png": "[encoded data removed]",
      "text/plain": [
       "<Figure size 576x396 with 1 Axes>"
      ]
     },
     "metadata": {},
     "output_type": "display_data"
    }
   ],
   "source": [
    "dpv['medida_f1'].plot(kind='kde')\n",
    "dpt['medida_f1'].plot(kind='kde')\n",
    "dplt['medida_f1'].plot(kind='kde')\n",
    "dst['medida_f1'].plot(kind='kde')\n",
    "dsv['medida_f1'].plot(kind='kde')\n",
    "plt.title(\"Medida F1\")\n",
    "plt.legend(labels = ['doc-par-verbos', 'doc-par-tudo', 'doc-par-limpo-tudo', 'doc-sent-tudo', 'doc-sent-verbos'])\n",
    "plt.show()"
   ]
  },
  {
   "cell_type": "markdown",
   "id": "2fad7583-4ed3-418b-b60a-c77cff27fa6b",
   "metadata": {},
   "source": [
    "## Concluindo de verdade\n",
    "\n",
    "1. Os modelos apenas com verbos performam apenas ligeiramente melhor do que os demais do ponto de vista da precisão, mas possuem valores muito inferiores de Acurácia, Cobertura e F1.\n",
    "2. O modelo mais preciso, `doc-sent-verbos` é o que performa pior nas demais métricas, mas com diferenças insignificantes da sua contraparte `doc-par-verbos`.\n",
    "3. A variação lexical de verbos nos documentos parece ser muito baixa para se assumir que a seleção lexical sirva como um bom classificador de gênero literário, embora a variação geral do léxico sirva como classificador confiável.\n",
    "4. O modelo com os resultados mais confiáveis parece ser o `doc-sent_tudo`.\n",
    "5. Como está, o modelo não permite mostrar diferenças nos usos de verbos principais entre historiadores e filósofos do período clássico."
   ]
  },
  {
   "cell_type": "markdown",
   "id": "4a7e641c-0c54-4064-82e0-9159a5d6b180",
   "metadata": {},
   "source": [
    "# Anexo: testando com sklearn"
   ]
  },
  {
   "cell_type": "code",
   "execution_count": 52,
   "id": "49e83164-b0cb-4301-b771-a148df6b555b",
   "metadata": {},
   "outputs": [],
   "source": [
    "from sklearn.naive_bayes import ComplementNB\n",
    "from sklearn.feature_extraction.text import TfidfVectorizer\n",
    "model = ComplementNB()\n",
    "vectorizer = TfidfVectorizer()"
   ]
  },
  {
   "cell_type": "code",
   "execution_count": 523,
   "id": "6e51c7d2-5c85-4b8c-9463-3a96e2775ff1",
   "metadata": {},
   "outputs": [],
   "source": [
    "X_vec = vectorizer.fit_transform(df_verbos_sent.lemma)"
   ]
  },
  {
   "cell_type": "code",
   "execution_count": 531,
   "id": "0e978b42-07ac-4d44-aa42-fa68c4ee619a",
   "metadata": {},
   "outputs": [],
   "source": [
    "features = vectorizer.get_feature_names()"
   ]
  },
  {
   "cell_type": "code",
   "execution_count": 532,
   "id": "1164926e-ac36-4695-85d1-ba34ff0ad316",
   "metadata": {},
   "outputs": [],
   "source": [
    "X_vec = X_vec.todense()"
   ]
  },
  {
   "cell_type": "code",
   "execution_count": 534,
   "id": "63b164a2-cb13-4bf7-993e-2eff382e9e27",
   "metadata": {},
   "outputs": [],
   "source": [
    "X_train, X_test, y_train, y_test = train_test_split(X_vec, df_verbos_sent.genero, \n",
    "                                                    test_size=.20)"
   ]
  },
  {
   "cell_type": "code",
   "execution_count": 535,
   "id": "9ad95d2c-93f4-4adb-8f06-68c12baa0c4e",
   "metadata": {},
   "outputs": [
    {
     "data": {
      "text/plain": [
       "ComplementNB()"
      ]
     },
     "execution_count": 535,
     "metadata": {},
     "output_type": "execute_result"
    }
   ],
   "source": [
    "model.fit(X_train, y_train)"
   ]
  },
  {
   "cell_type": "code",
   "execution_count": 536,
   "id": "26b76587-749d-4fab-a14c-51d4a7ea1701",
   "metadata": {},
   "outputs": [],
   "source": [
    "y_pred = model.predict(X_test)"
   ]
  },
  {
   "cell_type": "code",
   "execution_count": 537,
   "id": "52d285fa-ca06-4cf4-bb98-0ed4c60e2b87",
   "metadata": {},
   "outputs": [
    {
     "data": {
      "text/plain": [
       "array([[4596, 1038],\n",
       "       [1148, 4003]])"
      ]
     },
     "execution_count": 537,
     "metadata": {},
     "output_type": "execute_result"
    }
   ],
   "source": [
    "from sklearn.metrics import confusion_matrix\n",
    "confusion_matrix(y_test, y_pred)"
   ]
  },
  {
   "cell_type": "code",
   "execution_count": 517,
   "id": "f7d93c81-622b-4bed-8746-bbf62992d9b3",
   "metadata": {},
   "outputs": [
    {
     "data": {
      "image/png": "[encoded data removed]",
      "text/plain": [
       "<Figure size 504x360 with 2 Axes>"
      ]
     },
     "metadata": {},
     "output_type": "display_data"
    }
   ],
   "source": [
    "conf_matrix = confusion_matrix(y_true=y_test, y_pred=y_pred)\n",
    "\n",
    "import seaborn as sb\n",
    "plt.figure(figsize=(7,5))\n",
    "sb.heatmap(conf_matrix, \n",
    "           annot=True,\n",
    "           xticklabels=['filo', 'hist'],\n",
    "           yticklabels=['filo', 'hist'])\n",
    "plt.title(\"Matriz de Confusão\")\n",
    "plt.xlabel(\"Previsto\")\n",
    "plt.ylabel(\"Real\")\n",
    "plt.show()"
   ]
  },
  {
   "cell_type": "code",
   "execution_count": 518,
   "id": "6c2afc19-075c-44db-b3e0-2aa84e38f4cf",
   "metadata": {},
   "outputs": [],
   "source": [
    "from sklearn.metrics import precision_score, accuracy_score, recall_score, f1_score, confusion_matrix"
   ]
  },
  {
   "cell_type": "code",
   "execution_count": 519,
   "id": "3be4edc2-05ca-4b0b-bbfb-340740685e2e",
   "metadata": {},
   "outputs": [
    {
     "name": "stdout",
     "output_type": "stream",
     "text": [
      "Precisão: 78.703%\n",
      "Acurácia: 78.554%\n",
      "Cobertura: 80.704%\n",
      "F1: 79.691%\n"
     ]
    }
   ],
   "source": [
    "print(f'Precisão: {precision_score(y_test, y_pred, pos_label=\"filo\"):.3%}')\n",
    "print(f'Acurácia: {accuracy_score(y_test, y_pred):.3%}')\n",
    "print(f'Cobertura: {recall_score(y_test, y_pred, pos_label=\"filo\"):.3%}')\n",
    "print(f'F1: {f1_score(y_test, y_pred, pos_label=\"filo\"):.3%}')"
   ]
  },
  {
   "cell_type": "code",
   "execution_count": 50,
   "id": "47b756bc-0948-4c10-b65e-a6d89a558999",
   "metadata": {},
   "outputs": [],
   "source": [
    "x_dsv, y_dsv = df_verbos_sent.lemma, df_verbos_sent.genero\n",
    "x_dst, y_dst = df_sents.lemmata, df_sents.genero\n",
    "x_dpt, y_dpt = df_tokens_par.lemma, df_tokens_par.genero\n",
    "x_dplt, y_dplt = df_tokens_par.loc[tamanho_representativo].lemma, df_tokens_par.loc[tamanho_representativo].genero\n",
    "x_dpv, y_dpv = df_verbos_par.lemma, df_verbos_par.genero"
   ]
  },
  {
   "cell_type": "code",
   "execution_count": null,
   "id": "743b22cd-ca06-4cac-8764-8d024cbc282a",
   "metadata": {},
   "outputs": [],
   "source": [
    "# rodando 100 vezes:\n",
    "X_vec = vectorizer.fit_transform(x_dsv)\n",
    "X_vec = X_vec.todense()\n",
    "resultados = []\n",
    "for i in range(100):\n",
    "    x_treino, x_teste, y_treino, y_teste = train_test_split(X_vec, y_dsv, \n",
    "                                                    test_size = 0.20, shuffle=True)\n",
    "    model.fit(x_treino, y_treino)\n",
    "    y_pred = model.predict(x_teste)\n",
    "    resultados.append({\n",
    "        'rodada': i,\n",
    "        'classe': 'doc-sent-verbos',\n",
    "        'conf_matrix': confusion_matrix(y_true=y_teste, y_pred=y_pred),\n",
    "        'precisão': precision_score(y_teste, y_pred, pos_label=\"filo\"),\n",
    "        'acuracia': accuracy_score(y_teste, y_pred),\n",
    "        'cobertura': recall_score(y_teste, y_pred, pos_label=\"filo\"),\n",
    "        'medida_f1': f1_score(y_teste, y_pred, pos_label=\"filo\")\n",
    "    })\n",
    "    \n",
    "X_vec = vectorizer.fit_transform(x_dst)\n",
    "X_vec = X_vec.todense()\n",
    "resultados = []\n",
    "for i in range(100):\n",
    "    x_treino, x_teste, y_treino, y_teste = train_test_split(X_vec, y_dst, \n",
    "                                                    test_size = 0.20, shuffle=True)\n",
    "    model.fit(x_treino, y_treino)\n",
    "    y_pred = model.predict(x_teste)\n",
    "    resultados.append({\n",
    "        'rodada': i,\n",
    "        'classe': 'doc-sent-tokens',\n",
    "        'conf_matrix': confusion_matrix(y_true=y_teste, y_pred=y_pred),\n",
    "        'precisão': precision_score(y_teste, y_pred, pos_label=\"filo\"),\n",
    "        'acuracia': accuracy_score(y_teste, y_pred),\n",
    "        'cobertura': recall_score(y_teste, y_pred, pos_label=\"filo\"),\n",
    "        'medida_f1': f1_score(y_teste, y_pred, pos_label=\"filo\")\n",
    "    })\n",
    "    \n",
    "X_vec = vectorizer.fit_transform(x_dpt)\n",
    "X_vec = X_vec.todense()\n",
    "resultados = []\n",
    "for i in range(100):\n",
    "    x_treino, x_teste, y_treino, y_teste = train_test_split(X_vec, y_dpt, \n",
    "                                                    test_size = 0.20, shuffle=True)\n",
    "    model.fit(x_treino, y_treino)\n",
    "    y_pred = model.predict(x_teste)\n",
    "    resultados.append({\n",
    "        'rodada': i,\n",
    "        'classe': 'doc-par-tokens',\n",
    "        'conf_matrix': confusion_matrix(y_true=y_teste, y_pred=y_pred),\n",
    "        'precisão': precision_score(y_teste, y_pred, pos_label=\"filo\"),\n",
    "        'acuracia': accuracy_score(y_teste, y_pred),\n",
    "        'cobertura': recall_score(y_teste, y_pred, pos_label=\"filo\"),\n",
    "        'medida_f1': f1_score(y_teste, y_pred, pos_label=\"filo\")\n",
    "    })\n",
    "    \n",
    "    \n",
    "X_vec = vectorizer.fit_transform(x_dplt)\n",
    "X_vec = X_vec.todense()\n",
    "resultados = []\n",
    "for i in range(100):\n",
    "    x_treino, x_teste, y_treino, y_teste = train_test_split(X_vec, y_dplt, \n",
    "                                                    test_size = 0.20, shuffle=True)\n",
    "    model.fit(x_treino, y_treino)\n",
    "    y_pred = model.predict(x_teste)\n",
    "    resultados.append({\n",
    "        'rodada': i,\n",
    "        'classe': 'doc-par-limpo-tokens',\n",
    "        'conf_matrix': confusion_matrix(y_true=y_teste, y_pred=y_pred),\n",
    "        'precisão': precision_score(y_teste, y_pred, pos_label=\"filo\"),\n",
    "        'acuracia': accuracy_score(y_teste, y_pred),\n",
    "        'cobertura': recall_score(y_teste, y_pred, pos_label=\"filo\"),\n",
    "        'medida_f1': f1_score(y_teste, y_pred, pos_label=\"filo\")\n",
    "    })\n",
    "    \n",
    "    \n",
    "X_vec = vectorizer.fit_transform(x_dpv)\n",
    "X_vec = X_vec.todense()\n",
    "resultados = []\n",
    "for i in range(100):\n",
    "    x_treino, x_teste, y_treino, y_teste = train_test_split(X_vec, y_dpv, \n",
    "                                                    test_size = 0.20, shuffle=True)\n",
    "    model.fit(x_treino, y_treino)\n",
    "    y_pred = model.predict(x_teste)\n",
    "    resultados.append({\n",
    "        'rodada': i,\n",
    "        'classe': 'doc-par-verbos',\n",
    "        'conf_matrix': confusion_matrix(y_true=y_teste, y_pred=y_pred),\n",
    "        'precisão': precision_score(y_teste, y_pred, pos_label=\"filo\"),\n",
    "        'acuracia': accuracy_score(y_teste, y_pred),\n",
    "        'cobertura': recall_score(y_teste, y_pred, pos_label=\"filo\"),\n",
    "        'medida_f1': f1_score(y_teste, y_pred, pos_label=\"filo\")\n",
    "    })"
   ]
  },
  {
   "cell_type": "code",
   "execution_count": null,
   "id": "04335e7f-e692-40a8-ab83-ce95440ae9a0",
   "metadata": {},
   "outputs": [],
   "source": [
    "df_res = pd.DataFrame(resultados)"
   ]
  },
  {
   "cell_type": "code",
   "execution_count": null,
   "id": "5965131f-10f9-4e23-ad0e-86beabe07a7d",
   "metadata": {},
   "outputs": [],
   "source": [
    "df2 = df_res[['classe', 'precisão', 'acuracia', 'cobertura', 'medida_f1']].melt('classe', value_name='vals', var_name=\"métrica\")\n",
    "df2"
   ]
  },
  {
   "cell_type": "code",
   "execution_count": null,
   "id": "ab344514-6ac3-4974-a7fa-a54781cd20c5",
   "metadata": {},
   "outputs": [],
   "source": [
    "df_res.precisão.describe()"
   ]
  },
  {
   "cell_type": "code",
   "execution_count": null,
   "id": "cb9fc897-40e4-4f7e-84f5-a16131166a82",
   "metadata": {},
   "outputs": [],
   "source": [
    "sns.displot(data=df2, x='vals', )"
   ]
  },
  {
   "cell_type": "code",
   "execution_count": null,
   "id": "2beb3639-e339-46ef-8519-301749b7ecd5",
   "metadata": {},
   "outputs": [],
   "source": [
    "plot = sns.displot(data=df2,\n",
    "            x='vals',\n",
    "            col='métrica',\n",
    "            col_wrap=2,\n",
    "            hue='classe',\n",
    "            kind='kde')\n",
    "plot.set_ylabels('Conta')\n",
    "plot.set_titles(template='{col_name}')\n",
    "plt.show()"
   ]
  }
 ],
 "metadata": {
  "kernelspec": {
   "display_name": "Python 3 (ipykernel)",
   "language": "python",
   "name": "python3"
  },
  "language_info": {
   "codemirror_mode": {
    "name": "ipython",
    "version": 3
   },
   "file_extension": ".py",
   "mimetype": "text/x-python",
   "name": "python",
   "nbconvert_exporter": "python",
   "pygments_lexer": "ipython3",
   "version": "3.9.9"
  },
  "toc-autonumbering": true,
  "toc-showmarkdowntxt": false
 },
 "nbformat": 4,
 "nbformat_minor": 5
}
