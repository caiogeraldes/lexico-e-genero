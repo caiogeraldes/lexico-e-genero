{
 "cells": [
  {
   "cell_type": "markdown",
   "id": "f984cc55",
   "metadata": {},
   "source": [
    "# Teste de viabilidade\n",
    "\n",
    "Este notebook testa a viabilidade dos algoritmos do módulo `lexicogenero`, de minha autoria, para selecionar, dividir e organizar dados de textos em prosa em grego antigo para a disciplina FLL5133-2021.\n",
    "\n",
    "## Carregamento e organização dos dados importados do Diorisis"
   ]
  },
  {
   "cell_type": "code",
   "execution_count": 1,
   "id": "5e362c23",
   "metadata": {},
   "outputs": [],
   "source": [
    "import os\n",
    "import pandas as pd\n",
    "import numpy as np\n",
    "import matplotlib.pyplot as plt\n",
    "from collections import Counter"
   ]
  },
  {
   "cell_type": "code",
   "execution_count": 2,
   "id": "1d766ef5",
   "metadata": {},
   "outputs": [],
   "source": [
    "from lexicogenero.ferramentas.diorisis_reader import carrega_textos, em_pandas, sent_pandas\n",
    "from lexicogenero.main import DIORISIS_PATH\n",
    "from lexicogenero.grc import STOPS_LIST\n",
    "\n",
    "%matplotlib inline\n",
    "plt.rcParams['figure.figsize'] = [10, 5]"
   ]
  },
  {
   "cell_type": "markdown",
   "id": "eafebfa9",
   "metadata": {},
   "source": [
    "Neste teste, usaremos como corpus os textos de historiografia e prosa filosófica (diálogos e tratados) de autores do período clássico:\n",
    "\n",
    "- Historiografia:\n",
    "    - Heródoto\n",
    "    - Xenofonte:\n",
    "        - Ciropédia\n",
    "        - Anábase\n",
    "        - Helênica\n",
    "    - Tucídides\n",
    "- Prosa filosófica:\n",
    "    - Platão\n",
    "    - Xenofonte:\n",
    "        - Agesilau\n",
    "        - Hierão\n",
    "        - Simpósio\n",
    "        - Apologia\n",
    "        - Memorabilia"
   ]
  },
  {
   "cell_type": "code",
   "execution_count": 3,
   "id": "f6526458",
   "metadata": {},
   "outputs": [
    {
     "name": "stdout",
     "output_type": "stream",
     "text": [
      "Carregando dataframe previamente salvo\n"
     ]
    }
   ],
   "source": [
    "DATA = \"data.csv\"\n",
    "SENTS = \"sents.csv\"\n",
    "REAPROVEITAR = True\n",
    "\n",
    "if not REAPROVEITAR or (DATA not in os.listdir() or SENTS not in os.listdir()):\n",
    "    ignorados = [\n",
    "        \"Xenophon (0032) - On the Art of Horsemanship (013).json\",\n",
    "        \"Xenophon (0032) - Economics (003).json\",\n",
    "        \"Xenophon (0032) - Ways and Means (011).json\",\n",
    "        \"Xenophon (0032) - Constitution of the Lacedaemonians (010).json\",\n",
    "        \"Xenophon (0032) - On the Cavalry Commander (012).json\",\n",
    "        \"Xenophon (0032) - On Hunting (014).json\",\n",
    "        \"Xenophon (0032) - Apology (005).json\",\n",
    "    ]\n",
    "\n",
    "    corpus = carrega_textos(autores=['Herodotus', \n",
    "                                     'Thucydides', \n",
    "                                     'Plato', \n",
    "                                     'Xenophon (0032)', # Exclui Xenofonte de Éfeso \n",
    "                                     ],\n",
    "                            diorisis_path=DIORISIS_PATH,\n",
    "                            ignore=ignorados,\n",
    "                            verbose=False)\n",
    "    df_tokens = em_pandas(corpus)\n",
    "    df_sents = sent_pandas(corpus)\n",
    "    del corpus\n",
    "    df_tokens.to_csv(DATA, index=False)\n",
    "    df_sents.to_csv(SENTS, index=False)\n",
    "        \n",
    "else:\n",
    "    print('Carregando dataframe previamente salvo')\n",
    "    df_tokens = pd.read_csv(DATA)\n",
    "    df_sents = pd.read_csv(SENTS)"
   ]
  },
  {
   "cell_type": "markdown",
   "id": "634ee084",
   "metadata": {},
   "source": [
    "**Formato do DF**: ainda não decidi se seria mais eficiente utilizar um data frame organizado por token ou por sentenças. A implementação de ambos é muito semelhante e pode ser vista em `../src/lexicogenero/ferramentas/diorisis_parser.py`"
   ]
  },
  {
   "cell_type": "code",
   "execution_count": 4,
   "id": "7ca566e7",
   "metadata": {},
   "outputs": [
    {
     "data": {
      "text/html": [
       "<div>\n",
       "<style scoped>\n",
       "    .dataframe tbody tr th:only-of-type {\n",
       "        vertical-align: middle;\n",
       "    }\n",
       "\n",
       "    .dataframe tbody tr th {\n",
       "        vertical-align: top;\n",
       "    }\n",
       "\n",
       "    .dataframe thead th {\n",
       "        text-align: right;\n",
       "    }\n",
       "</style>\n",
       "<table border=\"1\" class=\"dataframe\">\n",
       "  <thead>\n",
       "    <tr style=\"text-align: right;\">\n",
       "      <th></th>\n",
       "      <th>sent_id</th>\n",
       "      <th>location</th>\n",
       "      <th>form</th>\n",
       "      <th>lemma</th>\n",
       "      <th>POS</th>\n",
       "      <th>analyses</th>\n",
       "      <th>id</th>\n",
       "      <th>file</th>\n",
       "      <th>author</th>\n",
       "      <th>text</th>\n",
       "    </tr>\n",
       "  </thead>\n",
       "  <tbody>\n",
       "    <tr>\n",
       "      <th>0</th>\n",
       "      <td>1</td>\n",
       "      <td>1.t.1</td>\n",
       "      <td>Ἡροδότου</td>\n",
       "      <td>Ἡρόδοτος</td>\n",
       "      <td>proper</td>\n",
       "      <td>masc gen sg</td>\n",
       "      <td>1</td>\n",
       "      <td>Herodotus (0016) - Histories (001).json</td>\n",
       "      <td>Herodotus</td>\n",
       "      <td>Histories</td>\n",
       "    </tr>\n",
       "    <tr>\n",
       "      <th>1</th>\n",
       "      <td>1</td>\n",
       "      <td>1.t.1</td>\n",
       "      <td>Ἁλικαρνησσέος</td>\n",
       "      <td>Ἁλικαρνησσεύς</td>\n",
       "      <td>proper</td>\n",
       "      <td>masc gen sg (epic ionic)</td>\n",
       "      <td>2</td>\n",
       "      <td>Herodotus (0016) - Histories (001).json</td>\n",
       "      <td>Herodotus</td>\n",
       "      <td>Histories</td>\n",
       "    </tr>\n",
       "    <tr>\n",
       "      <th>2</th>\n",
       "      <td>1</td>\n",
       "      <td>1.t.1</td>\n",
       "      <td>ἱστορίης</td>\n",
       "      <td>ἱστορία</td>\n",
       "      <td>noun</td>\n",
       "      <td>fem gen sg (epic ionic)</td>\n",
       "      <td>3</td>\n",
       "      <td>Herodotus (0016) - Histories (001).json</td>\n",
       "      <td>Herodotus</td>\n",
       "      <td>Histories</td>\n",
       "    </tr>\n",
       "    <tr>\n",
       "      <th>3</th>\n",
       "      <td>1</td>\n",
       "      <td>1.t.1</td>\n",
       "      <td>ἀπόδεξις</td>\n",
       "      <td>ἀπόδεξις</td>\n",
       "      <td>noun</td>\n",
       "      <td>fem nom sg</td>\n",
       "      <td>4</td>\n",
       "      <td>Herodotus (0016) - Histories (001).json</td>\n",
       "      <td>Herodotus</td>\n",
       "      <td>Histories</td>\n",
       "    </tr>\n",
       "    <tr>\n",
       "      <th>4</th>\n",
       "      <td>1</td>\n",
       "      <td>1.t.1</td>\n",
       "      <td>ἥδε</td>\n",
       "      <td>ὅδε</td>\n",
       "      <td>pronoun</td>\n",
       "      <td>fem nom sg</td>\n",
       "      <td>5</td>\n",
       "      <td>Herodotus (0016) - Histories (001).json</td>\n",
       "      <td>Herodotus</td>\n",
       "      <td>Histories</td>\n",
       "    </tr>\n",
       "    <tr>\n",
       "      <th>...</th>\n",
       "      <td>...</td>\n",
       "      <td>...</td>\n",
       "      <td>...</td>\n",
       "      <td>...</td>\n",
       "      <td>...</td>\n",
       "      <td>...</td>\n",
       "      <td>...</td>\n",
       "      <td>...</td>\n",
       "      <td>...</td>\n",
       "      <td>...</td>\n",
       "    </tr>\n",
       "    <tr>\n",
       "      <th>1326855</th>\n",
       "      <td>3804</td>\n",
       "      <td>7.8.24.1</td>\n",
       "      <td>πρὸς</td>\n",
       "      <td>πρός</td>\n",
       "      <td>preposition</td>\n",
       "      <td>indeclform (prep)</td>\n",
       "      <td>14</td>\n",
       "      <td>Xenophon (0032) - Anabasis (006).json</td>\n",
       "      <td>Xenophon</td>\n",
       "      <td>Anabasis</td>\n",
       "    </tr>\n",
       "    <tr>\n",
       "      <th>1326856</th>\n",
       "      <td>3804</td>\n",
       "      <td>7.8.24.1</td>\n",
       "      <td>Τισσαφέρνην</td>\n",
       "      <td>Τισσαφέρνης</td>\n",
       "      <td>proper</td>\n",
       "      <td>masc acc sg;masc acc sg (attic epic ionic)</td>\n",
       "      <td>15</td>\n",
       "      <td>Xenophon (0032) - Anabasis (006).json</td>\n",
       "      <td>Xenophon</td>\n",
       "      <td>Anabasis</td>\n",
       "    </tr>\n",
       "    <tr>\n",
       "      <th>1326857</th>\n",
       "      <td>3804</td>\n",
       "      <td>7.8.24.1</td>\n",
       "      <td>καὶ</td>\n",
       "      <td>καί</td>\n",
       "      <td>conjunction</td>\n",
       "      <td>indeclform (conj)</td>\n",
       "      <td>16</td>\n",
       "      <td>Xenophon (0032) - Anabasis (006).json</td>\n",
       "      <td>Xenophon</td>\n",
       "      <td>Anabasis</td>\n",
       "    </tr>\n",
       "    <tr>\n",
       "      <th>1326858</th>\n",
       "      <td>3804</td>\n",
       "      <td>7.8.24.1</td>\n",
       "      <td>Φαρνάβαζον</td>\n",
       "      <td>Φαρνάβαζος</td>\n",
       "      <td>proper</td>\n",
       "      <td>masc acc sg</td>\n",
       "      <td>17</td>\n",
       "      <td>Xenophon (0032) - Anabasis (006).json</td>\n",
       "      <td>Xenophon</td>\n",
       "      <td>Anabasis</td>\n",
       "    </tr>\n",
       "    <tr>\n",
       "      <th>1326859</th>\n",
       "      <td>3804</td>\n",
       "      <td>7.8.24.1</td>\n",
       "      <td>.</td>\n",
       "      <td>.</td>\n",
       "      <td>punct</td>\n",
       "      <td>punct</td>\n",
       "      <td>0</td>\n",
       "      <td>Xenophon (0032) - Anabasis (006).json</td>\n",
       "      <td>Xenophon</td>\n",
       "      <td>Anabasis</td>\n",
       "    </tr>\n",
       "  </tbody>\n",
       "</table>\n",
       "<p>1326860 rows × 10 columns</p>\n",
       "</div>"
      ],
      "text/plain": [
       "         sent_id  location           form          lemma          POS  \\\n",
       "0              1     1.t.1       Ἡροδότου       Ἡρόδοτος       proper   \n",
       "1              1     1.t.1  Ἁλικαρνησσέος  Ἁλικαρνησσεύς       proper   \n",
       "2              1     1.t.1       ἱστορίης        ἱστορία         noun   \n",
       "3              1     1.t.1       ἀπόδεξις       ἀπόδεξις         noun   \n",
       "4              1     1.t.1            ἥδε            ὅδε      pronoun   \n",
       "...          ...       ...            ...            ...          ...   \n",
       "1326855     3804  7.8.24.1           πρὸς           πρός  preposition   \n",
       "1326856     3804  7.8.24.1    Τισσαφέρνην    Τισσαφέρνης       proper   \n",
       "1326857     3804  7.8.24.1            καὶ            καί  conjunction   \n",
       "1326858     3804  7.8.24.1     Φαρνάβαζον     Φαρνάβαζος       proper   \n",
       "1326859     3804  7.8.24.1              .              .        punct   \n",
       "\n",
       "                                           analyses  id  \\\n",
       "0                                       masc gen sg   1   \n",
       "1                          masc gen sg (epic ionic)   2   \n",
       "2                           fem gen sg (epic ionic)   3   \n",
       "3                                        fem nom sg   4   \n",
       "4                                        fem nom sg   5   \n",
       "...                                             ...  ..   \n",
       "1326855                           indeclform (prep)  14   \n",
       "1326856  masc acc sg;masc acc sg (attic epic ionic)  15   \n",
       "1326857                           indeclform (conj)  16   \n",
       "1326858                                 masc acc sg  17   \n",
       "1326859                                       punct   0   \n",
       "\n",
       "                                            file     author       text  \n",
       "0        Herodotus (0016) - Histories (001).json  Herodotus  Histories  \n",
       "1        Herodotus (0016) - Histories (001).json  Herodotus  Histories  \n",
       "2        Herodotus (0016) - Histories (001).json  Herodotus  Histories  \n",
       "3        Herodotus (0016) - Histories (001).json  Herodotus  Histories  \n",
       "4        Herodotus (0016) - Histories (001).json  Herodotus  Histories  \n",
       "...                                          ...        ...        ...  \n",
       "1326855    Xenophon (0032) - Anabasis (006).json   Xenophon   Anabasis  \n",
       "1326856    Xenophon (0032) - Anabasis (006).json   Xenophon   Anabasis  \n",
       "1326857    Xenophon (0032) - Anabasis (006).json   Xenophon   Anabasis  \n",
       "1326858    Xenophon (0032) - Anabasis (006).json   Xenophon   Anabasis  \n",
       "1326859    Xenophon (0032) - Anabasis (006).json   Xenophon   Anabasis  \n",
       "\n",
       "[1326860 rows x 10 columns]"
      ]
     },
     "execution_count": 4,
     "metadata": {},
     "output_type": "execute_result"
    }
   ],
   "source": [
    "df_tokens"
   ]
  },
  {
   "cell_type": "code",
   "execution_count": 5,
   "id": "df2b6b60",
   "metadata": {},
   "outputs": [
    {
     "data": {
      "text/html": [
       "<div>\n",
       "<style scoped>\n",
       "    .dataframe tbody tr th:only-of-type {\n",
       "        vertical-align: middle;\n",
       "    }\n",
       "\n",
       "    .dataframe tbody tr th {\n",
       "        vertical-align: top;\n",
       "    }\n",
       "\n",
       "    .dataframe thead th {\n",
       "        text-align: right;\n",
       "    }\n",
       "</style>\n",
       "<table border=\"1\" class=\"dataframe\">\n",
       "  <thead>\n",
       "    <tr style=\"text-align: right;\">\n",
       "      <th></th>\n",
       "      <th>sent_id</th>\n",
       "      <th>location</th>\n",
       "      <th>forms</th>\n",
       "      <th>lemmata</th>\n",
       "      <th>file</th>\n",
       "      <th>author</th>\n",
       "      <th>text</th>\n",
       "    </tr>\n",
       "  </thead>\n",
       "  <tbody>\n",
       "    <tr>\n",
       "      <th>0</th>\n",
       "      <td>1</td>\n",
       "      <td>1.t.1</td>\n",
       "      <td>Ἡροδότου Ἁλικαρνησσέος ἱστορίης ἀπόδεξις ἥδε ,...</td>\n",
       "      <td>Ἡρόδοτος Ἁλικαρνησσεύς ἱστορία ἀπόδεξις ὅδε ὡς...</td>\n",
       "      <td>Herodotus (0016) - Histories (001).json</td>\n",
       "      <td>Herodotus</td>\n",
       "      <td>Histories</td>\n",
       "    </tr>\n",
       "    <tr>\n",
       "      <th>1</th>\n",
       "      <td>2</td>\n",
       "      <td>1.1.1</td>\n",
       "      <td>Περσέων μέν νυν οἱ λόγιοι Φοίνικας αἰτίους φασ...</td>\n",
       "      <td>Πέρσευς μέν νῦν ὁ λόγιος Φοῖνιξ αἴτιος φημί γί...</td>\n",
       "      <td>Herodotus (0016) - Histories (001).json</td>\n",
       "      <td>Herodotus</td>\n",
       "      <td>Histories</td>\n",
       "    </tr>\n",
       "    <tr>\n",
       "      <th>2</th>\n",
       "      <td>3</td>\n",
       "      <td>1.1.2</td>\n",
       "      <td>τούτους γὰρ ἀπὸ τῆς Ἐρυθρῆς καλεομένης θαλάσση...</td>\n",
       "      <td>οὗτος γάρ ἀπό ὁ Ἐρυθραί καλέω θάλασσα ἀφικνέομ...</td>\n",
       "      <td>Herodotus (0016) - Histories (001).json</td>\n",
       "      <td>Herodotus</td>\n",
       "      <td>Histories</td>\n",
       "    </tr>\n",
       "    <tr>\n",
       "      <th>3</th>\n",
       "      <td>4</td>\n",
       "      <td>1.1.7</td>\n",
       "      <td>τὸ δὲ Ἄργος τοῦτον τὸν χρόνον προεῖχε ἅπασι τῶ...</td>\n",
       "      <td>ὁ δέ Ἄργος οὗτος ὁ χρόνος προέχω ἅπας ὁ ἐν ὁ ν...</td>\n",
       "      <td>Herodotus (0016) - Histories (001).json</td>\n",
       "      <td>Herodotus</td>\n",
       "      <td>Histories</td>\n",
       "    </tr>\n",
       "    <tr>\n",
       "      <th>4</th>\n",
       "      <td>5</td>\n",
       "      <td>1.1.9</td>\n",
       "      <td>ἀπικομένους δὲ τούς Φοίνικας ἐς δὴ τὸ Ἄργος το...</td>\n",
       "      <td>ἀφικνέομαι δέ ὁ Φοῖνιξ εἰς δή ὁ Ἄργος οὗτος δι...</td>\n",
       "      <td>Herodotus (0016) - Histories (001).json</td>\n",
       "      <td>Herodotus</td>\n",
       "      <td>Histories</td>\n",
       "    </tr>\n",
       "    <tr>\n",
       "      <th>...</th>\n",
       "      <td>...</td>\n",
       "      <td>...</td>\n",
       "      <td>...</td>\n",
       "      <td>...</td>\n",
       "      <td>...</td>\n",
       "      <td>...</td>\n",
       "      <td>...</td>\n",
       "    </tr>\n",
       "    <tr>\n",
       "      <th>70715</th>\n",
       "      <td>3800</td>\n",
       "      <td>7.8.23.1</td>\n",
       "      <td>ἔπειτα πάλιν ἀφικνοῦνται εἰς Πέργαμον .</td>\n",
       "      <td>ἔπειτα πάλιν ἀφικνέομαι εἰς Πέργαμον</td>\n",
       "      <td>Xenophon (0032) - Anabasis (006).json</td>\n",
       "      <td>Xenophon</td>\n",
       "      <td>Anabasis</td>\n",
       "    </tr>\n",
       "    <tr>\n",
       "      <th>70716</th>\n",
       "      <td>3801</td>\n",
       "      <td>7.8.23.2</td>\n",
       "      <td>ἐνταῦθα τὸν θεὸν ἠσπάσατο Ξενοφῶν ·</td>\n",
       "      <td>ἐνταῦθα ὁ θεός ἀσπάζομαι Ξενοφῶν</td>\n",
       "      <td>Xenophon (0032) - Anabasis (006).json</td>\n",
       "      <td>Xenophon</td>\n",
       "      <td>Anabasis</td>\n",
       "    </tr>\n",
       "    <tr>\n",
       "      <th>70717</th>\n",
       "      <td>3802</td>\n",
       "      <td>7.8.23.3</td>\n",
       "      <td>συνέπραττον γὰρ καὶ οἱ Λάκωνες καὶ οἱ λοχαγοὶ ...</td>\n",
       "      <td>συμπράσσω γάρ καί ὁ Λάκων καί ὁ λοχαγός καί ὁ ...</td>\n",
       "      <td>Xenophon (0032) - Anabasis (006).json</td>\n",
       "      <td>Xenophon</td>\n",
       "      <td>Anabasis</td>\n",
       "    </tr>\n",
       "    <tr>\n",
       "      <th>70718</th>\n",
       "      <td>3803</td>\n",
       "      <td>7.8.23.5</td>\n",
       "      <td>ὥστε ἱκανὸν εἶναι καὶ ἄλλον ἤδη εὖ ποιεῖν .</td>\n",
       "      <td>ὥστε ἱκανός εἰμί καί ἄλλος ἤδη εὖ ποιέω</td>\n",
       "      <td>Xenophon (0032) - Anabasis (006).json</td>\n",
       "      <td>Xenophon</td>\n",
       "      <td>Anabasis</td>\n",
       "    </tr>\n",
       "    <tr>\n",
       "      <th>70719</th>\n",
       "      <td>3804</td>\n",
       "      <td>7.8.24.1</td>\n",
       "      <td>ἐν τούτῳ Θίβρων παραγενόμενος παρέλαβε τὸ στρά...</td>\n",
       "      <td>ἐν οὗτος Θίβρων παραγίγνομαι παραλαμβάνω ὁ στρ...</td>\n",
       "      <td>Xenophon (0032) - Anabasis (006).json</td>\n",
       "      <td>Xenophon</td>\n",
       "      <td>Anabasis</td>\n",
       "    </tr>\n",
       "  </tbody>\n",
       "</table>\n",
       "<p>70720 rows × 7 columns</p>\n",
       "</div>"
      ],
      "text/plain": [
       "       sent_id  location                                              forms  \\\n",
       "0            1     1.t.1  Ἡροδότου Ἁλικαρνησσέος ἱστορίης ἀπόδεξις ἥδε ,...   \n",
       "1            2     1.1.1  Περσέων μέν νυν οἱ λόγιοι Φοίνικας αἰτίους φασ...   \n",
       "2            3     1.1.2  τούτους γὰρ ἀπὸ τῆς Ἐρυθρῆς καλεομένης θαλάσση...   \n",
       "3            4     1.1.7  τὸ δὲ Ἄργος τοῦτον τὸν χρόνον προεῖχε ἅπασι τῶ...   \n",
       "4            5     1.1.9  ἀπικομένους δὲ τούς Φοίνικας ἐς δὴ τὸ Ἄργος το...   \n",
       "...        ...       ...                                                ...   \n",
       "70715     3800  7.8.23.1            ἔπειτα πάλιν ἀφικνοῦνται εἰς Πέργαμον .   \n",
       "70716     3801  7.8.23.2                ἐνταῦθα τὸν θεὸν ἠσπάσατο Ξενοφῶν ·   \n",
       "70717     3802  7.8.23.3  συνέπραττον γὰρ καὶ οἱ Λάκωνες καὶ οἱ λοχαγοὶ ...   \n",
       "70718     3803  7.8.23.5        ὥστε ἱκανὸν εἶναι καὶ ἄλλον ἤδη εὖ ποιεῖν .   \n",
       "70719     3804  7.8.24.1  ἐν τούτῳ Θίβρων παραγενόμενος παρέλαβε τὸ στρά...   \n",
       "\n",
       "                                                 lemmata  \\\n",
       "0      Ἡρόδοτος Ἁλικαρνησσεύς ἱστορία ἀπόδεξις ὅδε ὡς...   \n",
       "1      Πέρσευς μέν νῦν ὁ λόγιος Φοῖνιξ αἴτιος φημί γί...   \n",
       "2      οὗτος γάρ ἀπό ὁ Ἐρυθραί καλέω θάλασσα ἀφικνέομ...   \n",
       "3      ὁ δέ Ἄργος οὗτος ὁ χρόνος προέχω ἅπας ὁ ἐν ὁ ν...   \n",
       "4      ἀφικνέομαι δέ ὁ Φοῖνιξ εἰς δή ὁ Ἄργος οὗτος δι...   \n",
       "...                                                  ...   \n",
       "70715               ἔπειτα πάλιν ἀφικνέομαι εἰς Πέργαμον   \n",
       "70716                   ἐνταῦθα ὁ θεός ἀσπάζομαι Ξενοφῶν   \n",
       "70717  συμπράσσω γάρ καί ὁ Λάκων καί ὁ λοχαγός καί ὁ ...   \n",
       "70718            ὥστε ἱκανός εἰμί καί ἄλλος ἤδη εὖ ποιέω   \n",
       "70719  ἐν οὗτος Θίβρων παραγίγνομαι παραλαμβάνω ὁ στρ...   \n",
       "\n",
       "                                          file     author       text  \n",
       "0      Herodotus (0016) - Histories (001).json  Herodotus  Histories  \n",
       "1      Herodotus (0016) - Histories (001).json  Herodotus  Histories  \n",
       "2      Herodotus (0016) - Histories (001).json  Herodotus  Histories  \n",
       "3      Herodotus (0016) - Histories (001).json  Herodotus  Histories  \n",
       "4      Herodotus (0016) - Histories (001).json  Herodotus  Histories  \n",
       "...                                        ...        ...        ...  \n",
       "70715    Xenophon (0032) - Anabasis (006).json   Xenophon   Anabasis  \n",
       "70716    Xenophon (0032) - Anabasis (006).json   Xenophon   Anabasis  \n",
       "70717    Xenophon (0032) - Anabasis (006).json   Xenophon   Anabasis  \n",
       "70718    Xenophon (0032) - Anabasis (006).json   Xenophon   Anabasis  \n",
       "70719    Xenophon (0032) - Anabasis (006).json   Xenophon   Anabasis  \n",
       "\n",
       "[70720 rows x 7 columns]"
      ]
     },
     "execution_count": 5,
     "metadata": {},
     "output_type": "execute_result"
    }
   ],
   "source": [
    "df_sents"
   ]
  },
  {
   "cell_type": "markdown",
   "id": "9fcb04bd",
   "metadata": {},
   "source": [
    "## Anotando Gênero"
   ]
  },
  {
   "cell_type": "code",
   "execution_count": 6,
   "id": "465542a6",
   "metadata": {},
   "outputs": [],
   "source": [
    "hist = [\n",
    "    \"Herodotus (0016) - Histories (001).json\",\n",
    "    \"Thucydides (0003) - History (001).json\",\n",
    "    \"Xenophon (0032) - Hellenica (001).json\",\n",
    "    \"Xenophon (0032) - Cyropaedia (007).json\",\n",
    "    \"Xenophon (0032) - Anabasis (006).json\",\n",
    "]"
   ]
  },
  {
   "cell_type": "code",
   "execution_count": 7,
   "id": "1274cd1a",
   "metadata": {},
   "outputs": [],
   "source": [
    "# Deve haver uma maneira menos rocambolesca para resolver isso\n",
    "df_tokens['genero'] = np.nan\n",
    "df_tokens.loc[df_tokens.file.isin(hist), 'genero'] = \"hist\"\n",
    "df_tokens.genero.fillna(\"filo\", inplace=True)\n",
    "df_sents['genero'] = np.nan\n",
    "df_sents.loc[df_sents.file.isin(hist), 'genero'] = \"hist\"\n",
    "df_sents.genero.fillna(\"filo\", inplace=True)"
   ]
  },
  {
   "cell_type": "markdown",
   "id": "b9345ae6",
   "metadata": {},
   "source": [
    "Para meu modelo funcionar, será necessário ter uma quantidade relativamente equilibrada de dados entre autores de prosa historiográfica e prosa filosófica, a seleção parece razoável.\n",
    "Qualquer tentativa de aumentar os dados de historiografia forçaria aumentar o escopo temporal (o próximo autor seria Políbio, já do período helenístico).\n",
    "Nota-se que a diferença aumenta quando tratamos de sentenças e não de tokens, indicando que as sentenças em textos historiográficos devem ser um pouco mais longas na média."
   ]
  },
  {
   "cell_type": "code",
   "execution_count": 8,
   "id": "ba94d233",
   "metadata": {},
   "outputs": [
    {
     "data": {
      "text/plain": [
       "<AxesSubplot:>"
      ]
     },
     "execution_count": 8,
     "metadata": {},
     "output_type": "execute_result"
    },
    {
     "data": {
      "image/png": "[encoded data removed]",
      "text/plain": [
       "<Figure size 720x360 with 1 Axes>"
      ]
     },
     "metadata": {
      "needs_background": "light"
     },
     "output_type": "display_data"
    }
   ],
   "source": [
    "df_tokens.genero.value_counts().plot(kind='bar')"
   ]
  },
  {
   "cell_type": "code",
   "execution_count": 9,
   "id": "5659492a",
   "metadata": {},
   "outputs": [
    {
     "data": {
      "text/plain": [
       "<AxesSubplot:>"
      ]
     },
     "execution_count": 9,
     "metadata": {},
     "output_type": "execute_result"
    },
    {
     "data": {
      "image/png": "[encoded data removed]",
      "text/plain": [
       "<Figure size 720x360 with 1 Axes>"
      ]
     },
     "metadata": {
      "needs_background": "light"
     },
     "output_type": "display_data"
    }
   ],
   "source": [
    "df_sents.genero.value_counts().plot(kind='bar')"
   ]
  },
  {
   "cell_type": "markdown",
   "id": "89c2662e",
   "metadata": {},
   "source": [
    "## Verbos por gênero (dataframe de tokens)"
   ]
  },
  {
   "cell_type": "code",
   "execution_count": 10,
   "id": "dbaac71c",
   "metadata": {},
   "outputs": [
    {
     "data": {
      "text/html": [
       "<div>\n",
       "<style scoped>\n",
       "    .dataframe tbody tr th:only-of-type {\n",
       "        vertical-align: middle;\n",
       "    }\n",
       "\n",
       "    .dataframe tbody tr th {\n",
       "        vertical-align: top;\n",
       "    }\n",
       "\n",
       "    .dataframe thead th {\n",
       "        text-align: right;\n",
       "    }\n",
       "</style>\n",
       "<table border=\"1\" class=\"dataframe\">\n",
       "  <thead>\n",
       "    <tr style=\"text-align: right;\">\n",
       "      <th></th>\n",
       "      <th>sent_id</th>\n",
       "      <th>location</th>\n",
       "      <th>form</th>\n",
       "      <th>lemma</th>\n",
       "      <th>POS</th>\n",
       "      <th>analyses</th>\n",
       "      <th>id</th>\n",
       "      <th>file</th>\n",
       "      <th>author</th>\n",
       "      <th>text</th>\n",
       "      <th>genero</th>\n",
       "    </tr>\n",
       "  </thead>\n",
       "  <tbody>\n",
       "    <tr>\n",
       "      <th>30</th>\n",
       "      <td>1</td>\n",
       "      <td>1.t.1</td>\n",
       "      <td>ἀποδεχθέντα</td>\n",
       "      <td>ἀποδέχομαι</td>\n",
       "      <td>verb</td>\n",
       "      <td>aor part pass neut nom/voc/acc pl;aor part pas...</td>\n",
       "      <td>28</td>\n",
       "      <td>Herodotus (0016) - Histories (001).json</td>\n",
       "      <td>Herodotus</td>\n",
       "      <td>Histories</td>\n",
       "      <td>hist</td>\n",
       "    </tr>\n",
       "    <tr>\n",
       "      <th>42</th>\n",
       "      <td>1</td>\n",
       "      <td>1.t.1</td>\n",
       "      <td>ἐπολέμησαν</td>\n",
       "      <td>πολεμέω</td>\n",
       "      <td>verb</td>\n",
       "      <td>aor ind act 3rd pl</td>\n",
       "      <td>38</td>\n",
       "      <td>Herodotus (0016) - Histories (001).json</td>\n",
       "      <td>Herodotus</td>\n",
       "      <td>Histories</td>\n",
       "      <td>hist</td>\n",
       "    </tr>\n",
       "    <tr>\n",
       "      <th>62</th>\n",
       "      <td>3</td>\n",
       "      <td>1.1.2</td>\n",
       "      <td>καλεομένης</td>\n",
       "      <td>καλέω</td>\n",
       "      <td>verb</td>\n",
       "      <td>fut part mid fem gen sg (attic epic ionic);pre...</td>\n",
       "      <td>6</td>\n",
       "      <td>Herodotus (0016) - Histories (001).json</td>\n",
       "      <td>Herodotus</td>\n",
       "      <td>Histories</td>\n",
       "      <td>hist</td>\n",
       "    </tr>\n",
       "    <tr>\n",
       "      <th>64</th>\n",
       "      <td>3</td>\n",
       "      <td>1.1.2</td>\n",
       "      <td>ἀπικομένους</td>\n",
       "      <td>ἀφικνέομαι</td>\n",
       "      <td>verb</td>\n",
       "      <td>aor part mid masc acc pl (ionic)</td>\n",
       "      <td>8</td>\n",
       "      <td>Herodotus (0016) - Histories (001).json</td>\n",
       "      <td>Herodotus</td>\n",
       "      <td>Histories</td>\n",
       "      <td>hist</td>\n",
       "    </tr>\n",
       "    <tr>\n",
       "      <th>71</th>\n",
       "      <td>3</td>\n",
       "      <td>1.1.2</td>\n",
       "      <td>οἰκήσαντας</td>\n",
       "      <td>οἰκέω</td>\n",
       "      <td>verb</td>\n",
       "      <td>aor part act masc acc pl</td>\n",
       "      <td>14</td>\n",
       "      <td>Herodotus (0016) - Histories (001).json</td>\n",
       "      <td>Herodotus</td>\n",
       "      <td>Histories</td>\n",
       "      <td>hist</td>\n",
       "    </tr>\n",
       "    <tr>\n",
       "      <th>...</th>\n",
       "      <td>...</td>\n",
       "      <td>...</td>\n",
       "      <td>...</td>\n",
       "      <td>...</td>\n",
       "      <td>...</td>\n",
       "      <td>...</td>\n",
       "      <td>...</td>\n",
       "      <td>...</td>\n",
       "      <td>...</td>\n",
       "      <td>...</td>\n",
       "      <td>...</td>\n",
       "    </tr>\n",
       "    <tr>\n",
       "      <th>1326825</th>\n",
       "      <td>3802</td>\n",
       "      <td>7.8.23.3</td>\n",
       "      <td>λαβεῖν</td>\n",
       "      <td>λαμβάνω</td>\n",
       "      <td>verb</td>\n",
       "      <td>aor inf act (attic epic doric)</td>\n",
       "      <td>18</td>\n",
       "      <td>Xenophon (0032) - Anabasis (006).json</td>\n",
       "      <td>Xenophon</td>\n",
       "      <td>Anabasis</td>\n",
       "      <td>hist</td>\n",
       "    </tr>\n",
       "    <tr>\n",
       "      <th>1326845</th>\n",
       "      <td>3804</td>\n",
       "      <td>7.8.24.1</td>\n",
       "      <td>παραγενόμενος</td>\n",
       "      <td>παραγίγνομαι</td>\n",
       "      <td>verb</td>\n",
       "      <td>aor part mid masc nom sg</td>\n",
       "      <td>4</td>\n",
       "      <td>Xenophon (0032) - Anabasis (006).json</td>\n",
       "      <td>Xenophon</td>\n",
       "      <td>Anabasis</td>\n",
       "      <td>hist</td>\n",
       "    </tr>\n",
       "    <tr>\n",
       "      <th>1326846</th>\n",
       "      <td>3804</td>\n",
       "      <td>7.8.24.1</td>\n",
       "      <td>παρέλαβε</td>\n",
       "      <td>παραλαμβάνω</td>\n",
       "      <td>verb</td>\n",
       "      <td>aor ind act 3rd sg</td>\n",
       "      <td>5</td>\n",
       "      <td>Xenophon (0032) - Anabasis (006).json</td>\n",
       "      <td>Xenophon</td>\n",
       "      <td>Anabasis</td>\n",
       "      <td>hist</td>\n",
       "    </tr>\n",
       "    <tr>\n",
       "      <th>1326850</th>\n",
       "      <td>3804</td>\n",
       "      <td>7.8.24.1</td>\n",
       "      <td>συμμείξας</td>\n",
       "      <td>συμμίγνυμι</td>\n",
       "      <td>verb</td>\n",
       "      <td>aor part act masc nom/voc sg (attic epic ionic)</td>\n",
       "      <td>9</td>\n",
       "      <td>Xenophon (0032) - Anabasis (006).json</td>\n",
       "      <td>Xenophon</td>\n",
       "      <td>Anabasis</td>\n",
       "      <td>hist</td>\n",
       "    </tr>\n",
       "    <tr>\n",
       "      <th>1326854</th>\n",
       "      <td>3804</td>\n",
       "      <td>7.8.24.1</td>\n",
       "      <td>ἐπολέμει</td>\n",
       "      <td>πολεμέω</td>\n",
       "      <td>verb</td>\n",
       "      <td>imperf ind act 3rd sg (attic epic)</td>\n",
       "      <td>13</td>\n",
       "      <td>Xenophon (0032) - Anabasis (006).json</td>\n",
       "      <td>Xenophon</td>\n",
       "      <td>Anabasis</td>\n",
       "      <td>hist</td>\n",
       "    </tr>\n",
       "  </tbody>\n",
       "</table>\n",
       "<p>170624 rows × 11 columns</p>\n",
       "</div>"
      ],
      "text/plain": [
       "         sent_id  location           form         lemma   POS  \\\n",
       "30             1     1.t.1    ἀποδεχθέντα    ἀποδέχομαι  verb   \n",
       "42             1     1.t.1     ἐπολέμησαν       πολεμέω  verb   \n",
       "62             3     1.1.2     καλεομένης         καλέω  verb   \n",
       "64             3     1.1.2    ἀπικομένους    ἀφικνέομαι  verb   \n",
       "71             3     1.1.2     οἰκήσαντας         οἰκέω  verb   \n",
       "...          ...       ...            ...           ...   ...   \n",
       "1326825     3802  7.8.23.3         λαβεῖν       λαμβάνω  verb   \n",
       "1326845     3804  7.8.24.1  παραγενόμενος  παραγίγνομαι  verb   \n",
       "1326846     3804  7.8.24.1       παρέλαβε   παραλαμβάνω  verb   \n",
       "1326850     3804  7.8.24.1      συμμείξας    συμμίγνυμι  verb   \n",
       "1326854     3804  7.8.24.1       ἐπολέμει       πολεμέω  verb   \n",
       "\n",
       "                                                  analyses  id  \\\n",
       "30       aor part pass neut nom/voc/acc pl;aor part pas...  28   \n",
       "42                                      aor ind act 3rd pl  38   \n",
       "62       fut part mid fem gen sg (attic epic ionic);pre...   6   \n",
       "64                        aor part mid masc acc pl (ionic)   8   \n",
       "71                                aor part act masc acc pl  14   \n",
       "...                                                    ...  ..   \n",
       "1326825                     aor inf act (attic epic doric)  18   \n",
       "1326845                           aor part mid masc nom sg   4   \n",
       "1326846                                 aor ind act 3rd sg   5   \n",
       "1326850    aor part act masc nom/voc sg (attic epic ionic)   9   \n",
       "1326854                 imperf ind act 3rd sg (attic epic)  13   \n",
       "\n",
       "                                            file     author       text genero  \n",
       "30       Herodotus (0016) - Histories (001).json  Herodotus  Histories   hist  \n",
       "42       Herodotus (0016) - Histories (001).json  Herodotus  Histories   hist  \n",
       "62       Herodotus (0016) - Histories (001).json  Herodotus  Histories   hist  \n",
       "64       Herodotus (0016) - Histories (001).json  Herodotus  Histories   hist  \n",
       "71       Herodotus (0016) - Histories (001).json  Herodotus  Histories   hist  \n",
       "...                                          ...        ...        ...    ...  \n",
       "1326825    Xenophon (0032) - Anabasis (006).json   Xenophon   Anabasis   hist  \n",
       "1326845    Xenophon (0032) - Anabasis (006).json   Xenophon   Anabasis   hist  \n",
       "1326846    Xenophon (0032) - Anabasis (006).json   Xenophon   Anabasis   hist  \n",
       "1326850    Xenophon (0032) - Anabasis (006).json   Xenophon   Anabasis   hist  \n",
       "1326854    Xenophon (0032) - Anabasis (006).json   Xenophon   Anabasis   hist  \n",
       "\n",
       "[170624 rows x 11 columns]"
      ]
     },
     "execution_count": 10,
     "metadata": {},
     "output_type": "execute_result"
    }
   ],
   "source": [
    "df_verbos = df_tokens.loc[(df_tokens.POS == \"verb\") & (-df_tokens.lemma.isin(STOPS_LIST))]\n",
    "df_verbos"
   ]
  },
  {
   "cell_type": "markdown",
   "id": "d809da9c",
   "metadata": {},
   "source": [
    "A filtragem não causa mudança na proporção entre documentos de historiografia e filosofia."
   ]
  },
  {
   "cell_type": "code",
   "execution_count": 11,
   "id": "cd20f024",
   "metadata": {},
   "outputs": [
    {
     "data": {
      "text/plain": [
       "<AxesSubplot:>"
      ]
     },
     "execution_count": 11,
     "metadata": {},
     "output_type": "execute_result"
    },
    {
     "data": {
      "image/png": "[encoded data removed]",
      "text/plain": [
       "<Figure size 720x360 with 1 Axes>"
      ]
     },
     "metadata": {
      "needs_background": "light"
     },
     "output_type": "display_data"
    }
   ],
   "source": [
    "df_verbos.genero.value_counts().plot(kind='bar')"
   ]
  },
  {
   "cell_type": "code",
   "execution_count": 12,
   "id": "9a191615",
   "metadata": {},
   "outputs": [
    {
     "data": {
      "text/plain": [
       "οἴομαι           1767\n",
       "οἶδα             1482\n",
       "φαίνω            1204\n",
       "βούλομαι         1177\n",
       "δεῖ              1026\n",
       "                 ... \n",
       "προπαιδεύω          1\n",
       "μολύνω              1\n",
       "διαίνω              1\n",
       "ὑπεραγανακτέω       1\n",
       "ἐφέζομαι            1\n",
       "Name: lemma, Length: 3663, dtype: int64"
      ]
     },
     "execution_count": 12,
     "metadata": {},
     "output_type": "execute_result"
    }
   ],
   "source": [
    "filo_verbos = df_verbos[df_verbos.genero == \"filo\"].lemma\n",
    "filo_verbos.value_counts()"
   ]
  },
  {
   "cell_type": "code",
   "execution_count": 13,
   "id": "ddb108ea",
   "metadata": {},
   "outputs": [
    {
     "data": {
      "text/plain": [
       "<AxesSubplot:ylabel='Density'>"
      ]
     },
     "execution_count": 13,
     "metadata": {},
     "output_type": "execute_result"
    },
    {
     "data": {
      "image/png": "[encoded data removed]",
      "text/plain": [
       "<Figure size 720x360 with 1 Axes>"
      ]
     },
     "metadata": {
      "needs_background": "light"
     },
     "output_type": "display_data"
    }
   ],
   "source": [
    "filo_verbos.value_counts().plot(kind='density')"
   ]
  },
  {
   "cell_type": "code",
   "execution_count": 14,
   "id": "a3f219c4",
   "metadata": {},
   "outputs": [
    {
     "data": {
      "text/plain": [
       "βούλομαι        1177\n",
       "λαμβάνω          994\n",
       "ἀφικνέομαι       915\n",
       "ἔρχομαι          872\n",
       "πάρειμι          822\n",
       "                ... \n",
       "ἐπεικάζω           1\n",
       "ἀποκηδεύω          1\n",
       "πυκνόω             1\n",
       "καθιππάζομαι       1\n",
       "ἐξαυλίζομαι        1\n",
       "Name: lemma, Length: 4331, dtype: int64"
      ]
     },
     "execution_count": 14,
     "metadata": {},
     "output_type": "execute_result"
    }
   ],
   "source": [
    "hist_verbos = df_verbos[df_verbos.genero == \"hist\"].lemma\n",
    "hist_verbos.value_counts()"
   ]
  },
  {
   "cell_type": "code",
   "execution_count": 15,
   "id": "2b1abcaa",
   "metadata": {},
   "outputs": [
    {
     "data": {
      "text/plain": [
       "<AxesSubplot:ylabel='Density'>"
      ]
     },
     "execution_count": 15,
     "metadata": {},
     "output_type": "execute_result"
    },
    {
     "data": {
      "image/png": "[encoded data removed]",
      "text/plain": [
       "<Figure size 720x360 with 1 Axes>"
      ]
     },
     "metadata": {
      "needs_background": "light"
     },
     "output_type": "display_data"
    }
   ],
   "source": [
    "hist_verbos.value_counts().plot(kind='density')"
   ]
  },
  {
   "cell_type": "markdown",
   "id": "f7af3218",
   "metadata": {},
   "source": [
    "## Naive Bayes\n"
   ]
  },
  {
   "cell_type": "markdown",
   "id": "b5f9b7a4",
   "metadata": {},
   "source": [
    "### Apenas de tokens\n",
    "\n",
    "O resultado é terrível, provavelmente porque a implementação do modelo não é a melhor, afinal o `DOCUMENTO` e suas componentes são a mesma entidade."
   ]
  },
  {
   "cell_type": "code",
   "execution_count": 16,
   "id": "90a20eee",
   "metadata": {},
   "outputs": [],
   "source": [
    "x, y = df_verbos.lemma, df_verbos.genero"
   ]
  },
  {
   "cell_type": "code",
   "execution_count": 17,
   "id": "d2996968",
   "metadata": {},
   "outputs": [],
   "source": [
    "from sklearn.model_selection import train_test_split\n",
    "\n",
    "x_treino, x_teste, y_treino, y_teste = train_test_split(x, y, test_size=0.20, random_state=42)\n",
    "\n",
    "filo = [x for x, y in zip(x_treino, y_treino) if y == 'filo']\n",
    "hist = [x for x, y in zip(x_treino, y_treino) if y == 'hist']"
   ]
  },
  {
   "cell_type": "code",
   "execution_count": 18,
   "id": "07881609",
   "metadata": {},
   "outputs": [],
   "source": [
    "vocab_filo = Counter(filo)\n",
    "vocab_hist = Counter(hist)"
   ]
  },
  {
   "cell_type": "code",
   "execution_count": 19,
   "id": "5208fdef",
   "metadata": {},
   "outputs": [],
   "source": [
    "n_filo = len(filo)\n",
    "n_hist = len(hist)\n",
    "n = n_filo + n_hist\n",
    "p_filo = np.log2(n_filo / n)\n",
    "p_hist = np.log2(n_hist / n)"
   ]
  },
  {
   "cell_type": "code",
   "execution_count": 20,
   "id": "edea6ace",
   "metadata": {},
   "outputs": [],
   "source": [
    "n_vocab_filo = len(vocab_filo)\n",
    "n_vocab_hist = len(vocab_hist)"
   ]
  },
  {
   "cell_type": "code",
   "execution_count": 21,
   "id": "34c0fe3d",
   "metadata": {},
   "outputs": [],
   "source": [
    "def bayes(texto):\n",
    "    \n",
    "    texto_filo = [x for x in texto if x in vocab_filo.keys()]\n",
    "    c_doc_filo = Counter(texto_filo)\n",
    "    texto_hist = [x for x in texto if x in vocab_hist.keys()]\n",
    "    c_doc_hist = Counter(texto_hist)\n",
    "    \n",
    "    pf_filo = sum([np.log2((c_doc_filo[token] + 1) / n_vocab_filo + len(texto_filo)) for token in texto_filo])\n",
    "    pf_hist = sum([np.log2((c_doc_hist[token] + 1) / n_vocab_hist + len(texto_hist)) for token in texto_hist])\n",
    "\n",
    "    \n",
    "    prob_filo = p_filo + pf_filo\n",
    "    prob_hist = p_hist + pf_hist\n",
    "\n",
    "\n",
    "    return prob_filo, prob_hist"
   ]
  },
  {
   "cell_type": "code",
   "execution_count": 22,
   "id": "3c57020b",
   "metadata": {},
   "outputs": [],
   "source": [
    "teste_pred_labels = []\n",
    "for t in x_teste:\n",
    "    prob_filo, prob_hist = bayes(t)\n",
    "    if prob_filo >= prob_hist:\n",
    "        teste_pred_labels.append(\"filo\")\n",
    "    else:\n",
    "        teste_pred_labels.append(\"hist\")"
   ]
  },
  {
   "cell_type": "code",
   "execution_count": 23,
   "id": "1aea1b26",
   "metadata": {},
   "outputs": [],
   "source": [
    "teste_orig_labels = [x for x in y_teste]\n",
    "\n",
    "performance_labels = []\n",
    "\n",
    "for pred, label in zip(teste_pred_labels, teste_orig_labels):\n",
    "    if label == \"filo\" and pred == \"filo\":\n",
    "        performance_labels.append(\"VP\")\n",
    "    elif label == \"filo\" and pred == \"hist\":\n",
    "        performance_labels.append(\"FP\")\n",
    "    elif label == \"hist\" and pred == \"hist\":\n",
    "        performance_labels.append(\"VN\")\n",
    "    else:\n",
    "        performance_labels.append(\"FN\")\n",
    "        \n",
    "perf_counter = Counter(performance_labels)"
   ]
  },
  {
   "cell_type": "code",
   "execution_count": 24,
   "id": "e6d7e74e",
   "metadata": {},
   "outputs": [
    {
     "data": {
      "text/plain": [
       "Counter({'VN': 17407, 'FP': 16718})"
      ]
     },
     "execution_count": 24,
     "metadata": {},
     "output_type": "execute_result"
    }
   ],
   "source": [
    "perf_counter"
   ]
  },
  {
   "cell_type": "markdown",
   "id": "73105f8e",
   "metadata": {},
   "source": [
    "### Com sentenças"
   ]
  },
  {
   "cell_type": "code",
   "execution_count": 25,
   "id": "dd13043a",
   "metadata": {},
   "outputs": [],
   "source": [
    "# TODO: Implementar"
   ]
  }
 ],
 "metadata": {
  "kernelspec": {
   "display_name": "Python 3 (ipykernel)",
   "language": "python",
   "name": "python3"
  },
  "language_info": {
   "codemirror_mode": {
    "name": "ipython",
    "version": 3
   },
   "file_extension": ".py",
   "mimetype": "text/x-python",
   "name": "python",
   "nbconvert_exporter": "python",
   "pygments_lexer": "ipython3",
   "version": "3.9.9"
  }
 },
 "nbformat": 4,
 "nbformat_minor": 5
}
