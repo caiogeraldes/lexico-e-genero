{
 "cells": [
  {
   "cell_type": "markdown",
   "id": "f984cc55",
   "metadata": {},
   "source": [
    "# Teste de viabilidade\n",
    "\n",
    "**Caio Geraldes, 2021**\n",
    "\n",
    "Este notebook testa a viabilidade dos algoritmos do módulo `lexicogenero`, de minha autoria, para selecionar, dividir e organizar dados de textos em prosa em grego antigo para a disciplina FLL5133-2021.\n",
    "O código fonte dos scripts utilizados aqui, bem como dos testes de qualidade estão disponíveis em meu [GitHub](https://github.com/caiogeraldes/lexico-e-genero/).\n",
    "\n",
    "## Carregamento e organização dos dados importados do Diorisis\n",
    "\n",
    "Pretendo utilizar o corpus anotado [Diorisis](https://figshare.com/articles/dataset/The_Diorisis_Ancient_Greek_Corpus_JSON_/12251468) de Alessandro Vatri e Barbara McGillyvray, disponível em formato `.json` e com lemmatização confiável ([Vatri, 2020](https://brill.com/view/journals/jgl/20/2/article-p179_4.xml)).\n",
    " Para processar esse corpus, utilizei as funções criadas em [../src/lexicogenero/ferramentas/diorisis_reader.py](https://github.com/caiogeraldes/lexico-e-genero/blob/main/src/lexicogenero/ferramentas/diorisis_reader.py).\n",
    " A lista de *stop words* utilizada vem de [Rodda, 2020](https://github.com/MartinaAstridRodda/dphil-thesis), com algumas adições (código em [../src/lexicogenero/grc.py](https://github.com/caiogeraldes/lexico-e-genero/blob/main/src/lexicogenero/grc.py))."
   ]
  },
  {
   "cell_type": "code",
   "execution_count": 88,
   "id": "5e362c23",
   "metadata": {},
   "outputs": [],
   "source": [
    "import os\n",
    "import itertools\n",
    "import pandas as pd\n",
    "import numpy as np\n",
    "import matplotlib.pyplot as plt\n",
    "from collections import Counter\n",
    "from sklearn.model_selection import train_test_split"
   ]
  },
  {
   "cell_type": "code",
   "execution_count": 89,
   "id": "1d766ef5",
   "metadata": {},
   "outputs": [],
   "source": [
    "from lexicogenero.ferramentas.diorisis_reader import carrega_textos, em_pandas, sent_pandas\n",
    "from lexicogenero.main import DIORISIS_PATH\n",
    "from lexicogenero.grc import STOPS_LIST\n",
    "\n",
    "%matplotlib inline\n",
    "plt.rcParams['figure.figsize'] = [20, 5]"
   ]
  },
  {
   "cell_type": "markdown",
   "id": "eafebfa9",
   "metadata": {},
   "source": [
    "Neste teste, usaremos como corpus os textos de historiografia e prosa filosófica (diálogos e tratados) de autores do período clássico:\n",
    "\n",
    "- Historiografia:\n",
    "    - Heródoto\n",
    "    - Xenofonte:\n",
    "        - Ciropédia\n",
    "        - Anábase\n",
    "        - Helênica\n",
    "    - Tucídides\n",
    "- Prosa filosófica:\n",
    "    - Platão\n",
    "    - Xenofonte:\n",
    "        - Agesilau\n",
    "        - Hierão\n",
    "        - Simpósio\n",
    "        - Apologia\n",
    "        - Memorabilia"
   ]
  },
  {
   "cell_type": "code",
   "execution_count": 90,
   "id": "f6526458",
   "metadata": {},
   "outputs": [
    {
     "name": "stdout",
     "output_type": "stream",
     "text": [
      "Criando DF para: Herodotus (0016) - Histories (001).json\n",
      "Criando DF para: Thucydides (0003) - History (001).json\n",
      "Criando DF para: Plato (0059) - Cleitophon (029).json\n",
      "Criando DF para: Plato (0059) - Menexenus (028).json\n",
      "Criando DF para: Plato (0059) - Symposium (011).json\n",
      "Criando DF para: Plato (0059) - Hipparchus (015).json\n",
      "Criando DF para: Plato (0059) - Lovers (016).json\n",
      "Criando DF para: Plato (0059) - Minos (033).json\n",
      "Criando DF para: Plato (0059) - Phaedrus (012).json\n",
      "Criando DF para: Plato (0059) - Epinomis (035).json\n",
      "Criando DF para: Plato (0059) - Apology (002).json\n",
      "Criando DF para: Plato (0059) - Protagoras (022).json\n",
      "Criando DF para: Plato (0059) - Timaeus (031).json\n",
      "Criando DF para: Plato (0059) - Hippias Minor (026).json\n",
      "Criando DF para: Plato (0059) - Sophist (007).json\n",
      "Criando DF para: Plato (0059) - Gorgias (023).json\n",
      "Criando DF para: Plato (0059) - Laches (019).json\n",
      "Criando DF para: Plato (0059) - Critias (032).json\n",
      "Criando DF para: Plato (0059) - Euthyphro (001).json\n",
      "Criando DF para: Plato (0059) - Epistles (036).json\n",
      "Criando DF para: Plato (0059) - Hippias Major (025).json\n",
      "Criando DF para: Plato (0059) - Charmides (018).json\n",
      "Criando DF para: Plato (0059) - Crito (003).json\n",
      "Criando DF para: Plato (0059) - Republic (030).json\n",
      "Criando DF para: Plato (0059) - Alcibiades 1 (013).json\n",
      "Criando DF para: Plato (0059) - Statesman (008).json\n",
      "Criando DF para: Plato (0059) - Lysis (020).json\n",
      "Criando DF para: Plato (0059) - Phaedo (004).json\n",
      "Criando DF para: Plato (0059) - Euthydemus (021).json\n",
      "Criando DF para: Plato (0059) - Cratylus (005).json\n",
      "Criando DF para: Plato (0059) - Laws (034).json\n",
      "Criando DF para: Plato (0059) - Meno (024).json\n",
      "Criando DF para: Plato (0059) - Ion (027).json\n",
      "Criando DF para: Plato (0059) - Theaetetus (006).json\n",
      "Criando DF para: Plato (0059) - Philebus (010).json\n",
      "Criando DF para: Plato (0059) - Parmenides (009).json\n",
      "Criando DF para: Plato (0059) - Theages (017).json\n",
      "Criando DF para: Xenophon (0032) - Memorabilia (002).json\n",
      "Criando DF para: Xenophon (0032) - Hellenica (001).json\n",
      "Criando DF para: Xenophon (0032) - Agesilaus (009).json\n",
      "Criando DF para: Xenophon (0032) - Hiero (008).json\n",
      "Criando DF para: Xenophon (0032) - Cyropaedia (007).json\n",
      "Criando DF para: Xenophon (0032) - Symposium (004).json\n",
      "Criando DF para: Xenophon (0032) - Anabasis (006).json\n"
     ]
    }
   ],
   "source": [
    "DATA = \"data.csv\"\n",
    "SENTS = \"sents.csv\"\n",
    "REAPROVEITAR = True\n",
    "\n",
    "if not REAPROVEITAR or (DATA not in os.listdir() or SENTS not in os.listdir()):\n",
    "    ignorados = [\n",
    "        \"Xenophon (0032) - On the Art of Horsemanship (013).json\",\n",
    "        \"Xenophon (0032) - Economics (003).json\",\n",
    "        \"Xenophon (0032) - Ways and Means (011).json\",\n",
    "        \"Xenophon (0032) - Constitution of the Lacedaemonians (010).json\",\n",
    "        \"Xenophon (0032) - On the Cavalry Commander (012).json\",\n",
    "        \"Xenophon (0032) - On Hunting (014).json\",\n",
    "        \"Xenophon (0032) - Apology (005).json\",\n",
    "        \"Plato (0059) - Alcibiades 2 (014).json\", # Anotação problemática\n",
    "    ]\n",
    "\n",
    "    corpus = carrega_textos(autores=['Herodotus', \n",
    "                                     'Thucydides', \n",
    "                                     'Plato', \n",
    "                                     'Xenophon (0032)', # Exclui Xenofonte de Éfeso \n",
    "                                     ],\n",
    "                            diorisis_path=DIORISIS_PATH,\n",
    "                            ignore=ignorados,\n",
    "                            verbose=False)\n",
    "    df_tokens = em_pandas(corpus)\n",
    "    df_sents = sent_pandas(corpus)\n",
    "    del corpus\n",
    "    df_tokens.to_csv(DATA, index=False)\n",
    "    df_sents.to_csv(SENTS, index=False)\n",
    "        \n",
    "else:\n",
    "    print('Carregando dataframe previamente salvo')\n",
    "    df_tokens = pd.read_csv(DATA)\n",
    "    df_sents = pd.read_csv(SENTS)"
   ]
  },
  {
   "cell_type": "markdown",
   "id": "e4d03fc4",
   "metadata": {},
   "source": [
    "**Formato do DF**: ainda não decidi se seria mais eficiente utilizar um data frame organizado por token ou por sentenças. A implementação de ambos é muito semelhante e pode ser vista em `../src/lexicogenero/ferramentas/diorisis_parser.py`"
   ]
  },
  {
   "cell_type": "code",
   "execution_count": 92,
   "id": "7ca566e7",
   "metadata": {},
   "outputs": [
    {
     "data": {
      "text/html": [
       "<div>\n",
       "<style scoped>\n",
       "    .dataframe tbody tr th:only-of-type {\n",
       "        vertical-align: middle;\n",
       "    }\n",
       "\n",
       "    .dataframe tbody tr th {\n",
       "        vertical-align: top;\n",
       "    }\n",
       "\n",
       "    .dataframe thead th {\n",
       "        text-align: right;\n",
       "    }\n",
       "</style>\n",
       "<table border=\"1\" class=\"dataframe\">\n",
       "  <thead>\n",
       "    <tr style=\"text-align: right;\">\n",
       "      <th></th>\n",
       "      <th>sent_id</th>\n",
       "      <th>location</th>\n",
       "      <th>form</th>\n",
       "      <th>lemma</th>\n",
       "      <th>POS</th>\n",
       "      <th>analyses</th>\n",
       "      <th>id</th>\n",
       "      <th>file</th>\n",
       "      <th>author</th>\n",
       "      <th>text</th>\n",
       "    </tr>\n",
       "  </thead>\n",
       "  <tbody>\n",
       "    <tr>\n",
       "      <th>0</th>\n",
       "      <td>1</td>\n",
       "      <td>1.t.1</td>\n",
       "      <td>Ἡροδότου</td>\n",
       "      <td>Ἡρόδοτος</td>\n",
       "      <td>proper</td>\n",
       "      <td>masc gen sg</td>\n",
       "      <td>1</td>\n",
       "      <td>Herodotus (0016) - Histories (001).json</td>\n",
       "      <td>Herodotus</td>\n",
       "      <td>Histories</td>\n",
       "    </tr>\n",
       "    <tr>\n",
       "      <th>1</th>\n",
       "      <td>1</td>\n",
       "      <td>1.t.1</td>\n",
       "      <td>Ἁλικαρνησσέος</td>\n",
       "      <td>Ἁλικαρνησσεύς</td>\n",
       "      <td>proper</td>\n",
       "      <td>masc gen sg (epic ionic)</td>\n",
       "      <td>2</td>\n",
       "      <td>Herodotus (0016) - Histories (001).json</td>\n",
       "      <td>Herodotus</td>\n",
       "      <td>Histories</td>\n",
       "    </tr>\n",
       "    <tr>\n",
       "      <th>2</th>\n",
       "      <td>1</td>\n",
       "      <td>1.t.1</td>\n",
       "      <td>ἱστορίης</td>\n",
       "      <td>ἱστορία</td>\n",
       "      <td>noun</td>\n",
       "      <td>fem gen sg (epic ionic)</td>\n",
       "      <td>3</td>\n",
       "      <td>Herodotus (0016) - Histories (001).json</td>\n",
       "      <td>Herodotus</td>\n",
       "      <td>Histories</td>\n",
       "    </tr>\n",
       "    <tr>\n",
       "      <th>3</th>\n",
       "      <td>1</td>\n",
       "      <td>1.t.1</td>\n",
       "      <td>ἀπόδεξις</td>\n",
       "      <td>ἀπόδεξις</td>\n",
       "      <td>noun</td>\n",
       "      <td>fem nom sg</td>\n",
       "      <td>4</td>\n",
       "      <td>Herodotus (0016) - Histories (001).json</td>\n",
       "      <td>Herodotus</td>\n",
       "      <td>Histories</td>\n",
       "    </tr>\n",
       "    <tr>\n",
       "      <th>4</th>\n",
       "      <td>1</td>\n",
       "      <td>1.t.1</td>\n",
       "      <td>ἥδε</td>\n",
       "      <td>ὅδε</td>\n",
       "      <td>pronoun</td>\n",
       "      <td>fem nom sg</td>\n",
       "      <td>5</td>\n",
       "      <td>Herodotus (0016) - Histories (001).json</td>\n",
       "      <td>Herodotus</td>\n",
       "      <td>Histories</td>\n",
       "    </tr>\n",
       "  </tbody>\n",
       "</table>\n",
       "</div>"
      ],
      "text/plain": [
       "  sent_id location           form          lemma      POS  \\\n",
       "0       1    1.t.1       Ἡροδότου       Ἡρόδοτος   proper   \n",
       "1       1    1.t.1  Ἁλικαρνησσέος  Ἁλικαρνησσεύς   proper   \n",
       "2       1    1.t.1       ἱστορίης        ἱστορία     noun   \n",
       "3       1    1.t.1       ἀπόδεξις       ἀπόδεξις     noun   \n",
       "4       1    1.t.1            ἥδε            ὅδε  pronoun   \n",
       "\n",
       "                   analyses id                                     file  \\\n",
       "0               masc gen sg  1  Herodotus (0016) - Histories (001).json   \n",
       "1  masc gen sg (epic ionic)  2  Herodotus (0016) - Histories (001).json   \n",
       "2   fem gen sg (epic ionic)  3  Herodotus (0016) - Histories (001).json   \n",
       "3                fem nom sg  4  Herodotus (0016) - Histories (001).json   \n",
       "4                fem nom sg  5  Herodotus (0016) - Histories (001).json   \n",
       "\n",
       "      author       text  \n",
       "0  Herodotus  Histories  \n",
       "1  Herodotus  Histories  \n",
       "2  Herodotus  Histories  \n",
       "3  Herodotus  Histories  \n",
       "4  Herodotus  Histories  "
      ]
     },
     "execution_count": 92,
     "metadata": {},
     "output_type": "execute_result"
    }
   ],
   "source": [
    "df_tokens.head()"
   ]
  },
  {
   "cell_type": "code",
   "execution_count": 93,
   "id": "92b98dee",
   "metadata": {},
   "outputs": [
    {
     "data": {
      "text/html": [
       "<div>\n",
       "<style scoped>\n",
       "    .dataframe tbody tr th:only-of-type {\n",
       "        vertical-align: middle;\n",
       "    }\n",
       "\n",
       "    .dataframe tbody tr th {\n",
       "        vertical-align: top;\n",
       "    }\n",
       "\n",
       "    .dataframe thead th {\n",
       "        text-align: right;\n",
       "    }\n",
       "</style>\n",
       "<table border=\"1\" class=\"dataframe\">\n",
       "  <thead>\n",
       "    <tr style=\"text-align: right;\">\n",
       "      <th></th>\n",
       "      <th>sent_id</th>\n",
       "      <th>location</th>\n",
       "      <th>forms</th>\n",
       "      <th>lemmata</th>\n",
       "      <th>file</th>\n",
       "      <th>author</th>\n",
       "      <th>text</th>\n",
       "    </tr>\n",
       "  </thead>\n",
       "  <tbody>\n",
       "    <tr>\n",
       "      <th>0</th>\n",
       "      <td>1</td>\n",
       "      <td>1.t.1</td>\n",
       "      <td>Ἡροδότου Ἁλικαρνησσέος ἱστορίης ἀπόδεξις ἥδε ,...</td>\n",
       "      <td>Ἡρόδοτος Ἁλικαρνησσεύς ἱστορία ἀπόδεξις ὅδε ὡς...</td>\n",
       "      <td>Herodotus (0016) - Histories (001).json</td>\n",
       "      <td>Herodotus</td>\n",
       "      <td>Histories</td>\n",
       "    </tr>\n",
       "    <tr>\n",
       "      <th>1</th>\n",
       "      <td>2</td>\n",
       "      <td>1.1.1</td>\n",
       "      <td>Περσέων μέν νυν οἱ λόγιοι Φοίνικας αἰτίους φασ...</td>\n",
       "      <td>Πέρσευς μέν νῦν ὁ λόγιος Φοῖνιξ αἴτιος φημί γί...</td>\n",
       "      <td>Herodotus (0016) - Histories (001).json</td>\n",
       "      <td>Herodotus</td>\n",
       "      <td>Histories</td>\n",
       "    </tr>\n",
       "    <tr>\n",
       "      <th>2</th>\n",
       "      <td>3</td>\n",
       "      <td>1.1.2</td>\n",
       "      <td>τούτους γὰρ ἀπὸ τῆς Ἐρυθρῆς καλεομένης θαλάσση...</td>\n",
       "      <td>οὗτος γάρ ἀπό ὁ Ἐρυθραί καλέω θάλασσα ἀφικνέομ...</td>\n",
       "      <td>Herodotus (0016) - Histories (001).json</td>\n",
       "      <td>Herodotus</td>\n",
       "      <td>Histories</td>\n",
       "    </tr>\n",
       "    <tr>\n",
       "      <th>3</th>\n",
       "      <td>4</td>\n",
       "      <td>1.1.7</td>\n",
       "      <td>τὸ δὲ Ἄργος τοῦτον τὸν χρόνον προεῖχε ἅπασι τῶ...</td>\n",
       "      <td>ὁ δέ Ἄργος οὗτος ὁ χρόνος προέχω ἅπας ὁ ἐν ὁ ν...</td>\n",
       "      <td>Herodotus (0016) - Histories (001).json</td>\n",
       "      <td>Herodotus</td>\n",
       "      <td>Histories</td>\n",
       "    </tr>\n",
       "    <tr>\n",
       "      <th>4</th>\n",
       "      <td>5</td>\n",
       "      <td>1.1.9</td>\n",
       "      <td>ἀπικομένους δὲ τούς Φοίνικας ἐς δὴ τὸ Ἄργος το...</td>\n",
       "      <td>ἀφικνέομαι δέ ὁ Φοῖνιξ εἰς δή ὁ Ἄργος οὗτος δι...</td>\n",
       "      <td>Herodotus (0016) - Histories (001).json</td>\n",
       "      <td>Herodotus</td>\n",
       "      <td>Histories</td>\n",
       "    </tr>\n",
       "  </tbody>\n",
       "</table>\n",
       "</div>"
      ],
      "text/plain": [
       "  sent_id location                                              forms  \\\n",
       "0       1    1.t.1  Ἡροδότου Ἁλικαρνησσέος ἱστορίης ἀπόδεξις ἥδε ,...   \n",
       "1       2    1.1.1  Περσέων μέν νυν οἱ λόγιοι Φοίνικας αἰτίους φασ...   \n",
       "2       3    1.1.2  τούτους γὰρ ἀπὸ τῆς Ἐρυθρῆς καλεομένης θαλάσση...   \n",
       "3       4    1.1.7  τὸ δὲ Ἄργος τοῦτον τὸν χρόνον προεῖχε ἅπασι τῶ...   \n",
       "4       5    1.1.9  ἀπικομένους δὲ τούς Φοίνικας ἐς δὴ τὸ Ἄργος το...   \n",
       "\n",
       "                                             lemmata  \\\n",
       "0  Ἡρόδοτος Ἁλικαρνησσεύς ἱστορία ἀπόδεξις ὅδε ὡς...   \n",
       "1  Πέρσευς μέν νῦν ὁ λόγιος Φοῖνιξ αἴτιος φημί γί...   \n",
       "2  οὗτος γάρ ἀπό ὁ Ἐρυθραί καλέω θάλασσα ἀφικνέομ...   \n",
       "3  ὁ δέ Ἄργος οὗτος ὁ χρόνος προέχω ἅπας ὁ ἐν ὁ ν...   \n",
       "4  ἀφικνέομαι δέ ὁ Φοῖνιξ εἰς δή ὁ Ἄργος οὗτος δι...   \n",
       "\n",
       "                                      file     author       text  \n",
       "0  Herodotus (0016) - Histories (001).json  Herodotus  Histories  \n",
       "1  Herodotus (0016) - Histories (001).json  Herodotus  Histories  \n",
       "2  Herodotus (0016) - Histories (001).json  Herodotus  Histories  \n",
       "3  Herodotus (0016) - Histories (001).json  Herodotus  Histories  \n",
       "4  Herodotus (0016) - Histories (001).json  Herodotus  Histories  "
      ]
     },
     "execution_count": 93,
     "metadata": {},
     "output_type": "execute_result"
    }
   ],
   "source": [
    "df_sents.head()"
   ]
  },
  {
   "cell_type": "markdown",
   "id": "9fcb04bd",
   "metadata": {},
   "source": [
    "## Anotando Gênero"
   ]
  },
  {
   "cell_type": "code",
   "execution_count": 94,
   "id": "465542a6",
   "metadata": {},
   "outputs": [],
   "source": [
    "hist = [\n",
    "    \"Herodotus (0016) - Histories (001).json\",\n",
    "    \"Thucydides (0003) - History (001).json\",\n",
    "    \"Xenophon (0032) - Hellenica (001).json\",\n",
    "    \"Xenophon (0032) - Cyropaedia (007).json\",\n",
    "    \"Xenophon (0032) - Anabasis (006).json\",\n",
    "]"
   ]
  },
  {
   "cell_type": "code",
   "execution_count": 95,
   "id": "1274cd1a",
   "metadata": {},
   "outputs": [],
   "source": [
    "# Deve haver uma maneira menos rocambolesca para resolver isso\n",
    "df_tokens['genero'] = np.nan\n",
    "df_tokens.loc[df_tokens.file.isin(hist), 'genero'] = \"hist\"\n",
    "df_tokens.genero.fillna(\"filo\", inplace=True)\n",
    "df_sents['genero'] = np.nan\n",
    "df_sents.loc[df_sents.file.isin(hist), 'genero'] = \"hist\"\n",
    "df_sents.genero.fillna(\"filo\", inplace=True)"
   ]
  },
  {
   "cell_type": "markdown",
   "id": "b9345ae6",
   "metadata": {},
   "source": [
    "Para meu modelo funcionar, será necessário ter uma quantidade relativamente equilibrada de dados entre autores de prosa historiográfica e prosa filosófica, a seleção parece razoável.\n",
    "Qualquer tentativa de aumentar os dados de historiografia forçaria aumentar o escopo temporal (o próximo autor seria Políbio, já do período helenístico).\n",
    "Nota-se que a diferença aumenta quando tratamos de sentenças e não de tokens, indicando que as sentenças em textos historiográficos devem ser um pouco mais longas na média."
   ]
  },
  {
   "cell_type": "code",
   "execution_count": 96,
   "id": "ba94d233",
   "metadata": {},
   "outputs": [
    {
     "data": {
      "text/plain": [
       "<AxesSubplot:>"
      ]
     },
     "execution_count": 96,
     "metadata": {},
     "output_type": "execute_result"
    },
    {
     "data": {
      "image/png": "[encoded data removed]",
      "text/plain": [
       "<Figure size 1440x360 with 1 Axes>"
      ]
     },
     "metadata": {
      "needs_background": "light"
     },
     "output_type": "display_data"
    }
   ],
   "source": [
    "df_tokens.genero.value_counts().plot(kind='bar')"
   ]
  },
  {
   "cell_type": "code",
   "execution_count": 97,
   "id": "d60e2197",
   "metadata": {},
   "outputs": [
    {
     "data": {
      "text/plain": [
       "<AxesSubplot:>"
      ]
     },
     "execution_count": 97,
     "metadata": {},
     "output_type": "execute_result"
    },
    {
     "data": {
      "image/png": "[encoded data removed]",
      "text/plain": [
       "<Figure size 1440x360 with 1 Axes>"
      ]
     },
     "metadata": {
      "needs_background": "light"
     },
     "output_type": "display_data"
    }
   ],
   "source": [
    "df_sents.genero.value_counts().plot(kind='bar')"
   ]
  },
  {
   "cell_type": "markdown",
   "id": "89c2662e",
   "metadata": {},
   "source": [
    "## Verbos por gênero (dataframe de tokens)"
   ]
  },
  {
   "cell_type": "code",
   "execution_count": 98,
   "id": "dbaac71c",
   "metadata": {},
   "outputs": [
    {
     "data": {
      "text/html": [
       "<div>\n",
       "<style scoped>\n",
       "    .dataframe tbody tr th:only-of-type {\n",
       "        vertical-align: middle;\n",
       "    }\n",
       "\n",
       "    .dataframe tbody tr th {\n",
       "        vertical-align: top;\n",
       "    }\n",
       "\n",
       "    .dataframe thead th {\n",
       "        text-align: right;\n",
       "    }\n",
       "</style>\n",
       "<table border=\"1\" class=\"dataframe\">\n",
       "  <thead>\n",
       "    <tr style=\"text-align: right;\">\n",
       "      <th></th>\n",
       "      <th>sent_id</th>\n",
       "      <th>location</th>\n",
       "      <th>form</th>\n",
       "      <th>lemma</th>\n",
       "      <th>POS</th>\n",
       "      <th>analyses</th>\n",
       "      <th>id</th>\n",
       "      <th>file</th>\n",
       "      <th>author</th>\n",
       "      <th>text</th>\n",
       "      <th>genero</th>\n",
       "    </tr>\n",
       "  </thead>\n",
       "  <tbody>\n",
       "    <tr>\n",
       "      <th>30</th>\n",
       "      <td>1</td>\n",
       "      <td>1.t.1</td>\n",
       "      <td>ἀποδεχθέντα</td>\n",
       "      <td>ἀποδέχομαι</td>\n",
       "      <td>verb</td>\n",
       "      <td>aor part pass neut nom/voc/acc pl;aor part pas...</td>\n",
       "      <td>28</td>\n",
       "      <td>Herodotus (0016) - Histories (001).json</td>\n",
       "      <td>Herodotus</td>\n",
       "      <td>Histories</td>\n",
       "      <td>hist</td>\n",
       "    </tr>\n",
       "    <tr>\n",
       "      <th>42</th>\n",
       "      <td>1</td>\n",
       "      <td>1.t.1</td>\n",
       "      <td>ἐπολέμησαν</td>\n",
       "      <td>πολεμέω</td>\n",
       "      <td>verb</td>\n",
       "      <td>aor ind act 3rd pl</td>\n",
       "      <td>38</td>\n",
       "      <td>Herodotus (0016) - Histories (001).json</td>\n",
       "      <td>Herodotus</td>\n",
       "      <td>Histories</td>\n",
       "      <td>hist</td>\n",
       "    </tr>\n",
       "    <tr>\n",
       "      <th>62</th>\n",
       "      <td>3</td>\n",
       "      <td>1.1.2</td>\n",
       "      <td>καλεομένης</td>\n",
       "      <td>καλέω</td>\n",
       "      <td>verb</td>\n",
       "      <td>fut part mid fem gen sg (attic epic ionic);pre...</td>\n",
       "      <td>6</td>\n",
       "      <td>Herodotus (0016) - Histories (001).json</td>\n",
       "      <td>Herodotus</td>\n",
       "      <td>Histories</td>\n",
       "      <td>hist</td>\n",
       "    </tr>\n",
       "    <tr>\n",
       "      <th>64</th>\n",
       "      <td>3</td>\n",
       "      <td>1.1.2</td>\n",
       "      <td>ἀπικομένους</td>\n",
       "      <td>ἀφικνέομαι</td>\n",
       "      <td>verb</td>\n",
       "      <td>aor part mid masc acc pl (ionic)</td>\n",
       "      <td>8</td>\n",
       "      <td>Herodotus (0016) - Histories (001).json</td>\n",
       "      <td>Herodotus</td>\n",
       "      <td>Histories</td>\n",
       "      <td>hist</td>\n",
       "    </tr>\n",
       "    <tr>\n",
       "      <th>71</th>\n",
       "      <td>3</td>\n",
       "      <td>1.1.2</td>\n",
       "      <td>οἰκήσαντας</td>\n",
       "      <td>οἰκέω</td>\n",
       "      <td>verb</td>\n",
       "      <td>aor part act masc acc pl</td>\n",
       "      <td>14</td>\n",
       "      <td>Herodotus (0016) - Histories (001).json</td>\n",
       "      <td>Herodotus</td>\n",
       "      <td>Histories</td>\n",
       "      <td>hist</td>\n",
       "    </tr>\n",
       "  </tbody>\n",
       "</table>\n",
       "</div>"
      ],
      "text/plain": [
       "   sent_id location         form       lemma   POS  \\\n",
       "30       1    1.t.1  ἀποδεχθέντα  ἀποδέχομαι  verb   \n",
       "42       1    1.t.1   ἐπολέμησαν     πολεμέω  verb   \n",
       "62       3    1.1.2   καλεομένης       καλέω  verb   \n",
       "64       3    1.1.2  ἀπικομένους  ἀφικνέομαι  verb   \n",
       "71       3    1.1.2   οἰκήσαντας       οἰκέω  verb   \n",
       "\n",
       "                                             analyses  id  \\\n",
       "30  aor part pass neut nom/voc/acc pl;aor part pas...  28   \n",
       "42                                 aor ind act 3rd pl  38   \n",
       "62  fut part mid fem gen sg (attic epic ionic);pre...   6   \n",
       "64                   aor part mid masc acc pl (ionic)   8   \n",
       "71                           aor part act masc acc pl  14   \n",
       "\n",
       "                                       file     author       text genero  \n",
       "30  Herodotus (0016) - Histories (001).json  Herodotus  Histories   hist  \n",
       "42  Herodotus (0016) - Histories (001).json  Herodotus  Histories   hist  \n",
       "62  Herodotus (0016) - Histories (001).json  Herodotus  Histories   hist  \n",
       "64  Herodotus (0016) - Histories (001).json  Herodotus  Histories   hist  \n",
       "71  Herodotus (0016) - Histories (001).json  Herodotus  Histories   hist  "
      ]
     },
     "execution_count": 98,
     "metadata": {},
     "output_type": "execute_result"
    }
   ],
   "source": [
    "df_verbos = df_tokens.loc[(df_tokens.POS == \"verb\") & (-df_tokens.lemma.isin(STOPS_LIST)),]\n",
    "df_verbos.head()"
   ]
  },
  {
   "cell_type": "markdown",
   "id": "d809da9c",
   "metadata": {},
   "source": [
    "A filtragem não causa mudança na proporção entre documentos de historiografia e filosofia."
   ]
  },
  {
   "cell_type": "code",
   "execution_count": 99,
   "id": "cd20f024",
   "metadata": {},
   "outputs": [
    {
     "data": {
      "text/plain": [
       "<AxesSubplot:>"
      ]
     },
     "execution_count": 99,
     "metadata": {},
     "output_type": "execute_result"
    },
    {
     "data": {
      "image/png": "[encoded data removed]",
      "text/plain": [
       "<Figure size 1440x360 with 1 Axes>"
      ]
     },
     "metadata": {
      "needs_background": "light"
     },
     "output_type": "display_data"
    }
   ],
   "source": [
    "df_verbos.genero.value_counts().plot(kind='bar')"
   ]
  },
  {
   "cell_type": "code",
   "execution_count": 100,
   "id": "9a191615",
   "metadata": {},
   "outputs": [
    {
     "data": {
      "text/plain": [
       "οἴομαι          1728\n",
       "οἶδα            1451\n",
       "φαίνω           1198\n",
       "βούλομαι        1163\n",
       "δεῖ             1017\n",
       "                ... \n",
       "ἀνακάμπτω          1\n",
       "μαλακίζομαι        1\n",
       "ἐναντιολογέω       1\n",
       "παρωνυμέω          1\n",
       "ἐφέζομαι           1\n",
       "Name: lemma, Length: 3652, dtype: int64"
      ]
     },
     "execution_count": 100,
     "metadata": {},
     "output_type": "execute_result"
    }
   ],
   "source": [
    "filo_verbos = df_verbos[df_verbos.genero == \"filo\"].lemma\n",
    "filo_verbos.value_counts()"
   ]
  },
  {
   "cell_type": "code",
   "execution_count": 101,
   "id": "ddb108ea",
   "metadata": {},
   "outputs": [
    {
     "data": {
      "text/plain": [
       "<AxesSubplot:ylabel='Density'>"
      ]
     },
     "execution_count": 101,
     "metadata": {},
     "output_type": "execute_result"
    },
    {
     "data": {
      "image/png": "[encoded data removed]",
      "text/plain": [
       "<Figure size 1440x360 with 1 Axes>"
      ]
     },
     "metadata": {
      "needs_background": "light"
     },
     "output_type": "display_data"
    }
   ],
   "source": [
    "filo_verbos.value_counts().plot(kind='density')"
   ]
  },
  {
   "cell_type": "code",
   "execution_count": 102,
   "id": "a3f219c4",
   "metadata": {},
   "outputs": [
    {
     "data": {
      "text/plain": [
       "βούλομαι        1177\n",
       "λαμβάνω          994\n",
       "ἀφικνέομαι       915\n",
       "ἔρχομαι          872\n",
       "πάρειμι          822\n",
       "                ... \n",
       "ἐπεικάζω           1\n",
       "ἀποκηδεύω          1\n",
       "πυκνόω             1\n",
       "καθιππάζομαι       1\n",
       "ἐξαυλίζομαι        1\n",
       "Name: lemma, Length: 4331, dtype: int64"
      ]
     },
     "execution_count": 102,
     "metadata": {},
     "output_type": "execute_result"
    }
   ],
   "source": [
    "hist_verbos = df_verbos[df_verbos.genero == \"hist\"].lemma\n",
    "hist_verbos.value_counts()"
   ]
  },
  {
   "cell_type": "code",
   "execution_count": 103,
   "id": "2b1abcaa",
   "metadata": {},
   "outputs": [
    {
     "data": {
      "text/plain": [
       "<AxesSubplot:ylabel='Density'>"
      ]
     },
     "execution_count": 103,
     "metadata": {},
     "output_type": "execute_result"
    },
    {
     "data": {
      "image/png": "[encoded data removed]",
      "text/plain": [
       "<Figure size 1440x360 with 1 Axes>"
      ]
     },
     "metadata": {
      "needs_background": "light"
     },
     "output_type": "display_data"
    }
   ],
   "source": [
    "hist_verbos.value_counts().plot(kind='density')"
   ]
  },
  {
   "cell_type": "markdown",
   "id": "2818a3cd",
   "metadata": {},
   "source": [
    "## Naive Bayes\n"
   ]
  },
  {
   "cell_type": "markdown",
   "id": "ce7ca279",
   "metadata": {},
   "source": [
    "### Apenas de tokens\n",
    "\n",
    "O resultado é terrível, provavelmente porque a implementação do modelo não é a melhor, afinal o `DOCUMENTO` e suas componentes são a mesma entidade."
   ]
  },
  {
   "cell_type": "code",
   "execution_count": 104,
   "id": "053263d7",
   "metadata": {},
   "outputs": [],
   "source": [
    "x, y = df_verbos.lemma, df_verbos.genero"
   ]
  },
  {
   "cell_type": "code",
   "execution_count": 105,
   "id": "4373a0b9",
   "metadata": {},
   "outputs": [],
   "source": [
    "\n",
    "x_treino, x_teste, y_treino, y_teste = train_test_split(x, y, test_size=0.20, random_state=42)\n",
    "\n",
    "filo = [x for x, y in zip(x_treino, y_treino) if y == 'filo']\n",
    "hist = [x for x, y in zip(x_treino, y_treino) if y == 'hist']"
   ]
  },
  {
   "cell_type": "code",
   "execution_count": 106,
   "id": "7999813e",
   "metadata": {},
   "outputs": [],
   "source": [
    "vocab_filo = Counter(filo)\n",
    "vocab_hist = Counter(hist)"
   ]
  },
  {
   "cell_type": "code",
   "execution_count": 107,
   "id": "3b5f2112",
   "metadata": {},
   "outputs": [],
   "source": [
    "n_filo = len(filo)\n",
    "n_hist = len(hist)\n",
    "n = n_filo + n_hist\n",
    "p_filo = np.log2(n_filo / n)\n",
    "p_hist = np.log2(n_hist / n)"
   ]
  },
  {
   "cell_type": "code",
   "execution_count": 108,
   "id": "23f289c4",
   "metadata": {},
   "outputs": [],
   "source": [
    "n_vocab_filo = len(vocab_filo)\n",
    "n_vocab_hist = len(vocab_hist)"
   ]
  },
  {
   "cell_type": "code",
   "execution_count": 109,
   "id": "1a13fafe",
   "metadata": {},
   "outputs": [],
   "source": [
    "def bayes(texto):\n",
    "    \n",
    "    texto_filo = [x for x in texto if x in vocab_filo.keys()]\n",
    "    c_doc_filo = Counter(texto_filo)\n",
    "    texto_hist = [x for x in texto if x in vocab_hist.keys()]\n",
    "    c_doc_hist = Counter(texto_hist)\n",
    "    \n",
    "    pf_filo = sum([np.log2((c_doc_filo[token] + 1) / n_vocab_filo + len(texto_filo)) for token in texto_filo])\n",
    "    pf_hist = sum([np.log2((c_doc_hist[token] + 1) / n_vocab_hist + len(texto_hist)) for token in texto_hist])\n",
    "\n",
    "    \n",
    "    prob_filo = p_filo + pf_filo\n",
    "    prob_hist = p_hist + pf_hist\n",
    "\n",
    "\n",
    "    return prob_filo, prob_hist"
   ]
  },
  {
   "cell_type": "code",
   "execution_count": 110,
   "id": "fc32afa8",
   "metadata": {},
   "outputs": [],
   "source": [
    "teste_pred_labels = []\n",
    "for t in x_teste:\n",
    "    prob_filo, prob_hist = bayes(t)\n",
    "    if prob_filo >= prob_hist:\n",
    "        teste_pred_labels.append(\"filo\")\n",
    "    else:\n",
    "        teste_pred_labels.append(\"hist\")"
   ]
  },
  {
   "cell_type": "code",
   "execution_count": 111,
   "id": "eae397a0",
   "metadata": {},
   "outputs": [],
   "source": [
    "teste_orig_labels = [x for x in y_teste]\n",
    "\n",
    "performance_labels = []\n",
    "\n",
    "for pred, label in zip(teste_pred_labels, teste_orig_labels):\n",
    "    if label == \"filo\" and pred == \"filo\":\n",
    "        performance_labels.append(\"VP\")\n",
    "    elif label == \"filo\" and pred == \"hist\":\n",
    "        performance_labels.append(\"FP\")\n",
    "    elif label == \"hist\" and pred == \"hist\":\n",
    "        performance_labels.append(\"VN\")\n",
    "    else:\n",
    "        performance_labels.append(\"FN\")\n",
    "        \n",
    "perf_counter = Counter(performance_labels)"
   ]
  },
  {
   "cell_type": "code",
   "execution_count": 112,
   "id": "c19238d6",
   "metadata": {},
   "outputs": [
    {
     "data": {
      "text/plain": [
       "Counter({'VN': 17311, 'FP': 16684})"
      ]
     },
     "execution_count": 112,
     "metadata": {},
     "output_type": "execute_result"
    }
   ],
   "source": [
    "perf_counter"
   ]
  },
  {
   "cell_type": "markdown",
   "id": "17caded2",
   "metadata": {},
   "source": [
    "### Com sentenças"
   ]
  },
  {
   "cell_type": "markdown",
   "id": "d4057211",
   "metadata": {},
   "source": [
    "O modelo assim performa melhor, mas é pouco específico para os meus interesses: que o vocabulário da prosa filosófica e historiográfica são distintos diz pouco sobre sua seleção de verbos."
   ]
  },
  {
   "cell_type": "code",
   "execution_count": 113,
   "id": "2fad0cc4",
   "metadata": {},
   "outputs": [],
   "source": [
    "def achatar(lista):\n",
    "    return list(itertools.chain(*lista))\n",
    "\n",
    "df_sents['lst_lemmata'] = df_sents.lemmata.str.split()\n",
    "df_sents.dropna(inplace=True)"
   ]
  },
  {
   "cell_type": "code",
   "execution_count": 114,
   "id": "cee2b7db",
   "metadata": {},
   "outputs": [],
   "source": [
    "x, y = df_sents.lst_lemmata, df_sents.genero\n",
    "\n",
    "x_treino, x_teste, y_treino, y_teste = train_test_split(x, y, test_size=0.20, random_state=42)"
   ]
  },
  {
   "cell_type": "code",
   "execution_count": 115,
   "id": "e0f583d5",
   "metadata": {},
   "outputs": [],
   "source": [
    "filo = [x for x, y in zip(x_treino, y_treino) if y == 'filo']\n",
    "hist = [x for x, y in zip(x_treino, y_treino) if y == 'hist']\n",
    "\n",
    "vocab_filo = Counter([x for x in achatar(filo)])\n",
    "vocab_hist = Counter([x for x in achatar(hist)])\n",
    "\n",
    "n_filo = len(filo)\n",
    "n_hist = len(hist)\n",
    "n = n_filo + n_hist\n",
    "p_filo = np.log2(n_filo / n)\n",
    "p_hist = np.log2(n_hist / n)\n",
    "\n",
    "n_vocab_filo = len(vocab_filo)\n",
    "n_vocab_hist = len(vocab_hist)"
   ]
  },
  {
   "cell_type": "code",
   "execution_count": 116,
   "id": "da415516",
   "metadata": {},
   "outputs": [],
   "source": [
    "def bayes(texto):\n",
    "    \n",
    "    texto_filo = [x for x in texto if x in vocab_filo.keys()]\n",
    "    c_doc_filo = Counter(texto_filo)\n",
    "    texto_hist = [x for x in texto if x in vocab_hist.keys()]\n",
    "    c_doc_hist = Counter(texto_hist)\n",
    "    \n",
    "    pf_filo = sum([np.log2((c_doc_filo[token] + 1) / n_vocab_filo + len(texto_filo)) for token in texto_filo])\n",
    "    pf_hist = sum([np.log2((c_doc_hist[token] + 1) / n_vocab_hist + len(texto_hist)) for token in texto_hist])\n",
    "\n",
    "    \n",
    "    prob_filo = p_filo + pf_filo\n",
    "    prob_hist = p_hist + pf_hist\n",
    "\n",
    "\n",
    "    return prob_filo, prob_hist"
   ]
  },
  {
   "cell_type": "code",
   "execution_count": 117,
   "id": "f3bb3edf",
   "metadata": {},
   "outputs": [],
   "source": [
    "teste_pred_labels = []\n",
    "for t in x_teste:\n",
    "    prob_filo, prob_hist = bayes(t)\n",
    "    if prob_filo >= prob_hist:\n",
    "        teste_pred_labels.append(\"filo\")\n",
    "    else:\n",
    "        teste_pred_labels.append(\"hist\")\n",
    "\n",
    "teste_orig_labels = [x for x in y_teste]"
   ]
  },
  {
   "cell_type": "code",
   "execution_count": 118,
   "id": "892cc029",
   "metadata": {},
   "outputs": [],
   "source": [
    "performance_labels = []\n",
    "\n",
    "for pred, label in zip(teste_pred_labels, teste_orig_labels):\n",
    "    if label == \"filo\" and pred == \"filo\":\n",
    "        performance_labels.append(\"VP\")\n",
    "    elif label == \"filo\" and pred == \"hist\":\n",
    "        performance_labels.append(\"FP\")\n",
    "    elif label == \"hist\" and pred == \"hist\":\n",
    "        performance_labels.append(\"VN\")\n",
    "    else:\n",
    "        performance_labels.append(\"FN\")"
   ]
  },
  {
   "cell_type": "code",
   "execution_count": 119,
   "id": "84044977",
   "metadata": {},
   "outputs": [
    {
     "data": {
      "text/plain": [
       "Counter({'VN': 2716, 'VP': 8261, 'FN': 2943, 'FP': 157})"
      ]
     },
     "execution_count": 119,
     "metadata": {},
     "output_type": "execute_result"
    }
   ],
   "source": [
    "perf_counter = Counter(performance_labels)\n",
    "\n",
    "perf_counter"
   ]
  },
  {
   "cell_type": "code",
   "execution_count": 120,
   "id": "2ee2bc02",
   "metadata": {},
   "outputs": [
    {
     "name": "stdout",
     "output_type": "stream",
     "text": [
      "Precisão:  0.9813494891898313\n",
      "Cobertura: 0.7373259550160657\n",
      "Acurácia:  0.779782624138666\n",
      "Medida F:  0.8420140658444601\n"
     ]
    }
   ],
   "source": [
    "precisao = perf_counter['VP'] / (perf_counter['VP'] + perf_counter['FP'])\n",
    "cobertura = perf_counter['VP'] / (perf_counter['VP'] + perf_counter['FN'])\n",
    "acuracia = (perf_counter['VP'] + perf_counter['VN']) / len(performance_labels)\n",
    "medida_f = 2 * (precisao * cobertura) / (precisao + cobertura)\n",
    "\n",
    "print(f'Precisão:  {precisao}')\n",
    "print(f'Cobertura: {cobertura}')\n",
    "print(f'Acurácia:  {acuracia}')\n",
    "print(f'Medida F:  {medida_f}')"
   ]
  },
  {
   "cell_type": "markdown",
   "id": "bf809963",
   "metadata": {},
   "source": [
    "# Conclusões\n",
    "\n",
    "- O banco de dados anotado Diorisis oferece as anotações necessárias e é relativamente fácil de processar.\n",
    "- O corpus proposto oferece um número relativamente equilibrado de dados para as categorias a serem classificadas e o algoritmo de processamento permite que ele seja expandido conforme necessário.\n",
    "- Será importante revisar a suavização utilizada (no caso Laplace) para poder obter um modelo funcional se for utilizado um modelo como o Naive Bayes apenas com os verbos, embora a princípio já seja possível afirmar que esse modelo não funcionará bem assim.\n",
    "- Se for possível codificar a informação de `df_sents.lst_lemmata` selecionar os verbos principais (utilizando o dependency parser do `stanza-perseus`), os resultados poderão ser mais consistentes com aqueles que são de meu interesse."
   ]
  },
  {
   "cell_type": "markdown",
   "id": "c1f29e24",
   "metadata": {},
   "source": [
    "# Outra abordagem\n",
    "\n",
    "Testando os exemplos por meio de agrupamento em parágrafos:"
   ]
  },
  {
   "cell_type": "code",
   "execution_count": 121,
   "id": "8c444a0a",
   "metadata": {},
   "outputs": [],
   "source": [
    "df_tokens[['div_sup', 'par']] = df_tokens.location.str.split('.', n=1, expand=True)"
   ]
  },
  {
   "cell_type": "code",
   "execution_count": 122,
   "id": "79791cb8",
   "metadata": {},
   "outputs": [],
   "source": [
    "df_tokens.dropna(inplace=True)"
   ]
  },
  {
   "cell_type": "code",
   "execution_count": 123,
   "id": "993ca84e",
   "metadata": {},
   "outputs": [],
   "source": [
    "j = df_tokens.groupby(['author', 'text', 'file','div_sup', 'par', 'genero']).agg({\n",
    "    'lemma': lambda x: \" \".join(x),\n",
    "})"
   ]
  },
  {
   "cell_type": "code",
   "execution_count": 124,
   "id": "81e6d63b",
   "metadata": {},
   "outputs": [],
   "source": [
    "df_tokens_par = j.reset_index()"
   ]
  },
  {
   "cell_type": "code",
   "execution_count": 125,
   "id": "7255b3c7",
   "metadata": {},
   "outputs": [
    {
     "data": {
      "text/html": [
       "<div>\n",
       "<style scoped>\n",
       "    .dataframe tbody tr th:only-of-type {\n",
       "        vertical-align: middle;\n",
       "    }\n",
       "\n",
       "    .dataframe tbody tr th {\n",
       "        vertical-align: top;\n",
       "    }\n",
       "\n",
       "    .dataframe thead th {\n",
       "        text-align: right;\n",
       "    }\n",
       "</style>\n",
       "<table border=\"1\" class=\"dataframe\">\n",
       "  <thead>\n",
       "    <tr style=\"text-align: right;\">\n",
       "      <th></th>\n",
       "      <th>author</th>\n",
       "      <th>text</th>\n",
       "      <th>file</th>\n",
       "      <th>div_sup</th>\n",
       "      <th>par</th>\n",
       "      <th>genero</th>\n",
       "      <th>lemma</th>\n",
       "    </tr>\n",
       "  </thead>\n",
       "  <tbody>\n",
       "    <tr>\n",
       "      <th>0</th>\n",
       "      <td>Herodotus</td>\n",
       "      <td>Histories</td>\n",
       "      <td>Herodotus (0016) - Histories (001).json</td>\n",
       "      <td>1</td>\n",
       "      <td>1.1</td>\n",
       "      <td>hist</td>\n",
       "      <td>Πέρσευς μέν νῦν ὁ λόγιος Φοῖνιξ αἴτιος φημί γί...</td>\n",
       "    </tr>\n",
       "    <tr>\n",
       "      <th>1</th>\n",
       "      <td>Herodotus</td>\n",
       "      <td>Histories</td>\n",
       "      <td>Herodotus (0016) - Histories (001).json</td>\n",
       "      <td>1</td>\n",
       "      <td>1.13</td>\n",
       "      <td>hist</td>\n",
       "      <td>ὁ δέ ὁ ὄνομα εἰμί , κατά αὐτός ὁ καί Ἕλλην λέγ...</td>\n",
       "    </tr>\n",
       "    <tr>\n",
       "      <th>2</th>\n",
       "      <td>Herodotus</td>\n",
       "      <td>Histories</td>\n",
       "      <td>Herodotus (0016) - Histories (001).json</td>\n",
       "      <td>1</td>\n",
       "      <td>1.14</td>\n",
       "      <td>hist</td>\n",
       "      <td>οὗτος ἵστημι κατά πρύμνα ὁ ναῦς ὠνέομαι ὁ φορτ...</td>\n",
       "    </tr>\n",
       "    <tr>\n",
       "      <th>3</th>\n",
       "      <td>Herodotus</td>\n",
       "      <td>Histories</td>\n",
       "      <td>Herodotus (0016) - Histories (001).json</td>\n",
       "      <td>1</td>\n",
       "      <td>1.17</td>\n",
       "      <td>hist</td>\n",
       "      <td>ὁ μέν δή πλείων ὁ γυνή ἀποφεύγω , ὁ δέ Ἰώ σύν ...</td>\n",
       "    </tr>\n",
       "    <tr>\n",
       "      <th>4</th>\n",
       "      <td>Herodotus</td>\n",
       "      <td>Histories</td>\n",
       "      <td>Herodotus (0016) - Histories (001).json</td>\n",
       "      <td>1</td>\n",
       "      <td>1.19</td>\n",
       "      <td>hist</td>\n",
       "      <td>εἰσβάλλω δέ εἰς ὁ ναῦς οἴχομαι ἀποπλέω ἐπί Αἴγ...</td>\n",
       "    </tr>\n",
       "    <tr>\n",
       "      <th>...</th>\n",
       "      <td>...</td>\n",
       "      <td>...</td>\n",
       "      <td>...</td>\n",
       "      <td>...</td>\n",
       "      <td>...</td>\n",
       "      <td>...</td>\n",
       "      <td>...</td>\n",
       "    </tr>\n",
       "    <tr>\n",
       "      <th>56301</th>\n",
       "      <td>Xenophon</td>\n",
       "      <td>Symposium</td>\n",
       "      <td>Xenophon (0032) - Symposium (004).json</td>\n",
       "      <td>9</td>\n",
       "      <td>6.1</td>\n",
       "      <td>filo</td>\n",
       "      <td>ἄν ; καί γάρ ἀκούω ὁ Διόνυσος μέν ἐπερωτάω αὐτ...</td>\n",
       "    </tr>\n",
       "    <tr>\n",
       "      <th>56302</th>\n",
       "      <td>Xenophon</td>\n",
       "      <td>Symposium</td>\n",
       "      <td>Xenophon (0032) - Symposium (004).json</td>\n",
       "      <td>9</td>\n",
       "      <td>6.5</td>\n",
       "      <td>filo</td>\n",
       "      <td>ἔοικα γάρ οὐ διδάσκω ὁ σχῆμα ἀλλά ἐφέζομαι πρά...</td>\n",
       "    </tr>\n",
       "    <tr>\n",
       "      <th>56303</th>\n",
       "      <td>Xenophon</td>\n",
       "      <td>Symposium</td>\n",
       "      <td>Xenophon (0032) - Symposium (004).json</td>\n",
       "      <td>9</td>\n",
       "      <td>7.1</td>\n",
       "      <td>filo</td>\n",
       "      <td>τέλος δέ ὁ συμπότης εἶδον περιβάλλω τε ἀλλήλων...</td>\n",
       "    </tr>\n",
       "    <tr>\n",
       "      <th>56304</th>\n",
       "      <td>Xenophon</td>\n",
       "      <td>Symposium</td>\n",
       "      <td>Xenophon (0032) - Symposium (004).json</td>\n",
       "      <td>9</td>\n",
       "      <td>7.4</td>\n",
       "      <td>filo</td>\n",
       "      <td>Σωκράτης δέ καί ὁ ἄλλος ὁ ὑπομένω πρός Λύκων κ...</td>\n",
       "    </tr>\n",
       "    <tr>\n",
       "      <th>56305</th>\n",
       "      <td>Xenophon</td>\n",
       "      <td>Symposium</td>\n",
       "      <td>Xenophon (0032) - Symposium (004).json</td>\n",
       "      <td>9</td>\n",
       "      <td>7.6</td>\n",
       "      <td>filo</td>\n",
       "      <td>οὗτος ὁ τότε συμπόσιον κατάλυσις γίγνομαι .</td>\n",
       "    </tr>\n",
       "  </tbody>\n",
       "</table>\n",
       "<p>56306 rows × 7 columns</p>\n",
       "</div>"
      ],
      "text/plain": [
       "          author       text                                     file div_sup  \\\n",
       "0      Herodotus  Histories  Herodotus (0016) - Histories (001).json       1   \n",
       "1      Herodotus  Histories  Herodotus (0016) - Histories (001).json       1   \n",
       "2      Herodotus  Histories  Herodotus (0016) - Histories (001).json       1   \n",
       "3      Herodotus  Histories  Herodotus (0016) - Histories (001).json       1   \n",
       "4      Herodotus  Histories  Herodotus (0016) - Histories (001).json       1   \n",
       "...          ...        ...                                      ...     ...   \n",
       "56301   Xenophon  Symposium   Xenophon (0032) - Symposium (004).json       9   \n",
       "56302   Xenophon  Symposium   Xenophon (0032) - Symposium (004).json       9   \n",
       "56303   Xenophon  Symposium   Xenophon (0032) - Symposium (004).json       9   \n",
       "56304   Xenophon  Symposium   Xenophon (0032) - Symposium (004).json       9   \n",
       "56305   Xenophon  Symposium   Xenophon (0032) - Symposium (004).json       9   \n",
       "\n",
       "        par genero                                              lemma  \n",
       "0       1.1   hist  Πέρσευς μέν νῦν ὁ λόγιος Φοῖνιξ αἴτιος φημί γί...  \n",
       "1      1.13   hist  ὁ δέ ὁ ὄνομα εἰμί , κατά αὐτός ὁ καί Ἕλλην λέγ...  \n",
       "2      1.14   hist  οὗτος ἵστημι κατά πρύμνα ὁ ναῦς ὠνέομαι ὁ φορτ...  \n",
       "3      1.17   hist  ὁ μέν δή πλείων ὁ γυνή ἀποφεύγω , ὁ δέ Ἰώ σύν ...  \n",
       "4      1.19   hist  εἰσβάλλω δέ εἰς ὁ ναῦς οἴχομαι ἀποπλέω ἐπί Αἴγ...  \n",
       "...     ...    ...                                                ...  \n",
       "56301   6.1   filo  ἄν ; καί γάρ ἀκούω ὁ Διόνυσος μέν ἐπερωτάω αὐτ...  \n",
       "56302   6.5   filo  ἔοικα γάρ οὐ διδάσκω ὁ σχῆμα ἀλλά ἐφέζομαι πρά...  \n",
       "56303   7.1   filo  τέλος δέ ὁ συμπότης εἶδον περιβάλλω τε ἀλλήλων...  \n",
       "56304   7.4   filo  Σωκράτης δέ καί ὁ ἄλλος ὁ ὑπομένω πρός Λύκων κ...  \n",
       "56305   7.6   filo        οὗτος ὁ τότε συμπόσιον κατάλυσις γίγνομαι .  \n",
       "\n",
       "[56306 rows x 7 columns]"
      ]
     },
     "execution_count": 125,
     "metadata": {},
     "output_type": "execute_result"
    }
   ],
   "source": [
    "df_tokens_par"
   ]
  },
  {
   "cell_type": "code",
   "execution_count": 126,
   "id": "99f908a1",
   "metadata": {},
   "outputs": [
    {
     "data": {
      "text/plain": [
       "<AxesSubplot:>"
      ]
     },
     "execution_count": 126,
     "metadata": {},
     "output_type": "execute_result"
    },
    {
     "data": {
      "image/png": "[encoded data removed]",
      "text/plain": [
       "<Figure size 1440x360 with 1 Axes>"
      ]
     },
     "metadata": {
      "needs_background": "light"
     },
     "output_type": "display_data"
    }
   ],
   "source": [
    "df_tokens_par.lemma.apply(len).hist(grid=True, bins=100)"
   ]
  },
  {
   "cell_type": "code",
   "execution_count": 127,
   "id": "9f9db7a9",
   "metadata": {},
   "outputs": [],
   "source": [
    "minimo, maximo = df_tokens_par.lemma.apply(len).quantile([.05, .95]).values\n",
    "tamanho_representativo = (df_tokens_par.lemma.apply(len) > minimo) & (df_tokens_par.lemma.apply(len) < maximo)"
   ]
  },
  {
   "cell_type": "code",
   "execution_count": 128,
   "id": "f3f62b0d",
   "metadata": {
    "scrolled": true
   },
   "outputs": [
    {
     "data": {
      "text/html": [
       "<div>\n",
       "<style scoped>\n",
       "    .dataframe tbody tr th:only-of-type {\n",
       "        vertical-align: middle;\n",
       "    }\n",
       "\n",
       "    .dataframe tbody tr th {\n",
       "        vertical-align: top;\n",
       "    }\n",
       "\n",
       "    .dataframe thead th {\n",
       "        text-align: right;\n",
       "    }\n",
       "</style>\n",
       "<table border=\"1\" class=\"dataframe\">\n",
       "  <thead>\n",
       "    <tr style=\"text-align: right;\">\n",
       "      <th></th>\n",
       "      <th>author</th>\n",
       "      <th>text</th>\n",
       "      <th>file</th>\n",
       "      <th>div_sup</th>\n",
       "      <th>par</th>\n",
       "      <th>genero</th>\n",
       "      <th>lemma</th>\n",
       "    </tr>\n",
       "  </thead>\n",
       "  <tbody>\n",
       "    <tr>\n",
       "      <th>0</th>\n",
       "      <td>Herodotus</td>\n",
       "      <td>Histories</td>\n",
       "      <td>Herodotus (0016) - Histories (001).json</td>\n",
       "      <td>1</td>\n",
       "      <td>1.1</td>\n",
       "      <td>hist</td>\n",
       "      <td>Πέρσευς μέν νῦν ὁ λόγιος Φοῖνιξ αἴτιος φημί γί...</td>\n",
       "    </tr>\n",
       "    <tr>\n",
       "      <th>1</th>\n",
       "      <td>Herodotus</td>\n",
       "      <td>Histories</td>\n",
       "      <td>Herodotus (0016) - Histories (001).json</td>\n",
       "      <td>1</td>\n",
       "      <td>1.13</td>\n",
       "      <td>hist</td>\n",
       "      <td>ὁ δέ ὁ ὄνομα εἰμί , κατά αὐτός ὁ καί Ἕλλην λέγ...</td>\n",
       "    </tr>\n",
       "    <tr>\n",
       "      <th>2</th>\n",
       "      <td>Herodotus</td>\n",
       "      <td>Histories</td>\n",
       "      <td>Herodotus (0016) - Histories (001).json</td>\n",
       "      <td>1</td>\n",
       "      <td>1.14</td>\n",
       "      <td>hist</td>\n",
       "      <td>οὗτος ἵστημι κατά πρύμνα ὁ ναῦς ὠνέομαι ὁ φορτ...</td>\n",
       "    </tr>\n",
       "    <tr>\n",
       "      <th>3</th>\n",
       "      <td>Herodotus</td>\n",
       "      <td>Histories</td>\n",
       "      <td>Herodotus (0016) - Histories (001).json</td>\n",
       "      <td>1</td>\n",
       "      <td>1.17</td>\n",
       "      <td>hist</td>\n",
       "      <td>ὁ μέν δή πλείων ὁ γυνή ἀποφεύγω , ὁ δέ Ἰώ σύν ...</td>\n",
       "    </tr>\n",
       "    <tr>\n",
       "      <th>4</th>\n",
       "      <td>Herodotus</td>\n",
       "      <td>Histories</td>\n",
       "      <td>Herodotus (0016) - Histories (001).json</td>\n",
       "      <td>1</td>\n",
       "      <td>1.19</td>\n",
       "      <td>hist</td>\n",
       "      <td>εἰσβάλλω δέ εἰς ὁ ναῦς οἴχομαι ἀποπλέω ἐπί Αἴγ...</td>\n",
       "    </tr>\n",
       "    <tr>\n",
       "      <th>...</th>\n",
       "      <td>...</td>\n",
       "      <td>...</td>\n",
       "      <td>...</td>\n",
       "      <td>...</td>\n",
       "      <td>...</td>\n",
       "      <td>...</td>\n",
       "      <td>...</td>\n",
       "    </tr>\n",
       "    <tr>\n",
       "      <th>56301</th>\n",
       "      <td>Xenophon</td>\n",
       "      <td>Symposium</td>\n",
       "      <td>Xenophon (0032) - Symposium (004).json</td>\n",
       "      <td>9</td>\n",
       "      <td>6.1</td>\n",
       "      <td>filo</td>\n",
       "      <td>ἄν ; καί γάρ ἀκούω ὁ Διόνυσος μέν ἐπερωτάω αὐτ...</td>\n",
       "    </tr>\n",
       "    <tr>\n",
       "      <th>56302</th>\n",
       "      <td>Xenophon</td>\n",
       "      <td>Symposium</td>\n",
       "      <td>Xenophon (0032) - Symposium (004).json</td>\n",
       "      <td>9</td>\n",
       "      <td>6.5</td>\n",
       "      <td>filo</td>\n",
       "      <td>ἔοικα γάρ οὐ διδάσκω ὁ σχῆμα ἀλλά ἐφέζομαι πρά...</td>\n",
       "    </tr>\n",
       "    <tr>\n",
       "      <th>56303</th>\n",
       "      <td>Xenophon</td>\n",
       "      <td>Symposium</td>\n",
       "      <td>Xenophon (0032) - Symposium (004).json</td>\n",
       "      <td>9</td>\n",
       "      <td>7.1</td>\n",
       "      <td>filo</td>\n",
       "      <td>τέλος δέ ὁ συμπότης εἶδον περιβάλλω τε ἀλλήλων...</td>\n",
       "    </tr>\n",
       "    <tr>\n",
       "      <th>56304</th>\n",
       "      <td>Xenophon</td>\n",
       "      <td>Symposium</td>\n",
       "      <td>Xenophon (0032) - Symposium (004).json</td>\n",
       "      <td>9</td>\n",
       "      <td>7.4</td>\n",
       "      <td>filo</td>\n",
       "      <td>Σωκράτης δέ καί ὁ ἄλλος ὁ ὑπομένω πρός Λύκων κ...</td>\n",
       "    </tr>\n",
       "    <tr>\n",
       "      <th>56305</th>\n",
       "      <td>Xenophon</td>\n",
       "      <td>Symposium</td>\n",
       "      <td>Xenophon (0032) - Symposium (004).json</td>\n",
       "      <td>9</td>\n",
       "      <td>7.6</td>\n",
       "      <td>filo</td>\n",
       "      <td>οὗτος ὁ τότε συμπόσιον κατάλυσις γίγνομαι .</td>\n",
       "    </tr>\n",
       "  </tbody>\n",
       "</table>\n",
       "<p>50596 rows × 7 columns</p>\n",
       "</div>"
      ],
      "text/plain": [
       "          author       text                                     file div_sup  \\\n",
       "0      Herodotus  Histories  Herodotus (0016) - Histories (001).json       1   \n",
       "1      Herodotus  Histories  Herodotus (0016) - Histories (001).json       1   \n",
       "2      Herodotus  Histories  Herodotus (0016) - Histories (001).json       1   \n",
       "3      Herodotus  Histories  Herodotus (0016) - Histories (001).json       1   \n",
       "4      Herodotus  Histories  Herodotus (0016) - Histories (001).json       1   \n",
       "...          ...        ...                                      ...     ...   \n",
       "56301   Xenophon  Symposium   Xenophon (0032) - Symposium (004).json       9   \n",
       "56302   Xenophon  Symposium   Xenophon (0032) - Symposium (004).json       9   \n",
       "56303   Xenophon  Symposium   Xenophon (0032) - Symposium (004).json       9   \n",
       "56304   Xenophon  Symposium   Xenophon (0032) - Symposium (004).json       9   \n",
       "56305   Xenophon  Symposium   Xenophon (0032) - Symposium (004).json       9   \n",
       "\n",
       "        par genero                                              lemma  \n",
       "0       1.1   hist  Πέρσευς μέν νῦν ὁ λόγιος Φοῖνιξ αἴτιος φημί γί...  \n",
       "1      1.13   hist  ὁ δέ ὁ ὄνομα εἰμί , κατά αὐτός ὁ καί Ἕλλην λέγ...  \n",
       "2      1.14   hist  οὗτος ἵστημι κατά πρύμνα ὁ ναῦς ὠνέομαι ὁ φορτ...  \n",
       "3      1.17   hist  ὁ μέν δή πλείων ὁ γυνή ἀποφεύγω , ὁ δέ Ἰώ σύν ...  \n",
       "4      1.19   hist  εἰσβάλλω δέ εἰς ὁ ναῦς οἴχομαι ἀποπλέω ἐπί Αἴγ...  \n",
       "...     ...    ...                                                ...  \n",
       "56301   6.1   filo  ἄν ; καί γάρ ἀκούω ὁ Διόνυσος μέν ἐπερωτάω αὐτ...  \n",
       "56302   6.5   filo  ἔοικα γάρ οὐ διδάσκω ὁ σχῆμα ἀλλά ἐφέζομαι πρά...  \n",
       "56303   7.1   filo  τέλος δέ ὁ συμπότης εἶδον περιβάλλω τε ἀλλήλων...  \n",
       "56304   7.4   filo  Σωκράτης δέ καί ὁ ἄλλος ὁ ὑπομένω πρός Λύκων κ...  \n",
       "56305   7.6   filo        οὗτος ὁ τότε συμπόσιον κατάλυσις γίγνομαι .  \n",
       "\n",
       "[50596 rows x 7 columns]"
      ]
     },
     "execution_count": 128,
     "metadata": {},
     "output_type": "execute_result"
    }
   ],
   "source": [
    "df_tokens_par.loc[tamanho_representativo]"
   ]
  },
  {
   "cell_type": "code",
   "execution_count": 129,
   "id": "bdd7ebfc",
   "metadata": {},
   "outputs": [
    {
     "data": {
      "text/html": [
       "<div>\n",
       "<style scoped>\n",
       "    .dataframe tbody tr th:only-of-type {\n",
       "        vertical-align: middle;\n",
       "    }\n",
       "\n",
       "    .dataframe tbody tr th {\n",
       "        vertical-align: top;\n",
       "    }\n",
       "\n",
       "    .dataframe thead th {\n",
       "        text-align: right;\n",
       "    }\n",
       "</style>\n",
       "<table border=\"1\" class=\"dataframe\">\n",
       "  <thead>\n",
       "    <tr style=\"text-align: right;\">\n",
       "      <th></th>\n",
       "      <th>author</th>\n",
       "      <th>text</th>\n",
       "      <th>file</th>\n",
       "      <th>div_sup</th>\n",
       "      <th>par</th>\n",
       "      <th>genero</th>\n",
       "      <th>lemma</th>\n",
       "      <th>lst_lemmata</th>\n",
       "    </tr>\n",
       "  </thead>\n",
       "  <tbody>\n",
       "    <tr>\n",
       "      <th>0</th>\n",
       "      <td>Herodotus</td>\n",
       "      <td>Histories</td>\n",
       "      <td>Herodotus (0016) - Histories (001).json</td>\n",
       "      <td>1</td>\n",
       "      <td>1.1</td>\n",
       "      <td>hist</td>\n",
       "      <td>Πέρσευς μέν νῦν ὁ λόγιος Φοῖνιξ αἴτιος φημί γί...</td>\n",
       "      <td>[Πέρσευς, μέν, νῦν, ὁ, λόγιος, Φοῖνιξ, αἴτιος,...</td>\n",
       "    </tr>\n",
       "    <tr>\n",
       "      <th>1</th>\n",
       "      <td>Herodotus</td>\n",
       "      <td>Histories</td>\n",
       "      <td>Herodotus (0016) - Histories (001).json</td>\n",
       "      <td>1</td>\n",
       "      <td>1.13</td>\n",
       "      <td>hist</td>\n",
       "      <td>ὁ δέ ὁ ὄνομα εἰμί , κατά αὐτός ὁ καί Ἕλλην λέγ...</td>\n",
       "      <td>[ὁ, δέ, ὁ, ὄνομα, εἰμί, ,, κατά, αὐτός, ὁ, καί...</td>\n",
       "    </tr>\n",
       "    <tr>\n",
       "      <th>2</th>\n",
       "      <td>Herodotus</td>\n",
       "      <td>Histories</td>\n",
       "      <td>Herodotus (0016) - Histories (001).json</td>\n",
       "      <td>1</td>\n",
       "      <td>1.14</td>\n",
       "      <td>hist</td>\n",
       "      <td>οὗτος ἵστημι κατά πρύμνα ὁ ναῦς ὠνέομαι ὁ φορτ...</td>\n",
       "      <td>[οὗτος, ἵστημι, κατά, πρύμνα, ὁ, ναῦς, ὠνέομαι...</td>\n",
       "    </tr>\n",
       "    <tr>\n",
       "      <th>3</th>\n",
       "      <td>Herodotus</td>\n",
       "      <td>Histories</td>\n",
       "      <td>Herodotus (0016) - Histories (001).json</td>\n",
       "      <td>1</td>\n",
       "      <td>1.17</td>\n",
       "      <td>hist</td>\n",
       "      <td>ὁ μέν δή πλείων ὁ γυνή ἀποφεύγω , ὁ δέ Ἰώ σύν ...</td>\n",
       "      <td>[ὁ, μέν, δή, πλείων, ὁ, γυνή, ἀποφεύγω, ,, ὁ, ...</td>\n",
       "    </tr>\n",
       "    <tr>\n",
       "      <th>4</th>\n",
       "      <td>Herodotus</td>\n",
       "      <td>Histories</td>\n",
       "      <td>Herodotus (0016) - Histories (001).json</td>\n",
       "      <td>1</td>\n",
       "      <td>1.19</td>\n",
       "      <td>hist</td>\n",
       "      <td>εἰσβάλλω δέ εἰς ὁ ναῦς οἴχομαι ἀποπλέω ἐπί Αἴγ...</td>\n",
       "      <td>[εἰσβάλλω, δέ, εἰς, ὁ, ναῦς, οἴχομαι, ἀποπλέω,...</td>\n",
       "    </tr>\n",
       "    <tr>\n",
       "      <th>...</th>\n",
       "      <td>...</td>\n",
       "      <td>...</td>\n",
       "      <td>...</td>\n",
       "      <td>...</td>\n",
       "      <td>...</td>\n",
       "      <td>...</td>\n",
       "      <td>...</td>\n",
       "      <td>...</td>\n",
       "    </tr>\n",
       "    <tr>\n",
       "      <th>56301</th>\n",
       "      <td>Xenophon</td>\n",
       "      <td>Symposium</td>\n",
       "      <td>Xenophon (0032) - Symposium (004).json</td>\n",
       "      <td>9</td>\n",
       "      <td>6.1</td>\n",
       "      <td>filo</td>\n",
       "      <td>ἄν ; καί γάρ ἀκούω ὁ Διόνυσος μέν ἐπερωτάω αὐτ...</td>\n",
       "      <td>[ἄν, ;, καί, γάρ, ἀκούω, ὁ, Διόνυσος, μέν, ἐπε...</td>\n",
       "    </tr>\n",
       "    <tr>\n",
       "      <th>56302</th>\n",
       "      <td>Xenophon</td>\n",
       "      <td>Symposium</td>\n",
       "      <td>Xenophon (0032) - Symposium (004).json</td>\n",
       "      <td>9</td>\n",
       "      <td>6.5</td>\n",
       "      <td>filo</td>\n",
       "      <td>ἔοικα γάρ οὐ διδάσκω ὁ σχῆμα ἀλλά ἐφέζομαι πρά...</td>\n",
       "      <td>[ἔοικα, γάρ, οὐ, διδάσκω, ὁ, σχῆμα, ἀλλά, ἐφέζ...</td>\n",
       "    </tr>\n",
       "    <tr>\n",
       "      <th>56303</th>\n",
       "      <td>Xenophon</td>\n",
       "      <td>Symposium</td>\n",
       "      <td>Xenophon (0032) - Symposium (004).json</td>\n",
       "      <td>9</td>\n",
       "      <td>7.1</td>\n",
       "      <td>filo</td>\n",
       "      <td>τέλος δέ ὁ συμπότης εἶδον περιβάλλω τε ἀλλήλων...</td>\n",
       "      <td>[τέλος, δέ, ὁ, συμπότης, εἶδον, περιβάλλω, τε,...</td>\n",
       "    </tr>\n",
       "    <tr>\n",
       "      <th>56304</th>\n",
       "      <td>Xenophon</td>\n",
       "      <td>Symposium</td>\n",
       "      <td>Xenophon (0032) - Symposium (004).json</td>\n",
       "      <td>9</td>\n",
       "      <td>7.4</td>\n",
       "      <td>filo</td>\n",
       "      <td>Σωκράτης δέ καί ὁ ἄλλος ὁ ὑπομένω πρός Λύκων κ...</td>\n",
       "      <td>[Σωκράτης, δέ, καί, ὁ, ἄλλος, ὁ, ὑπομένω, πρός...</td>\n",
       "    </tr>\n",
       "    <tr>\n",
       "      <th>56305</th>\n",
       "      <td>Xenophon</td>\n",
       "      <td>Symposium</td>\n",
       "      <td>Xenophon (0032) - Symposium (004).json</td>\n",
       "      <td>9</td>\n",
       "      <td>7.6</td>\n",
       "      <td>filo</td>\n",
       "      <td>οὗτος ὁ τότε συμπόσιον κατάλυσις γίγνομαι .</td>\n",
       "      <td>[οὗτος, ὁ, τότε, συμπόσιον, κατάλυσις, γίγνομα...</td>\n",
       "    </tr>\n",
       "  </tbody>\n",
       "</table>\n",
       "<p>56306 rows × 8 columns</p>\n",
       "</div>"
      ],
      "text/plain": [
       "          author       text                                     file div_sup  \\\n",
       "0      Herodotus  Histories  Herodotus (0016) - Histories (001).json       1   \n",
       "1      Herodotus  Histories  Herodotus (0016) - Histories (001).json       1   \n",
       "2      Herodotus  Histories  Herodotus (0016) - Histories (001).json       1   \n",
       "3      Herodotus  Histories  Herodotus (0016) - Histories (001).json       1   \n",
       "4      Herodotus  Histories  Herodotus (0016) - Histories (001).json       1   \n",
       "...          ...        ...                                      ...     ...   \n",
       "56301   Xenophon  Symposium   Xenophon (0032) - Symposium (004).json       9   \n",
       "56302   Xenophon  Symposium   Xenophon (0032) - Symposium (004).json       9   \n",
       "56303   Xenophon  Symposium   Xenophon (0032) - Symposium (004).json       9   \n",
       "56304   Xenophon  Symposium   Xenophon (0032) - Symposium (004).json       9   \n",
       "56305   Xenophon  Symposium   Xenophon (0032) - Symposium (004).json       9   \n",
       "\n",
       "        par genero                                              lemma  \\\n",
       "0       1.1   hist  Πέρσευς μέν νῦν ὁ λόγιος Φοῖνιξ αἴτιος φημί γί...   \n",
       "1      1.13   hist  ὁ δέ ὁ ὄνομα εἰμί , κατά αὐτός ὁ καί Ἕλλην λέγ...   \n",
       "2      1.14   hist  οὗτος ἵστημι κατά πρύμνα ὁ ναῦς ὠνέομαι ὁ φορτ...   \n",
       "3      1.17   hist  ὁ μέν δή πλείων ὁ γυνή ἀποφεύγω , ὁ δέ Ἰώ σύν ...   \n",
       "4      1.19   hist  εἰσβάλλω δέ εἰς ὁ ναῦς οἴχομαι ἀποπλέω ἐπί Αἴγ...   \n",
       "...     ...    ...                                                ...   \n",
       "56301   6.1   filo  ἄν ; καί γάρ ἀκούω ὁ Διόνυσος μέν ἐπερωτάω αὐτ...   \n",
       "56302   6.5   filo  ἔοικα γάρ οὐ διδάσκω ὁ σχῆμα ἀλλά ἐφέζομαι πρά...   \n",
       "56303   7.1   filo  τέλος δέ ὁ συμπότης εἶδον περιβάλλω τε ἀλλήλων...   \n",
       "56304   7.4   filo  Σωκράτης δέ καί ὁ ἄλλος ὁ ὑπομένω πρός Λύκων κ...   \n",
       "56305   7.6   filo        οὗτος ὁ τότε συμπόσιον κατάλυσις γίγνομαι .   \n",
       "\n",
       "                                             lst_lemmata  \n",
       "0      [Πέρσευς, μέν, νῦν, ὁ, λόγιος, Φοῖνιξ, αἴτιος,...  \n",
       "1      [ὁ, δέ, ὁ, ὄνομα, εἰμί, ,, κατά, αὐτός, ὁ, καί...  \n",
       "2      [οὗτος, ἵστημι, κατά, πρύμνα, ὁ, ναῦς, ὠνέομαι...  \n",
       "3      [ὁ, μέν, δή, πλείων, ὁ, γυνή, ἀποφεύγω, ,, ὁ, ...  \n",
       "4      [εἰσβάλλω, δέ, εἰς, ὁ, ναῦς, οἴχομαι, ἀποπλέω,...  \n",
       "...                                                  ...  \n",
       "56301  [ἄν, ;, καί, γάρ, ἀκούω, ὁ, Διόνυσος, μέν, ἐπε...  \n",
       "56302  [ἔοικα, γάρ, οὐ, διδάσκω, ὁ, σχῆμα, ἀλλά, ἐφέζ...  \n",
       "56303  [τέλος, δέ, ὁ, συμπότης, εἶδον, περιβάλλω, τε,...  \n",
       "56304  [Σωκράτης, δέ, καί, ὁ, ἄλλος, ὁ, ὑπομένω, πρός...  \n",
       "56305  [οὗτος, ὁ, τότε, συμπόσιον, κατάλυσις, γίγνομα...  \n",
       "\n",
       "[56306 rows x 8 columns]"
      ]
     },
     "execution_count": 129,
     "metadata": {},
     "output_type": "execute_result"
    }
   ],
   "source": [
    "def achatar(lista):\n",
    "    return list(itertools.chain(*lista))\n",
    "\n",
    "df_tokens_par['lst_lemmata'] = df_tokens_par.lemma.str.split()\n",
    "df_tokens_par"
   ]
  },
  {
   "cell_type": "code",
   "execution_count": 130,
   "id": "e84d0e5e",
   "metadata": {},
   "outputs": [
    {
     "name": "stdout",
     "output_type": "stream",
     "text": [
      "Precisão:  0.9732654360280076\n",
      "Cobertura: 0.7165787932044523\n",
      "Acurácia:  0.7702894690108328\n",
      "Medida F:  0.8254268169242188\n"
     ]
    }
   ],
   "source": [
    "x, y = df_tokens_par.lst_lemmata, df_tokens_par.genero\n",
    "\n",
    "x_treino, x_teste, y_treino, y_teste = train_test_split(x, y, test_size=0.20, random_state=42)\n",
    "filo = [x for x, y in zip(x_treino, y_treino) if y == 'filo']\n",
    "hist = [x for x, y in zip(x_treino, y_treino) if y == 'hist']\n",
    "\n",
    "vocab_filo = Counter([x for x in achatar(filo)])\n",
    "vocab_hist = Counter([x for x in achatar(hist)])\n",
    "\n",
    "n_filo = len(filo)\n",
    "n_hist = len(hist)\n",
    "n = n_filo + n_hist\n",
    "p_filo = np.log2(n_filo / n)\n",
    "p_hist = np.log2(n_hist / n)\n",
    "\n",
    "n_vocab_filo = len(vocab_filo)\n",
    "n_vocab_hist = len(vocab_hist)\n",
    "\n",
    "teste_pred_labels = []\n",
    "for t in x_teste:\n",
    "    prob_filo, prob_hist = bayes(t)\n",
    "    if prob_filo >= prob_hist:\n",
    "        teste_pred_labels.append(\"filo\")\n",
    "    else:\n",
    "        teste_pred_labels.append(\"hist\")\n",
    "\n",
    "teste_orig_labels = [x for x in y_teste]\n",
    "\n",
    "performance_labels = []\n",
    "\n",
    "for pred, label in zip(teste_pred_labels, teste_orig_labels):\n",
    "    if label == \"filo\" and pred == \"filo\":\n",
    "        performance_labels.append(\"VP\")\n",
    "    elif label == \"filo\" and pred == \"hist\":\n",
    "        performance_labels.append(\"FP\")\n",
    "    elif label == \"hist\" and pred == \"hist\":\n",
    "        performance_labels.append(\"VN\")\n",
    "    else:\n",
    "        performance_labels.append(\"FN\")\n",
    "\n",
    "perf_counter = Counter(performance_labels)\n",
    "\n",
    "perf_counter\n",
    "\n",
    "precisao = perf_counter['VP'] / (perf_counter['VP'] + perf_counter['FP'])\n",
    "cobertura = perf_counter['VP'] / (perf_counter['VP'] + perf_counter['FN'])\n",
    "acuracia = (perf_counter['VP'] + perf_counter['VN']) / len(performance_labels)\n",
    "medida_f = 2 * (precisao * cobertura) / (precisao + cobertura)\n",
    "\n",
    "print(f'Precisão:  {precisao}')\n",
    "print(f'Cobertura: {cobertura}')\n",
    "print(f'Acurácia:  {acuracia}')\n",
    "print(f'Medida F:  {medida_f}')"
   ]
  },
  {
   "cell_type": "code",
   "execution_count": 131,
   "id": "cd415965",
   "metadata": {},
   "outputs": [
    {
     "name": "stderr",
     "output_type": "stream",
     "text": [
      "/home/silenus/.cache/pypoetry/virtualenvs/lexicogenero-bQoba9Ka-py3.9/lib/python3.9/site-packages/pandas/core/frame.py:3641: SettingWithCopyWarning: \n",
      "A value is trying to be set on a copy of a slice from a DataFrame.\n",
      "Try using .loc[row_indexer,col_indexer] = value instead\n",
      "\n",
      "See the caveats in the documentation: https://pandas.pydata.org/pandas-docs/stable/user_guide/indexing.html#returning-a-view-versus-a-copy\n",
      "  self[k1] = value[k2]\n"
     ]
    }
   ],
   "source": [
    "df_verbos[['div_sup', 'par']] = df_verbos.location.str.split('.', n=1, expand=True)\n",
    "\n",
    "j = df_verbos.groupby(['author', 'text', 'file','div_sup', 'par', 'genero']).agg({\n",
    "    'lemma': lambda x: \" \".join(x),\n",
    "})\n",
    "\n",
    "df_verbos_par = j.reset_index()"
   ]
  },
  {
   "cell_type": "code",
   "execution_count": 132,
   "id": "f61b7c7d",
   "metadata": {},
   "outputs": [
    {
     "name": "stdout",
     "output_type": "stream",
     "text": [
      "Precisão:  0.9846184982797005\n",
      "Cobertura: 0.5630787037037037\n",
      "Acurácia:  0.5981006053016071\n",
      "Medida F:  0.716442088211472\n"
     ]
    }
   ],
   "source": [
    "df_verbos_par['lst_lemmata'] = df_verbos_par.lemma.str.split()\n",
    "df_verbos_par\n",
    "\n",
    "x, y = df_verbos_par.lst_lemmata, df_verbos_par.genero\n",
    "\n",
    "x_treino, x_teste, y_treino, y_teste = train_test_split(x, y, test_size=0.20)\n",
    "filo = [x for x, y in zip(x_treino, y_treino) if y == 'filo']\n",
    "hist = [x for x, y in zip(x_treino, y_treino) if y == 'hist']\n",
    "\n",
    "vocab_filo = Counter([x for x in achatar(filo)])\n",
    "vocab_hist = Counter([x for x in achatar(hist)])\n",
    "\n",
    "n_filo = len(filo)\n",
    "n_hist = len(hist)\n",
    "n = n_filo + n_hist\n",
    "p_filo = np.log2(n_filo / n)\n",
    "p_hist = np.log2(n_hist / n)\n",
    "\n",
    "n_vocab_filo = len(vocab_filo)\n",
    "n_vocab_hist = len(vocab_hist)\n",
    "\n",
    "teste_pred_labels = []\n",
    "for t in x_teste:\n",
    "    prob_filo, prob_hist = bayes(t)\n",
    "    if prob_filo >= prob_hist:\n",
    "        teste_pred_labels.append(\"filo\")\n",
    "    else:\n",
    "        teste_pred_labels.append(\"hist\")\n",
    "\n",
    "teste_orig_labels = [x for x in y_teste]\n",
    "\n",
    "performance_labels = []\n",
    "\n",
    "for pred, label in zip(teste_pred_labels, teste_orig_labels):\n",
    "    if label == \"filo\" and pred == \"filo\":\n",
    "        performance_labels.append(\"VP\")\n",
    "    elif label == \"filo\" and pred == \"hist\":\n",
    "        performance_labels.append(\"FP\")\n",
    "    elif label == \"hist\" and pred == \"hist\":\n",
    "        performance_labels.append(\"VN\")\n",
    "    else:\n",
    "        performance_labels.append(\"FN\")\n",
    "\n",
    "perf_counter = Counter(performance_labels)\n",
    "\n",
    "perf_counter\n",
    "\n",
    "precisao = perf_counter['VP'] / (perf_counter['VP'] + perf_counter['FP'])\n",
    "cobertura = perf_counter['VP'] / (perf_counter['VP'] + perf_counter['FN'])\n",
    "acuracia = (perf_counter['VP'] + perf_counter['VN']) / len(performance_labels)\n",
    "medida_f = 2 * (precisao * cobertura) / (precisao + cobertura)\n",
    "\n",
    "print(f'Precisão:  {precisao}')\n",
    "print(f'Cobertura: {cobertura}')\n",
    "print(f'Acurácia:  {acuracia}')\n",
    "print(f'Medida F:  {medida_f}')"
   ]
  },
  {
   "cell_type": "code",
   "execution_count": 142,
   "id": "81de300f",
   "metadata": {},
   "outputs": [],
   "source": [
    "texto_teste = \"Ἡροδότου Ἁλικαρνησσέος ἱστορίης ἀπόδεξις ἥδε ὡς μήτε τὰ γενόμενα ἐξ ἀνθρώπων τῷ χρόνῳ ἐξίτηλα γένηται μήτε ἔργα μεγάλα τε καὶ θωμαστά τὰ μὲν Ἕλλησι τὰ δὲ βαρβάροισι ἀποδεχθέντα ἀκλεᾶ γένηται τά τε ἄλλα καὶ δι' ἣν αἰτίην ἐπολέμησαν ἀλλήλοισι\""
   ]
  },
  {
   "cell_type": "code",
   "execution_count": 143,
   "id": "bd7e9bec",
   "metadata": {},
   "outputs": [],
   "source": [
    "import stanza\n",
    "stanza.download('grc', package='perseus')"
   ]
  },
  {
   "cell_type": "code",
   "execution_count": 144,
   "id": "d59177bc",
   "metadata": {},
   "outputs": [],
   "source": [
    "nlp_perseus = stanza.Pipeline(lang='grc', package='perseus', processors='tokenize,lemma', verbose=False)\n",
    "doc_perseus = nlp_perseus(texto_teste)"
   ]
  },
  {
   "cell_type": "code",
   "execution_count": 145,
   "id": "2f42b55e",
   "metadata": {},
   "outputs": [],
   "source": [
    "nlp_proiel = stanza.Pipeline(lang='grc', package='proiel', processors='tokenize,lemma', verbose=False)\n",
    "doc_proiel = nlp_proiel(texto_teste)"
   ]
  },
  {
   "cell_type": "code",
   "execution_count": 146,
   "id": "7b7c36e8",
   "metadata": {},
   "outputs": [
    {
     "data": {
      "text/plain": [
       "array(['Ἡροδότης', 'Ἁλικαρνησσής', 'ἱστορίη', 'ἀπόδεξις', 'ὅδε', 'ὡς',\n",
       "       'μήτε', 'ὁ', 'γίγνομαι', 'ἐκ', 'ἄνθρωπος', 'ὁ', 'χρόνος',\n",
       "       'ἐξίτηλα', 'γίγνομαι', 'μήτε', 'ἔργον', 'μέγας', 'τε', 'καί',\n",
       "       'θωμαίστα', 'ὁ', 'μέν', 'Ἕλλην', 'ὁ', 'δέ', 'βάρβαρος',\n",
       "       'ἀποδεχθέντα', 'ἀκλεᾶ', 'γίγνομαι', 'ὁ', 'τε', 'ἄλλος', 'καί',\n",
       "       \"δι'\", 'ὅς', 'αἰτία', 'πολεμέω', 'ἀλλήλων'], dtype='<U12')"
      ]
     },
     "execution_count": 146,
     "metadata": {},
     "output_type": "execute_result"
    }
   ],
   "source": [
    "np.array(doc_perseus.get('lemma'))"
   ]
  },
  {
   "cell_type": "code",
   "execution_count": 147,
   "id": "dfadbd27",
   "metadata": {},
   "outputs": [
    {
     "data": {
      "text/plain": [
       "array(['Ἡρόδοτος', 'Ἁλικαρνασσεύς', 'ἱστορία', 'ἀπόδειξις', 'ὅδε', 'ὡς',\n",
       "       'μήτε', 'ὁ', 'γίγνομαι', 'ἐκ', 'ἄνθρωπος', 'ὁ', 'χρόνος',\n",
       "       'ἐξίτηλος', 'γίγνομαι', 'μήτε', 'ἔργον', 'μέγας', 'τε', 'καί',\n",
       "       'θαυμαστός', 'ὁ', 'μέν', 'Ἕλλην', 'ὁ', 'δέ', 'βάρβαρος',\n",
       "       'ἀποδείκνυμι', 'ἀκλεής', 'γίγνομαι', 'ὁ', 'τε', 'ἄλλος', 'καί',\n",
       "       \"δι'\", 'ὅς', 'αἰτία', 'πολεμέω', 'ἀλλήλων'], dtype='<U13')"
      ]
     },
     "execution_count": 147,
     "metadata": {},
     "output_type": "execute_result"
    }
   ],
   "source": [
    "np.array(doc_proiel.get('lemma'))"
   ]
  },
  {
   "cell_type": "code",
   "execution_count": 161,
   "id": "f0dc3f6d",
   "metadata": {},
   "outputs": [
    {
     "name": "stdout",
     "output_type": "stream",
     "text": [
      "‎𐤀 CLTK version '1.0.21'.\n",
      "Pipeline for language 'Ancient Greek' (ISO: 'grc'): `GreekNormalizeProcess`, `GreekStanzaProcess`, `GreekEmbeddingsProcess`, `StopsProcess`, `GreekNERProcess`.\n"
     ]
    }
   ],
   "source": [
    "from cltk import NLP\n",
    "cltk_nlp = NLP('grc')"
   ]
  },
  {
   "cell_type": "code",
   "execution_count": 162,
   "id": "c1051217",
   "metadata": {},
   "outputs": [],
   "source": [
    "text = \"\"\"\n",
    "Ἡροδότου Ἁλικαρνησσέος ἱστορίης ἀπόδεξις ἥδε\n",
    "ὡς μήτε τὰ γενόμενα ἐξ ἀνθρώπων τῷ χρόνῳ ἐξίτηλα γένηται \n",
    "μήτε ἔργα μεγάλα τε καὶ θωμαστά τὰ μὲν Ἕλλησι τὰ δὲ βαρβάροισι\n",
    "ἀποδεχθέντα ἀκλεᾶ γένηται τά τε ἄλλα καὶ δι' ἣν αἰτίην ἐπολέμησαν ἀλλήλοισι.\n",
    "\n",
    "Περσέων μέν νυν οἱ λόγιοι Φοίνικας αἰτίους φασὶ γενέσθαι τῆς διαφορῆς.\n",
    "τούτους γὰρ ἀπὸ τῆς Ἐρυθρῆς καλεομένης θαλάσσης ἀπικομένους ἐπὶ τήνδε\n",
    "τὴν θάλασσαν, καὶ οἰκήσαντας τοῦτον τὸν χῶρον τὸν καὶ νῦν οἰκέουσι,\n",
    "αὐτίκα ναυτιλίῃσι μακρῇσι ἐπιθέσθαι, ἀπαγινέοντας δὲ φορτία Αἰγύπτιά\n",
    "τε καὶ Ἀσσύρια τῇ τε ἄλλῃ ἐσαπικνέεσθαι καὶ δὴ καὶ ἐς Ἄργος. \n",
    "\"\"\""
   ]
  },
  {
   "cell_type": "code",
   "execution_count": 163,
   "id": "a8745b44",
   "metadata": {},
   "outputs": [
    {
     "name": "stdout",
     "output_type": "stream",
     "text": [
      "['Ἡρόδατος', 'Ἁλικαρνασσεῖς', 'ἱστορεή', 'ἀπήδειξις', 'ὅδε', 'ὡς', 'μήτε', 'ὁ', 'γίγνομαι', 'ἐκ', 'ἄνθρωπος', 'ὁ', 'χρόνῳ', 'ἐξίτηλος', 'γίγνομαι', 'μήτε', 'ἔργον', 'μέγας', 'τε', 'καί', 'θαυμαστός', 'ὁ', 'μέν', 'Ἕλλην', 'ὁ', 'δέ', 'βάρβερος', 'ἀποδείκνυμι', 'ἀκλεής', 'γίγνομαι', 'ὁ', 'τε', 'ἄλλος', 'καί', \"δι'\", 'ὅς', 'αἰτίην', 'πολεμέω', 'ἀλλήλοισι.', 'Πέρσιος', 'μέν', 'νυν', 'ὁ', 'λήγιος', 'Φοῖνιξ', 'αἰτῷον', 'φημί', 'γίγνομαι', 'ὁ', 'διαφορά', 'οὗτος', 'γάρ', 'ἀπό', 'ὁ', 'ἐρυθρός', 'καλεομένης', 'θάλεσσα', 'ἀπικόμανος', 'ἐπί', 'ὅδε', 'ὁ', 'θάλασσαν,', 'καί', 'οἰκέω', 'οὗτος', 'ὁ', 'χῶρος', 'ὁ', 'καί', 'νῦν', 'οἰκεύω', 'αὐτίκα', 'ναυτιλός', 'μακρός', 'ἐπιτίθημι', 'ἀπαγίγνομαι', 'δέ', 'φορτή', 'Αἰγύπτιά', 'τε', 'καί', 'Ἀσσήριος', 'ὁ', 'τε', 'ἄλλος', 'εἰσαφικνέομαι', 'καί', 'δή', 'καί', 'εἰς', 'Ἄργος', 'ἤ']\n"
     ]
    }
   ],
   "source": [
    "doc_normalized = cltk_nlp.analyze(text)\n",
    "print(doc_normalized.lemmata)"
   ]
  },
  {
   "cell_type": "code",
   "execution_count": 164,
   "id": "b944a2de",
   "metadata": {},
   "outputs": [
    {
     "data": {
      "text/plain": [
       "cltk.alphabet.processes.GreekNormalizeProcess"
      ]
     },
     "execution_count": 164,
     "metadata": {},
     "output_type": "execute_result"
    }
   ],
   "source": [
    "cltk_nlp.pipeline.processes.pop(0)"
   ]
  },
  {
   "cell_type": "code",
   "execution_count": 165,
   "id": "7629e1d6",
   "metadata": {},
   "outputs": [
    {
     "name": "stdout",
     "output_type": "stream",
     "text": [
      "['Ἡρόδοτος', 'Ἁλικαρνασσεύς', 'ἱστορία', 'ἀπόδειξις', 'ὅδε', 'ὡς', 'μήτε', 'ὁ', 'γίγνομαι', 'ἐκ', 'ἄνθρωπος', 'ὁ', 'χρόνος', 'ἐξίτηλος', 'γίγνομαι', 'μήτε', 'ἔργον', 'μέγας', 'τε', 'καί', 'θαυμαστός', 'ὁ', 'μέν', 'Ἕλλην', 'ὁ', 'δέ', 'βάρβαρος', 'ἀποδείκνυμι', 'ἀκλεής', 'γίγνομαι', 'ὁ', 'τε', 'ἄλλος', 'καί', \"δι'\", 'ὅς', 'αἰτία', 'πολεμέω', 'ἀλλήλωνσιος', 'Πέρσης', 'μέν', 'νυν', 'ὁ', 'λόγιος', 'Φοῖνιξ', 'αἴτιος', 'φημί', 'γίγνομαι', 'ὁ', 'διαφορά', 'οὗτος', 'γάρ', 'ἀπό', 'ὁ', 'ἐρυθρός', 'καλέω', 'θάλασσα', 'ἀφικνέομαι', 'ἐπί', 'ὅδε', 'ὁ', 'θάλασσα', 'καί', 'οἰκέω', 'οὗτος', 'ὁ', 'χῶρος', 'ὁ', 'καί', 'νῦν', 'οἰκέω', 'αὐτίκα', 'ναυτιλία', 'μακρός', 'ἐπιτίθημι', 'ἀπάγω', 'δέ', 'φορτίον', 'Αἰγύπτιος', 'τε', 'καί', 'Ἀσσύριος', 'ὁ', 'τε', 'ἄλλος', 'εἰσαφικνέομαι', 'καί', 'δή', 'καί', 'εἰς', 'Ἄργος', 'ἤ']\n"
     ]
    }
   ],
   "source": [
    "doc_not_normalized = cltk_nlp.analyze(text)\n",
    "print(doc_not_normalized.lemmata)"
   ]
  },
  {
   "cell_type": "code",
   "execution_count": 171,
   "id": "8ba2418d",
   "metadata": {},
   "outputs": [
    {
     "data": {
      "text/plain": [
       "{'Ἡροδότου': ('Ἡρόδατος', 'Ἡρόδοτος'),\n",
       " 'Ἁλικαρνησσέος': ('Ἁλικαρνασσεῖς', 'Ἁλικαρνασσεύς'),\n",
       " 'ἱστορίης': ('ἱστορεή', 'ἱστορία'),\n",
       " 'ἀπόδεξις': ('ἀπήδειξις', 'ἀπόδειξις'),\n",
       " 'μήτε': ('μήτε', 'μήτε'),\n",
       " 'χρόνῳ': ('χρόνῳ', 'χρόνος'),\n",
       " 'βαρβάροισι': ('βάρβερος', 'βάρβαρος'),\n",
       " 'αἰτίην': ('αἰτίην', 'αἰτία'),\n",
       " 'ἀλλήλοισι.': ('ἀλλήλοισι.', 'ἀλλήλωνσιος'),\n",
       " 'Περσέων': ('Πέρσιος', 'Πέρσης'),\n",
       " 'μέν': ('μέν', 'μέν'),\n",
       " 'λόγιοι': ('λήγιος', 'λόγιος'),\n",
       " 'αἰτίους': ('αἰτῷον', 'αἴτιος'),\n",
       " 'καλεομένης': ('καλεομένης', 'καλέω'),\n",
       " 'θαλάσσης': ('θάλεσσα', 'θάλασσα'),\n",
       " 'ἀπικομένους': ('ἀπικόμανος', 'ἀφικνέομαι'),\n",
       " 'θάλασσαν,': ('θάλασσαν,', 'θάλασσα'),\n",
       " 'οἰκέουσι,': ('οἰκεύω', 'οἰκέω'),\n",
       " 'αὐτίκα': ('αὐτίκα', 'αὐτίκα'),\n",
       " 'ναυτιλίῃσι': ('ναυτιλός', 'ναυτιλία'),\n",
       " 'ἀπαγινέοντας': ('ἀπαγίγνομαι', 'ἀπάγω'),\n",
       " 'φορτία': ('φορτή', 'φορτίον'),\n",
       " 'Αἰγύπτιά': ('Αἰγύπτιά', 'Αἰγύπτιος'),\n",
       " 'Ἀσσύρια': ('Ἀσσήριος', 'Ἀσσύριος')}"
      ]
     },
     "execution_count": 171,
     "metadata": {},
     "output_type": "execute_result"
    }
   ],
   "source": [
    "{token:(x, y) for token,x, y in zip(doc_normalized.tokens, doc_normalized.lemmata, doc_not_normalized.lemmata) if x != y}"
   ]
  },
  {
   "cell_type": "code",
   "execution_count": null,
   "id": "12c8fbc5",
   "metadata": {},
   "outputs": [],
   "source": []
  }
 ],
 "metadata": {
  "kernelspec": {
   "display_name": "Python 3 (ipykernel)",
   "language": "python",
   "name": "python3"
  },
  "language_info": {
   "codemirror_mode": {
    "name": "ipython",
    "version": 3
   },
   "file_extension": ".py",
   "mimetype": "text/x-python",
   "name": "python",
   "nbconvert_exporter": "python",
   "pygments_lexer": "ipython3",
   "version": "3.9.9"
  }
 },
 "nbformat": 4,
 "nbformat_minor": 5
}
