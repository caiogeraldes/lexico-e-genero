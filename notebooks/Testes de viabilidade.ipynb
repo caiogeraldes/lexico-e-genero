{
 "cells": [
  {
   "cell_type": "markdown",
   "id": "f984cc55",
   "metadata": {},
   "source": [
    "# Teste de viabilidade\n",
    "\n",
    "Este notebook testa a viabilidade dos algoritmos do módulo `lexicogenero`, de minha autoria, para selecionar, dividir e organizar dados de textos em prosa em grego antigo para a disciplina FLL5133-2021.\n",
    "\n",
    "## Carregamento e organização dos dados importados do Diorisis"
   ]
  },
  {
   "cell_type": "code",
   "execution_count": 86,
   "id": "1d766ef5",
   "metadata": {},
   "outputs": [],
   "source": [
    "import pandas as pd\n",
    "import numpy as np\n",
    "import matplotlib.pyplot as plt\n",
    "from lexicogenero.ferramentas.diorisis_reader import carrega_textos, em_pandas\n",
    "from lexicogenero.main import DIORISIS_PATH\n",
    "\n",
    "%matplotlib inline\n",
    "plt.rcParams['figure.figsize'] = [10, 5]"
   ]
  },
  {
   "cell_type": "markdown",
   "id": "eafebfa9",
   "metadata": {},
   "source": [
    "Neste teste, usaremos como corpus os textos de historiografia e prosa filosófica (diálogos e tratados) de autores do período clássico:\n",
    "\n",
    "- Historiografia:\n",
    "    - Heródoto\n",
    "    - Xenofonte:\n",
    "        - Ciropédia\n",
    "        - Anábase\n",
    "        - Helênica\n",
    "    - Tucídides\n",
    "- Prosa filosófica:\n",
    "    - Platão\n",
    "    - Xenofonte:\n",
    "        - Agesilau\n",
    "        - Hierão\n",
    "        - Simpósio\n",
    "        - Apologia\n",
    "        - Memorabilia"
   ]
  },
  {
   "cell_type": "code",
   "execution_count": 2,
   "id": "f6526458",
   "metadata": {
    "collapsed": true
   },
   "outputs": [
    {
     "name": "stdout",
     "output_type": "stream",
     "text": [
      "Carregando Herodotus (0016) - Histories (001).json\n",
      "Carregando Thucydides (0003) - History (001).json\n",
      "Carregando Plato (0059) - Cleitophon (029).json\n",
      "Carregando Plato (0059) - Menexenus (028).json\n",
      "Carregando Plato (0059) - Symposium (011).json\n",
      "Carregando Plato (0059) - Hipparchus (015).json\n",
      "Carregando Plato (0059) - Lovers (016).json\n",
      "Carregando Plato (0059) - Minos (033).json\n",
      "Carregando Plato (0059) - Phaedrus (012).json\n",
      "Carregando Plato (0059) - Epinomis (035).json\n",
      "Carregando Plato (0059) - Apology (002).json\n",
      "Carregando Plato (0059) - Protagoras (022).json\n",
      "Carregando Plato (0059) - Timaeus (031).json\n",
      "Carregando Plato (0059) - Hippias Minor (026).json\n",
      "Carregando Plato (0059) - Sophist (007).json\n",
      "Carregando Plato (0059) - Gorgias (023).json\n",
      "Carregando Plato (0059) - Laches (019).json\n",
      "Carregando Plato (0059) - Critias (032).json\n",
      "Carregando Plato (0059) - Euthyphro (001).json\n",
      "Carregando Plato (0059) - Epistles (036).json\n",
      "Carregando Plato (0059) - Hippias Major (025).json\n",
      "Carregando Plato (0059) - Charmides (018).json\n",
      "Carregando Plato (0059) - Crito (003).json\n",
      "Carregando Plato (0059) - Republic (030).json\n",
      "Carregando Plato (0059) - Alcibiades 1 (013).json\n",
      "Carregando Plato (0059) - Statesman (008).json\n",
      "Carregando Plato (0059) - Lysis (020).json\n",
      "Carregando Plato (0059) - Phaedo (004).json\n",
      "Carregando Plato (0059) - Euthydemus (021).json\n",
      "Carregando Plato (0059) - Cratylus (005).json\n",
      "Carregando Plato (0059) - Laws (034).json\n",
      "Carregando Plato (0059) - Meno (024).json\n",
      "Carregando Plato (0059) - Ion (027).json\n",
      "Carregando Plato (0059) - Theaetetus (006).json\n",
      "Carregando Plato (0059) - Alcibiades 2 (014).json\n",
      "Carregando Plato (0059) - Philebus (010).json\n",
      "Carregando Plato (0059) - Parmenides (009).json\n",
      "Carregando Plato (0059) - Theages (017).json\n",
      "Carregando Xenophon (0032) - Memorabilia (002).json\n",
      "Carregando Xenophon (0032) - Hellenica (001).json\n",
      "Carregando Xenophon (0032) - Agesilaus (009).json\n",
      "Carregando Xenophon (0032) - Hiero (008).json\n",
      "Carregando Xenophon (0032) - Cyropaedia (007).json\n",
      "Carregando Xenophon (0032) - Symposium (004).json\n",
      "Carregando Xenophon (0032) - Anabasis (006).json\n"
     ]
    }
   ],
   "source": [
    "ignorados = [\n",
    "    \"Xenophon (0032) - On the Art of Horsemanship (013).json\",\n",
    "    \"Xenophon (0032) - Economics (003).json\",\n",
    "    \"Xenophon (0032) - Ways and Means (011).json\",\n",
    "    \"Xenophon (0032) - Constitution of the Lacedaemonians (010).json\",\n",
    "    \"Xenophon (0032) - On the Cavalry Commander (012).json\",\n",
    "    \"Xenophon (0032) - On Hunting (014).json\",\n",
    "    \"Xenophon (0032) - Apology (005).json\",\n",
    "]\n",
    "\n",
    "corpus = carrega_textos(autores=['Herodotus', \n",
    "                                 'Thucydides', \n",
    "                                 'Plato', \n",
    "                                 'Xenophon (0032)', # Exclui Xenofonte de Éfeso \n",
    "                                 ],\n",
    "                        diorisis_path=DIORISIS_PATH,\n",
    "                        ignore=ignorados,\n",
    "                        verbose=False)"
   ]
  },
  {
   "cell_type": "code",
   "execution_count": 3,
   "id": "0e726686",
   "metadata": {
    "collapsed": true
   },
   "outputs": [
    {
     "name": "stdout",
     "output_type": "stream",
     "text": [
      "Criando DF para: Herodotus (0016) - Histories (001).json\n",
      "Criando DF para: Thucydides (0003) - History (001).json\n",
      "Criando DF para: Plato (0059) - Cleitophon (029).json\n",
      "Criando DF para: Plato (0059) - Menexenus (028).json\n",
      "Criando DF para: Plato (0059) - Symposium (011).json\n",
      "Criando DF para: Plato (0059) - Hipparchus (015).json\n",
      "Criando DF para: Plato (0059) - Lovers (016).json\n",
      "Criando DF para: Plato (0059) - Minos (033).json\n",
      "Criando DF para: Plato (0059) - Phaedrus (012).json\n",
      "Criando DF para: Plato (0059) - Epinomis (035).json\n",
      "Criando DF para: Plato (0059) - Apology (002).json\n",
      "Criando DF para: Plato (0059) - Protagoras (022).json\n",
      "Criando DF para: Plato (0059) - Timaeus (031).json\n",
      "Criando DF para: Plato (0059) - Hippias Minor (026).json\n",
      "Criando DF para: Plato (0059) - Sophist (007).json\n",
      "Criando DF para: Plato (0059) - Gorgias (023).json\n",
      "Criando DF para: Plato (0059) - Laches (019).json\n",
      "Criando DF para: Plato (0059) - Critias (032).json\n",
      "Criando DF para: Plato (0059) - Euthyphro (001).json\n",
      "Criando DF para: Plato (0059) - Epistles (036).json\n",
      "Criando DF para: Plato (0059) - Hippias Major (025).json\n",
      "Criando DF para: Plato (0059) - Charmides (018).json\n",
      "Criando DF para: Plato (0059) - Crito (003).json\n",
      "Criando DF para: Plato (0059) - Republic (030).json\n",
      "Criando DF para: Plato (0059) - Alcibiades 1 (013).json\n",
      "Criando DF para: Plato (0059) - Statesman (008).json\n",
      "Criando DF para: Plato (0059) - Lysis (020).json\n",
      "Criando DF para: Plato (0059) - Phaedo (004).json\n",
      "Criando DF para: Plato (0059) - Euthydemus (021).json\n",
      "Criando DF para: Plato (0059) - Cratylus (005).json\n",
      "Criando DF para: Plato (0059) - Laws (034).json\n",
      "Criando DF para: Plato (0059) - Meno (024).json\n",
      "Criando DF para: Plato (0059) - Ion (027).json\n",
      "Criando DF para: Plato (0059) - Theaetetus (006).json\n",
      "Criando DF para: Plato (0059) - Alcibiades 2 (014).json\n",
      "Criando DF para: Plato (0059) - Philebus (010).json\n",
      "Criando DF para: Plato (0059) - Parmenides (009).json\n",
      "Criando DF para: Plato (0059) - Theages (017).json\n",
      "Criando DF para: Xenophon (0032) - Memorabilia (002).json\n",
      "Criando DF para: Xenophon (0032) - Hellenica (001).json\n",
      "Criando DF para: Xenophon (0032) - Agesilaus (009).json\n",
      "Criando DF para: Xenophon (0032) - Hiero (008).json\n",
      "Criando DF para: Xenophon (0032) - Cyropaedia (007).json\n",
      "Criando DF para: Xenophon (0032) - Symposium (004).json\n",
      "Criando DF para: Xenophon (0032) - Anabasis (006).json\n"
     ]
    }
   ],
   "source": [
    "df = em_pandas(corpus)"
   ]
  },
  {
   "cell_type": "code",
   "execution_count": 4,
   "id": "7ca566e7",
   "metadata": {},
   "outputs": [
    {
     "data": {
      "text/html": [
       "<div>\n",
       "<style scoped>\n",
       "    .dataframe tbody tr th:only-of-type {\n",
       "        vertical-align: middle;\n",
       "    }\n",
       "\n",
       "    .dataframe tbody tr th {\n",
       "        vertical-align: top;\n",
       "    }\n",
       "\n",
       "    .dataframe thead th {\n",
       "        text-align: right;\n",
       "    }\n",
       "</style>\n",
       "<table border=\"1\" class=\"dataframe\">\n",
       "  <thead>\n",
       "    <tr style=\"text-align: right;\">\n",
       "      <th></th>\n",
       "      <th>sent_id</th>\n",
       "      <th>location</th>\n",
       "      <th>form</th>\n",
       "      <th>lemma</th>\n",
       "      <th>POS</th>\n",
       "      <th>analyses</th>\n",
       "      <th>id</th>\n",
       "      <th>file</th>\n",
       "      <th>author</th>\n",
       "      <th>text</th>\n",
       "    </tr>\n",
       "  </thead>\n",
       "  <tbody>\n",
       "    <tr>\n",
       "      <th>0</th>\n",
       "      <td>1</td>\n",
       "      <td>1.t.1</td>\n",
       "      <td>Ἡροδότου</td>\n",
       "      <td>Ἡρόδοτος</td>\n",
       "      <td>proper</td>\n",
       "      <td>masc gen sg</td>\n",
       "      <td>1</td>\n",
       "      <td>Herodotus (0016) - Histories (001).json</td>\n",
       "      <td>Herodotus</td>\n",
       "      <td>Histories</td>\n",
       "    </tr>\n",
       "    <tr>\n",
       "      <th>1</th>\n",
       "      <td>1</td>\n",
       "      <td>1.t.1</td>\n",
       "      <td>Ἁλικαρνησσέος</td>\n",
       "      <td>Ἁλικαρνησσεύς</td>\n",
       "      <td>proper</td>\n",
       "      <td>masc gen sg (epic ionic)</td>\n",
       "      <td>2</td>\n",
       "      <td>Herodotus (0016) - Histories (001).json</td>\n",
       "      <td>Herodotus</td>\n",
       "      <td>Histories</td>\n",
       "    </tr>\n",
       "    <tr>\n",
       "      <th>2</th>\n",
       "      <td>1</td>\n",
       "      <td>1.t.1</td>\n",
       "      <td>ἱστορίης</td>\n",
       "      <td>ἱστορία</td>\n",
       "      <td>noun</td>\n",
       "      <td>fem gen sg (epic ionic)</td>\n",
       "      <td>3</td>\n",
       "      <td>Herodotus (0016) - Histories (001).json</td>\n",
       "      <td>Herodotus</td>\n",
       "      <td>Histories</td>\n",
       "    </tr>\n",
       "    <tr>\n",
       "      <th>3</th>\n",
       "      <td>1</td>\n",
       "      <td>1.t.1</td>\n",
       "      <td>ἀπόδεξις</td>\n",
       "      <td>ἀπόδεξις</td>\n",
       "      <td>noun</td>\n",
       "      <td>fem nom sg</td>\n",
       "      <td>4</td>\n",
       "      <td>Herodotus (0016) - Histories (001).json</td>\n",
       "      <td>Herodotus</td>\n",
       "      <td>Histories</td>\n",
       "    </tr>\n",
       "    <tr>\n",
       "      <th>4</th>\n",
       "      <td>1</td>\n",
       "      <td>1.t.1</td>\n",
       "      <td>ἥδε</td>\n",
       "      <td>ὅδε</td>\n",
       "      <td>pronoun</td>\n",
       "      <td>fem nom sg</td>\n",
       "      <td>5</td>\n",
       "      <td>Herodotus (0016) - Histories (001).json</td>\n",
       "      <td>Herodotus</td>\n",
       "      <td>Histories</td>\n",
       "    </tr>\n",
       "    <tr>\n",
       "      <th>...</th>\n",
       "      <td>...</td>\n",
       "      <td>...</td>\n",
       "      <td>...</td>\n",
       "      <td>...</td>\n",
       "      <td>...</td>\n",
       "      <td>...</td>\n",
       "      <td>...</td>\n",
       "      <td>...</td>\n",
       "      <td>...</td>\n",
       "      <td>...</td>\n",
       "    </tr>\n",
       "    <tr>\n",
       "      <th>63970</th>\n",
       "      <td>3804</td>\n",
       "      <td>7.8.24.1</td>\n",
       "      <td>πρὸς</td>\n",
       "      <td>πρός</td>\n",
       "      <td>preposition</td>\n",
       "      <td>indeclform (prep)</td>\n",
       "      <td>14</td>\n",
       "      <td>Xenophon (0032) - Anabasis (006).json</td>\n",
       "      <td>Xenophon</td>\n",
       "      <td>Anabasis</td>\n",
       "    </tr>\n",
       "    <tr>\n",
       "      <th>63971</th>\n",
       "      <td>3804</td>\n",
       "      <td>7.8.24.1</td>\n",
       "      <td>Τισσαφέρνην</td>\n",
       "      <td>Τισσαφέρνης</td>\n",
       "      <td>proper</td>\n",
       "      <td>masc acc sg;masc acc sg (attic epic ionic)</td>\n",
       "      <td>15</td>\n",
       "      <td>Xenophon (0032) - Anabasis (006).json</td>\n",
       "      <td>Xenophon</td>\n",
       "      <td>Anabasis</td>\n",
       "    </tr>\n",
       "    <tr>\n",
       "      <th>63972</th>\n",
       "      <td>3804</td>\n",
       "      <td>7.8.24.1</td>\n",
       "      <td>καὶ</td>\n",
       "      <td>καί</td>\n",
       "      <td>conjunction</td>\n",
       "      <td>indeclform (conj)</td>\n",
       "      <td>16</td>\n",
       "      <td>Xenophon (0032) - Anabasis (006).json</td>\n",
       "      <td>Xenophon</td>\n",
       "      <td>Anabasis</td>\n",
       "    </tr>\n",
       "    <tr>\n",
       "      <th>63973</th>\n",
       "      <td>3804</td>\n",
       "      <td>7.8.24.1</td>\n",
       "      <td>Φαρνάβαζον</td>\n",
       "      <td>Φαρνάβαζος</td>\n",
       "      <td>proper</td>\n",
       "      <td>masc acc sg</td>\n",
       "      <td>17</td>\n",
       "      <td>Xenophon (0032) - Anabasis (006).json</td>\n",
       "      <td>Xenophon</td>\n",
       "      <td>Anabasis</td>\n",
       "    </tr>\n",
       "    <tr>\n",
       "      <th>63974</th>\n",
       "      <td>3804</td>\n",
       "      <td>7.8.24.1</td>\n",
       "      <td>.</td>\n",
       "      <td>.</td>\n",
       "      <td>punct</td>\n",
       "      <td>punct</td>\n",
       "      <td>0</td>\n",
       "      <td>Xenophon (0032) - Anabasis (006).json</td>\n",
       "      <td>Xenophon</td>\n",
       "      <td>Anabasis</td>\n",
       "    </tr>\n",
       "  </tbody>\n",
       "</table>\n",
       "<p>1326860 rows × 10 columns</p>\n",
       "</div>"
      ],
      "text/plain": [
       "      sent_id  location           form          lemma          POS  \\\n",
       "0           1     1.t.1       Ἡροδότου       Ἡρόδοτος       proper   \n",
       "1           1     1.t.1  Ἁλικαρνησσέος  Ἁλικαρνησσεύς       proper   \n",
       "2           1     1.t.1       ἱστορίης        ἱστορία         noun   \n",
       "3           1     1.t.1       ἀπόδεξις       ἀπόδεξις         noun   \n",
       "4           1     1.t.1            ἥδε            ὅδε      pronoun   \n",
       "...       ...       ...            ...            ...          ...   \n",
       "63970    3804  7.8.24.1           πρὸς           πρός  preposition   \n",
       "63971    3804  7.8.24.1    Τισσαφέρνην    Τισσαφέρνης       proper   \n",
       "63972    3804  7.8.24.1            καὶ            καί  conjunction   \n",
       "63973    3804  7.8.24.1     Φαρνάβαζον     Φαρνάβαζος       proper   \n",
       "63974    3804  7.8.24.1              .              .        punct   \n",
       "\n",
       "                                         analyses  id  \\\n",
       "0                                     masc gen sg   1   \n",
       "1                        masc gen sg (epic ionic)   2   \n",
       "2                         fem gen sg (epic ionic)   3   \n",
       "3                                      fem nom sg   4   \n",
       "4                                      fem nom sg   5   \n",
       "...                                           ...  ..   \n",
       "63970                           indeclform (prep)  14   \n",
       "63971  masc acc sg;masc acc sg (attic epic ionic)  15   \n",
       "63972                           indeclform (conj)  16   \n",
       "63973                                 masc acc sg  17   \n",
       "63974                                       punct   0   \n",
       "\n",
       "                                          file     author       text  \n",
       "0      Herodotus (0016) - Histories (001).json  Herodotus  Histories  \n",
       "1      Herodotus (0016) - Histories (001).json  Herodotus  Histories  \n",
       "2      Herodotus (0016) - Histories (001).json  Herodotus  Histories  \n",
       "3      Herodotus (0016) - Histories (001).json  Herodotus  Histories  \n",
       "4      Herodotus (0016) - Histories (001).json  Herodotus  Histories  \n",
       "...                                        ...        ...        ...  \n",
       "63970    Xenophon (0032) - Anabasis (006).json   Xenophon   Anabasis  \n",
       "63971    Xenophon (0032) - Anabasis (006).json   Xenophon   Anabasis  \n",
       "63972    Xenophon (0032) - Anabasis (006).json   Xenophon   Anabasis  \n",
       "63973    Xenophon (0032) - Anabasis (006).json   Xenophon   Anabasis  \n",
       "63974    Xenophon (0032) - Anabasis (006).json   Xenophon   Anabasis  \n",
       "\n",
       "[1326860 rows x 10 columns]"
      ]
     },
     "execution_count": 4,
     "metadata": {},
     "output_type": "execute_result"
    }
   ],
   "source": [
    "df"
   ]
  },
  {
   "cell_type": "markdown",
   "id": "77733426",
   "metadata": {},
   "source": [
    "Liberando parte da memória RAM deletando valores que não serão mais utilizados:"
   ]
  },
  {
   "cell_type": "code",
   "execution_count": 5,
   "id": "fcf41624",
   "metadata": {},
   "outputs": [],
   "source": [
    "del corpus"
   ]
  },
  {
   "cell_type": "markdown",
   "id": "9fcb04bd",
   "metadata": {},
   "source": [
    "## Anotando Gênero"
   ]
  },
  {
   "cell_type": "code",
   "execution_count": 7,
   "id": "465542a6",
   "metadata": {},
   "outputs": [],
   "source": [
    "hist = [\n",
    "    \"Herodotus (0016) - Histories (001).json\",\n",
    "    \"Thucydides (0003) - History (001).json\",\n",
    "    \"Xenophon (0032) - Hellenica (001).json\",\n",
    "    \"Xenophon (0032) - Cyropaedia (007).json\",\n",
    "    \"Xenophon (0032) - Anabasis (006).json\",\n",
    "]"
   ]
  },
  {
   "cell_type": "code",
   "execution_count": 16,
   "id": "1274cd1a",
   "metadata": {},
   "outputs": [],
   "source": [
    "# Deve haver uma maneira menos rocambolesca para resolver isso\n",
    "df['genero'] = np.nan\n",
    "df.loc[df.file.isin(hist), 'genero'] = \"hist\"\n",
    "df.genero.fillna(\"filo\", inplace=True)"
   ]
  },
  {
   "cell_type": "markdown",
   "id": "b9345ae6",
   "metadata": {},
   "source": [
    "Para meu modelo funcionar, será necessário ter uma quantidade relativamente equilibrada de dados entre autores de prosa historiográfica e prosa filosófica, a seleção parece razoável.\n",
    "Qualquer tentativa de aumentar os dados de historiografia forçaria aumentar o escopo temporal (o próximo autor seria Políbio, já do período helenístico)"
   ]
  },
  {
   "cell_type": "code",
   "execution_count": 89,
   "id": "ba94d233",
   "metadata": {},
   "outputs": [
    {
     "data": {
      "text/plain": [
       "<AxesSubplot:>"
      ]
     },
     "execution_count": 89,
     "metadata": {},
     "output_type": "execute_result"
    },
    {
     "data": {
      "image/png": "[encoded data removed]",
      "text/plain": [
       "<Figure size 720x360 with 1 Axes>"
      ]
     },
     "metadata": {
      "needs_background": "light"
     },
     "output_type": "display_data"
    }
   ],
   "source": [
    "df.genero.value_counts().plot(kind='bar')"
   ]
  },
  {
   "cell_type": "markdown",
   "id": "89c2662e",
   "metadata": {},
   "source": [
    "## Verbos por gênero"
   ]
  },
  {
   "cell_type": "code",
   "execution_count": 85,
   "id": "dbaac71c",
   "metadata": {},
   "outputs": [
    {
     "data": {
      "text/html": [
       "<div>\n",
       "<style scoped>\n",
       "    .dataframe tbody tr th:only-of-type {\n",
       "        vertical-align: middle;\n",
       "    }\n",
       "\n",
       "    .dataframe tbody tr th {\n",
       "        vertical-align: top;\n",
       "    }\n",
       "\n",
       "    .dataframe thead th {\n",
       "        text-align: right;\n",
       "    }\n",
       "</style>\n",
       "<table border=\"1\" class=\"dataframe\">\n",
       "  <thead>\n",
       "    <tr style=\"text-align: right;\">\n",
       "      <th></th>\n",
       "      <th>sent_id</th>\n",
       "      <th>location</th>\n",
       "      <th>form</th>\n",
       "      <th>lemma</th>\n",
       "      <th>POS</th>\n",
       "      <th>analyses</th>\n",
       "      <th>id</th>\n",
       "      <th>file</th>\n",
       "      <th>author</th>\n",
       "      <th>text</th>\n",
       "      <th>genero</th>\n",
       "    </tr>\n",
       "  </thead>\n",
       "  <tbody>\n",
       "    <tr>\n",
       "      <th>9</th>\n",
       "      <td>1</td>\n",
       "      <td>1.t.1</td>\n",
       "      <td>γενόμενα</td>\n",
       "      <td>γίγνομαι</td>\n",
       "      <td>verb</td>\n",
       "      <td>aor part mid neut nom/voc/acc pl</td>\n",
       "      <td>9</td>\n",
       "      <td>Herodotus (0016) - Histories (001).json</td>\n",
       "      <td>Herodotus</td>\n",
       "      <td>Histories</td>\n",
       "      <td>hist</td>\n",
       "    </tr>\n",
       "    <tr>\n",
       "      <th>15</th>\n",
       "      <td>1</td>\n",
       "      <td>1.t.1</td>\n",
       "      <td>γένηται</td>\n",
       "      <td>γίγνομαι</td>\n",
       "      <td>verb</td>\n",
       "      <td>aor subj mid 3rd sg</td>\n",
       "      <td>15</td>\n",
       "      <td>Herodotus (0016) - Histories (001).json</td>\n",
       "      <td>Herodotus</td>\n",
       "      <td>Histories</td>\n",
       "      <td>hist</td>\n",
       "    </tr>\n",
       "    <tr>\n",
       "      <th>30</th>\n",
       "      <td>1</td>\n",
       "      <td>1.t.1</td>\n",
       "      <td>ἀποδεχθέντα</td>\n",
       "      <td>ἀποδέχομαι</td>\n",
       "      <td>verb</td>\n",
       "      <td>aor part pass neut nom/voc/acc pl;aor part pas...</td>\n",
       "      <td>28</td>\n",
       "      <td>Herodotus (0016) - Histories (001).json</td>\n",
       "      <td>Herodotus</td>\n",
       "      <td>Histories</td>\n",
       "      <td>hist</td>\n",
       "    </tr>\n",
       "    <tr>\n",
       "      <th>33</th>\n",
       "      <td>1</td>\n",
       "      <td>1.t.1</td>\n",
       "      <td>γένηται</td>\n",
       "      <td>γίγνομαι</td>\n",
       "      <td>verb</td>\n",
       "      <td>aor subj mid 3rd sg</td>\n",
       "      <td>30</td>\n",
       "      <td>Herodotus (0016) - Histories (001).json</td>\n",
       "      <td>Herodotus</td>\n",
       "      <td>Histories</td>\n",
       "      <td>hist</td>\n",
       "    </tr>\n",
       "    <tr>\n",
       "      <th>42</th>\n",
       "      <td>1</td>\n",
       "      <td>1.t.1</td>\n",
       "      <td>ἐπολέμησαν</td>\n",
       "      <td>πολεμέω</td>\n",
       "      <td>verb</td>\n",
       "      <td>aor ind act 3rd pl</td>\n",
       "      <td>38</td>\n",
       "      <td>Herodotus (0016) - Histories (001).json</td>\n",
       "      <td>Herodotus</td>\n",
       "      <td>Histories</td>\n",
       "      <td>hist</td>\n",
       "    </tr>\n",
       "    <tr>\n",
       "      <th>...</th>\n",
       "      <td>...</td>\n",
       "      <td>...</td>\n",
       "      <td>...</td>\n",
       "      <td>...</td>\n",
       "      <td>...</td>\n",
       "      <td>...</td>\n",
       "      <td>...</td>\n",
       "      <td>...</td>\n",
       "      <td>...</td>\n",
       "      <td>...</td>\n",
       "      <td>...</td>\n",
       "    </tr>\n",
       "    <tr>\n",
       "      <th>63955</th>\n",
       "      <td>3803</td>\n",
       "      <td>7.8.23.5</td>\n",
       "      <td>ποιεῖν</td>\n",
       "      <td>ποιέω</td>\n",
       "      <td>verb</td>\n",
       "      <td>pres inf act (attic epic doric)</td>\n",
       "      <td>8</td>\n",
       "      <td>Xenophon (0032) - Anabasis (006).json</td>\n",
       "      <td>Xenophon</td>\n",
       "      <td>Anabasis</td>\n",
       "      <td>hist</td>\n",
       "    </tr>\n",
       "    <tr>\n",
       "      <th>63960</th>\n",
       "      <td>3804</td>\n",
       "      <td>7.8.24.1</td>\n",
       "      <td>παραγενόμενος</td>\n",
       "      <td>παραγίγνομαι</td>\n",
       "      <td>verb</td>\n",
       "      <td>aor part mid masc nom sg</td>\n",
       "      <td>4</td>\n",
       "      <td>Xenophon (0032) - Anabasis (006).json</td>\n",
       "      <td>Xenophon</td>\n",
       "      <td>Anabasis</td>\n",
       "      <td>hist</td>\n",
       "    </tr>\n",
       "    <tr>\n",
       "      <th>63961</th>\n",
       "      <td>3804</td>\n",
       "      <td>7.8.24.1</td>\n",
       "      <td>παρέλαβε</td>\n",
       "      <td>παραλαμβάνω</td>\n",
       "      <td>verb</td>\n",
       "      <td>aor ind act 3rd sg</td>\n",
       "      <td>5</td>\n",
       "      <td>Xenophon (0032) - Anabasis (006).json</td>\n",
       "      <td>Xenophon</td>\n",
       "      <td>Anabasis</td>\n",
       "      <td>hist</td>\n",
       "    </tr>\n",
       "    <tr>\n",
       "      <th>63965</th>\n",
       "      <td>3804</td>\n",
       "      <td>7.8.24.1</td>\n",
       "      <td>συμμείξας</td>\n",
       "      <td>συμμίγνυμι</td>\n",
       "      <td>verb</td>\n",
       "      <td>aor part act masc nom/voc sg (attic epic ionic)</td>\n",
       "      <td>9</td>\n",
       "      <td>Xenophon (0032) - Anabasis (006).json</td>\n",
       "      <td>Xenophon</td>\n",
       "      <td>Anabasis</td>\n",
       "      <td>hist</td>\n",
       "    </tr>\n",
       "    <tr>\n",
       "      <th>63969</th>\n",
       "      <td>3804</td>\n",
       "      <td>7.8.24.1</td>\n",
       "      <td>ἐπολέμει</td>\n",
       "      <td>πολεμέω</td>\n",
       "      <td>verb</td>\n",
       "      <td>imperf ind act 3rd sg (attic epic)</td>\n",
       "      <td>13</td>\n",
       "      <td>Xenophon (0032) - Anabasis (006).json</td>\n",
       "      <td>Xenophon</td>\n",
       "      <td>Anabasis</td>\n",
       "      <td>hist</td>\n",
       "    </tr>\n",
       "  </tbody>\n",
       "</table>\n",
       "<p>239376 rows × 11 columns</p>\n",
       "</div>"
      ],
      "text/plain": [
       "      sent_id  location           form         lemma   POS  \\\n",
       "9           1     1.t.1       γενόμενα      γίγνομαι  verb   \n",
       "15          1     1.t.1        γένηται      γίγνομαι  verb   \n",
       "30          1     1.t.1    ἀποδεχθέντα    ἀποδέχομαι  verb   \n",
       "33          1     1.t.1        γένηται      γίγνομαι  verb   \n",
       "42          1     1.t.1     ἐπολέμησαν       πολεμέω  verb   \n",
       "...       ...       ...            ...           ...   ...   \n",
       "63955    3803  7.8.23.5         ποιεῖν         ποιέω  verb   \n",
       "63960    3804  7.8.24.1  παραγενόμενος  παραγίγνομαι  verb   \n",
       "63961    3804  7.8.24.1       παρέλαβε   παραλαμβάνω  verb   \n",
       "63965    3804  7.8.24.1      συμμείξας    συμμίγνυμι  verb   \n",
       "63969    3804  7.8.24.1       ἐπολέμει       πολεμέω  verb   \n",
       "\n",
       "                                                analyses  id  \\\n",
       "9                       aor part mid neut nom/voc/acc pl   9   \n",
       "15                                   aor subj mid 3rd sg  15   \n",
       "30     aor part pass neut nom/voc/acc pl;aor part pas...  28   \n",
       "33                                   aor subj mid 3rd sg  30   \n",
       "42                                    aor ind act 3rd pl  38   \n",
       "...                                                  ...  ..   \n",
       "63955                    pres inf act (attic epic doric)   8   \n",
       "63960                           aor part mid masc nom sg   4   \n",
       "63961                                 aor ind act 3rd sg   5   \n",
       "63965    aor part act masc nom/voc sg (attic epic ionic)   9   \n",
       "63969                 imperf ind act 3rd sg (attic epic)  13   \n",
       "\n",
       "                                          file     author       text genero  \n",
       "9      Herodotus (0016) - Histories (001).json  Herodotus  Histories   hist  \n",
       "15     Herodotus (0016) - Histories (001).json  Herodotus  Histories   hist  \n",
       "30     Herodotus (0016) - Histories (001).json  Herodotus  Histories   hist  \n",
       "33     Herodotus (0016) - Histories (001).json  Herodotus  Histories   hist  \n",
       "42     Herodotus (0016) - Histories (001).json  Herodotus  Histories   hist  \n",
       "...                                        ...        ...        ...    ...  \n",
       "63955    Xenophon (0032) - Anabasis (006).json   Xenophon   Anabasis   hist  \n",
       "63960    Xenophon (0032) - Anabasis (006).json   Xenophon   Anabasis   hist  \n",
       "63961    Xenophon (0032) - Anabasis (006).json   Xenophon   Anabasis   hist  \n",
       "63965    Xenophon (0032) - Anabasis (006).json   Xenophon   Anabasis   hist  \n",
       "63969    Xenophon (0032) - Anabasis (006).json   Xenophon   Anabasis   hist  \n",
       "\n",
       "[239376 rows x 11 columns]"
      ]
     },
     "execution_count": 85,
     "metadata": {},
     "output_type": "execute_result"
    }
   ],
   "source": [
    "df_verbos = df[df.POS == \"verb\"]\n",
    "df_verbos"
   ]
  },
  {
   "cell_type": "markdown",
   "id": "d809da9c",
   "metadata": {},
   "source": [
    "A filtragem não causa mudança na proporção entre documentos de historiografia e filosofia."
   ]
  },
  {
   "cell_type": "code",
   "execution_count": 79,
   "id": "cd20f024",
   "metadata": {},
   "outputs": [
    {
     "data": {
      "text/plain": [
       "<AxesSubplot:>"
      ]
     },
     "execution_count": 79,
     "metadata": {},
     "output_type": "execute_result"
    },
    {
     "data": {
      "image/png": "[encoded data removed]",
      "text/plain": [
       "<Figure size 720x360 with 1 Axes>"
      ]
     },
     "metadata": {
      "needs_background": "light"
     },
     "output_type": "display_data"
    }
   ],
   "source": [
    "df_verbos.genero.value_counts().plot(kind='bar')"
   ]
  },
  {
   "cell_type": "code",
   "execution_count": 81,
   "id": "9a191615",
   "metadata": {},
   "outputs": [
    {
     "data": {
      "text/plain": [
       "<AxesSubplot:>"
      ]
     },
     "execution_count": 81,
     "metadata": {},
     "output_type": "execute_result"
    },
    {
     "data": {
      "image/png": "[encoded data removed]",
      "text/plain": [
       "<Figure size 720x360 with 1 Axes>"
      ]
     },
     "metadata": {
      "needs_background": "light"
     },
     "output_type": "display_data"
    }
   ],
   "source": [
    "filo_verbos = df_verbos[df_verbos.genero == \"filo\"].lemma\n",
    "filo_verbos.value_counts().plot(logy=True)"
   ]
  },
  {
   "cell_type": "code",
   "execution_count": 82,
   "id": "2b1abcaa",
   "metadata": {},
   "outputs": [
    {
     "data": {
      "text/plain": [
       "<AxesSubplot:>"
      ]
     },
     "execution_count": 82,
     "metadata": {},
     "output_type": "execute_result"
    },
    {
     "data": {
      "image/png": "[encoded data removed]",
      "text/plain": [
       "<Figure size 720x360 with 1 Axes>"
      ]
     },
     "metadata": {
      "needs_background": "light"
     },
     "output_type": "display_data"
    }
   ],
   "source": [
    "hist_verbos = df_verbos[df_verbos.genero == \"hist\"].lemma\n",
    "hist_verbos.value_counts().plot(logy=True)"
   ]
  }
 ],
 "metadata": {
  "kernelspec": {
   "display_name": "Python 3 (ipykernel)",
   "language": "python",
   "name": "python3"
  },
  "language_info": {
   "codemirror_mode": {
    "name": "ipython",
    "version": 3
   },
   "file_extension": ".py",
   "mimetype": "text/x-python",
   "name": "python",
   "nbconvert_exporter": "python",
   "pygments_lexer": "ipython3",
   "version": "3.9.7"
  }
 },
 "nbformat": 4,
 "nbformat_minor": 5
}
